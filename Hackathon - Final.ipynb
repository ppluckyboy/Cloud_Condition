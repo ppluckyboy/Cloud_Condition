{
 "cells": [
  {
   "cell_type": "markdown",
   "metadata": {},
   "source": [
    "# Import Libraries"
   ]
  },
  {
   "cell_type": "code",
   "execution_count": 1,
   "metadata": {},
   "outputs": [],
   "source": [
    "# suppress display of warnings\n",
    "import warnings\n",
    "warnings.filterwarnings(\"ignore\")\n",
    "\n",
    "# 'Pandas' is used for data manipulation and analysis\n",
    "import pandas as pd \n",
    "\n",
    "# 'Numpy' is used for mathematical operations on large, multi-dimensional arrays and matrices\n",
    "import numpy as np\n",
    "\n",
    "# 'Matplotlib' is a data visualization library for 2D and 3D plots, built on numpy\n",
    "import matplotlib.pyplot as plt\n",
    "from matplotlib.colors import ListedColormap\n",
    "from collections import Counter\n",
    "\n",
    "# 'Seaborn' is based on matplotlib; used for plotting statistical graphics\n",
    "import seaborn as sns\n",
    "\n",
    "# import 'is_string_dtype' to check if the type of input is string  \n",
    "from pandas.api.types import is_string_dtype\n",
    "\n",
    "# import various functions to perform classification\n",
    "from sklearn.preprocessing import StandardScaler\n",
    "from sklearn.model_selection import train_test_split\n",
    "from sklearn import metrics\n",
    "from sklearn.linear_model import LogisticRegression\n",
    "from sklearn.metrics import classification_report\n",
    "from sklearn.metrics import cohen_kappa_score\n",
    "from sklearn.metrics import confusion_matrix\n",
    "from sklearn.metrics import roc_auc_score\n",
    "from sklearn.metrics import roc_curve\n",
    "from sklearn.linear_model import SGDClassifier\n",
    "from sklearn.model_selection import GridSearchCV\n",
    "\n",
    "# import functions to perform logistic regression\n",
    "import statsmodels\n",
    "import statsmodels.api as sm\n",
    "\n",
    "# import functions to perform feature selection\n",
    "from mlxtend.feature_selection import SequentialFeatureSelector as sfs"
   ]
  },
  {
   "cell_type": "markdown",
   "metadata": {},
   "source": [
    "# Setting Figure Size"
   ]
  },
  {
   "cell_type": "code",
   "execution_count": 2,
   "metadata": {},
   "outputs": [],
   "source": [
    "# set the plot size using 'rcParams'\n",
    "# once the plot size is set using 'rcParams', it sets the size of all the forthcoming plots in the file\n",
    "# pass width and height in inches to 'figure.figsize' \n",
    "plt.rcParams['figure.figsize'] = [12,6]"
   ]
  },
  {
   "cell_type": "markdown",
   "metadata": {},
   "source": [
    "# Set Options"
   ]
  },
  {
   "cell_type": "code",
   "execution_count": 3,
   "metadata": {},
   "outputs": [],
   "source": [
    "# display all columns of the dataframe\n",
    "pd.options.display.max_columns = None\n",
    "\n",
    "# display all rows of the dataframe\n",
    "pd.options.display.max_rows = None\n",
    "\n",
    "# use below code to convert the 'exponential' values to float\n",
    "np.set_printoptions(suppress=True)"
   ]
  },
  {
   "cell_type": "markdown",
   "metadata": {},
   "source": [
    "# Read Data"
   ]
  },
  {
   "cell_type": "code",
   "execution_count": 4,
   "metadata": {},
   "outputs": [
    {
     "data": {
      "text/html": [
       "<div>\n",
       "<style scoped>\n",
       "    .dataframe tbody tr th:only-of-type {\n",
       "        vertical-align: middle;\n",
       "    }\n",
       "\n",
       "    .dataframe tbody tr th {\n",
       "        vertical-align: top;\n",
       "    }\n",
       "\n",
       "    .dataframe thead th {\n",
       "        text-align: right;\n",
       "    }\n",
       "</style>\n",
       "<table border=\"1\" class=\"dataframe\">\n",
       "  <thead>\n",
       "    <tr style=\"text-align: right;\">\n",
       "      <th></th>\n",
       "      <th>Day</th>\n",
       "      <th>Cloud_Condition</th>\n",
       "      <th>Rain_OR_SNOW</th>\n",
       "      <th>Temperature (C)</th>\n",
       "      <th>Apparent Temperature (C)</th>\n",
       "      <th>Humidity</th>\n",
       "      <th>Wind Speed (km/h)</th>\n",
       "      <th>Wind Bearing (degrees)</th>\n",
       "      <th>Visibility (km)</th>\n",
       "      <th>Pressure (millibars)</th>\n",
       "      <th>Condensation</th>\n",
       "      <th>Solar irradiance intensity</th>\n",
       "    </tr>\n",
       "  </thead>\n",
       "  <tbody>\n",
       "    <tr>\n",
       "      <th>0</th>\n",
       "      <td>1</td>\n",
       "      <td>Partly Cloudy</td>\n",
       "      <td>rain</td>\n",
       "      <td>-13</td>\n",
       "      <td>-19.0</td>\n",
       "      <td>0.134364</td>\n",
       "      <td>17.0</td>\n",
       "      <td>68.0</td>\n",
       "      <td>4.0</td>\n",
       "      <td>1008.0</td>\n",
       "      <td>Frost</td>\n",
       "      <td>1068</td>\n",
       "    </tr>\n",
       "    <tr>\n",
       "      <th>1</th>\n",
       "      <td>2</td>\n",
       "      <td>Partly Cloudy</td>\n",
       "      <td>rain</td>\n",
       "      <td>15</td>\n",
       "      <td>5.0</td>\n",
       "      <td>0.847434</td>\n",
       "      <td>8.0</td>\n",
       "      <td>291.0</td>\n",
       "      <td>2.0</td>\n",
       "      <td>1036.0</td>\n",
       "      <td>Frost</td>\n",
       "      <td>1291</td>\n",
       "    </tr>\n",
       "    <tr>\n",
       "      <th>2</th>\n",
       "      <td>3</td>\n",
       "      <td>Partly Cloudy</td>\n",
       "      <td>rain</td>\n",
       "      <td>33</td>\n",
       "      <td>-12.0</td>\n",
       "      <td>0.763775</td>\n",
       "      <td>32.0</td>\n",
       "      <td>32.0</td>\n",
       "      <td>8.0</td>\n",
       "      <td>1004.0</td>\n",
       "      <td>Dry</td>\n",
       "      <td>1433</td>\n",
       "    </tr>\n",
       "    <tr>\n",
       "      <th>3</th>\n",
       "      <td>4</td>\n",
       "      <td>Partly Cloudy</td>\n",
       "      <td>snow</td>\n",
       "      <td>30</td>\n",
       "      <td>36.0</td>\n",
       "      <td>0.255069</td>\n",
       "      <td>15.0</td>\n",
       "      <td>130.0</td>\n",
       "      <td>3.0</td>\n",
       "      <td>1016.0</td>\n",
       "      <td>Dry</td>\n",
       "      <td>1410</td>\n",
       "    </tr>\n",
       "    <tr>\n",
       "      <th>4</th>\n",
       "      <td>5</td>\n",
       "      <td>Partly Cloudy</td>\n",
       "      <td>snow</td>\n",
       "      <td>27</td>\n",
       "      <td>30.0</td>\n",
       "      <td>0.495435</td>\n",
       "      <td>63.0</td>\n",
       "      <td>60.0</td>\n",
       "      <td>15.0</td>\n",
       "      <td>1007.0</td>\n",
       "      <td>Fog</td>\n",
       "      <td>1391</td>\n",
       "    </tr>\n",
       "  </tbody>\n",
       "</table>\n",
       "</div>"
      ],
      "text/plain": [
       "   Day Cloud_Condition Rain_OR_SNOW Temperature (C)  Apparent Temperature (C)  \\\n",
       "0    1   Partly Cloudy         rain             -13                     -19.0   \n",
       "1    2   Partly Cloudy         rain              15                       5.0   \n",
       "2    3   Partly Cloudy         rain              33                     -12.0   \n",
       "3    4   Partly Cloudy         snow              30                      36.0   \n",
       "4    5   Partly Cloudy         snow              27                      30.0   \n",
       "\n",
       "   Humidity  Wind Speed (km/h)  Wind Bearing (degrees)  Visibility (km)  \\\n",
       "0  0.134364               17.0                    68.0              4.0   \n",
       "1  0.847434                8.0                   291.0              2.0   \n",
       "2  0.763775               32.0                    32.0              8.0   \n",
       "3  0.255069               15.0                   130.0              3.0   \n",
       "4  0.495435               63.0                    60.0             15.0   \n",
       "\n",
       "   Pressure (millibars) Condensation  Solar irradiance intensity  \n",
       "0                1008.0        Frost                        1068  \n",
       "1                1036.0        Frost                        1291  \n",
       "2                1004.0          Dry                        1433  \n",
       "3                1016.0          Dry                        1410  \n",
       "4                1007.0          Fog                        1391  "
      ]
     },
     "execution_count": 4,
     "metadata": {},
     "output_type": "execute_result"
    }
   ],
   "source": [
    "# read the excel data file \n",
    "cloud_train = pd.read_csv('C:/Users/ppluc/Downloads/Dataset/train_CloudCondition.csv')\n",
    "\n",
    "# display the top 5 rows of the dataframe\n",
    "cloud_train.head()\n",
    "\n",
    "# Note: To display more rows, example 10, use head(10)"
   ]
  },
  {
   "cell_type": "code",
   "execution_count": 5,
   "metadata": {},
   "outputs": [
    {
     "data": {
      "text/html": [
       "<div>\n",
       "<style scoped>\n",
       "    .dataframe tbody tr th:only-of-type {\n",
       "        vertical-align: middle;\n",
       "    }\n",
       "\n",
       "    .dataframe tbody tr th {\n",
       "        vertical-align: top;\n",
       "    }\n",
       "\n",
       "    .dataframe thead th {\n",
       "        text-align: right;\n",
       "    }\n",
       "</style>\n",
       "<table border=\"1\" class=\"dataframe\">\n",
       "  <thead>\n",
       "    <tr style=\"text-align: right;\">\n",
       "      <th></th>\n",
       "      <th>Day</th>\n",
       "      <th>Rain_OR_SNOW</th>\n",
       "      <th>Temperature (C)</th>\n",
       "      <th>Apparent Temperature (C)</th>\n",
       "      <th>Humidity</th>\n",
       "      <th>Wind Speed (km/h)</th>\n",
       "      <th>Wind Bearing (degrees)</th>\n",
       "      <th>Visibility (km)</th>\n",
       "      <th>Pressure (millibars)</th>\n",
       "      <th>Condensation</th>\n",
       "      <th>Solar irradiance intensity</th>\n",
       "    </tr>\n",
       "  </thead>\n",
       "  <tbody>\n",
       "    <tr>\n",
       "      <th>0</th>\n",
       "      <td>80002</td>\n",
       "      <td>rain</td>\n",
       "      <td>1.0</td>\n",
       "      <td>0.0</td>\n",
       "      <td>0.078150</td>\n",
       "      <td>17.0</td>\n",
       "      <td>300</td>\n",
       "      <td>10.0</td>\n",
       "      <td>1029.0</td>\n",
       "      <td>Fog</td>\n",
       "      <td>1399</td>\n",
       "    </tr>\n",
       "    <tr>\n",
       "      <th>1</th>\n",
       "      <td>80003</td>\n",
       "      <td>rain</td>\n",
       "      <td>-3.0</td>\n",
       "      <td>25.0</td>\n",
       "      <td>0.653251</td>\n",
       "      <td>25.0</td>\n",
       "      <td>322</td>\n",
       "      <td>0.0</td>\n",
       "      <td>1009.0</td>\n",
       "      <td>Dry</td>\n",
       "      <td>1468</td>\n",
       "    </tr>\n",
       "    <tr>\n",
       "      <th>2</th>\n",
       "      <td>80004</td>\n",
       "      <td>rain</td>\n",
       "      <td>18.0</td>\n",
       "      <td>17.0</td>\n",
       "      <td>0.930970</td>\n",
       "      <td>37.0</td>\n",
       "      <td>330</td>\n",
       "      <td>12.0</td>\n",
       "      <td>1045.0</td>\n",
       "      <td>Dry</td>\n",
       "      <td>1152</td>\n",
       "    </tr>\n",
       "    <tr>\n",
       "      <th>3</th>\n",
       "      <td>80005</td>\n",
       "      <td>rain</td>\n",
       "      <td>33.0</td>\n",
       "      <td>-12.0</td>\n",
       "      <td>0.778844</td>\n",
       "      <td>50.0</td>\n",
       "      <td>350</td>\n",
       "      <td>3.0</td>\n",
       "      <td>1022.0</td>\n",
       "      <td>Fog</td>\n",
       "      <td>1003</td>\n",
       "    </tr>\n",
       "    <tr>\n",
       "      <th>4</th>\n",
       "      <td>80006</td>\n",
       "      <td>rain</td>\n",
       "      <td>25.0</td>\n",
       "      <td>-19.0</td>\n",
       "      <td>0.491523</td>\n",
       "      <td>62.0</td>\n",
       "      <td>300</td>\n",
       "      <td>12.0</td>\n",
       "      <td>1042.0</td>\n",
       "      <td>Fog</td>\n",
       "      <td>1228</td>\n",
       "    </tr>\n",
       "  </tbody>\n",
       "</table>\n",
       "</div>"
      ],
      "text/plain": [
       "     Day Rain_OR_SNOW  Temperature (C)  Apparent Temperature (C)  Humidity  \\\n",
       "0  80002         rain              1.0                       0.0  0.078150   \n",
       "1  80003         rain             -3.0                      25.0  0.653251   \n",
       "2  80004         rain             18.0                      17.0  0.930970   \n",
       "3  80005         rain             33.0                     -12.0  0.778844   \n",
       "4  80006         rain             25.0                     -19.0  0.491523   \n",
       "\n",
       "   Wind Speed (km/h)  Wind Bearing (degrees)  Visibility (km)  \\\n",
       "0               17.0                     300             10.0   \n",
       "1               25.0                     322              0.0   \n",
       "2               37.0                     330             12.0   \n",
       "3               50.0                     350              3.0   \n",
       "4               62.0                     300             12.0   \n",
       "\n",
       "   Pressure (millibars) Condensation  Solar irradiance intensity  \n",
       "0                1029.0          Fog                        1399  \n",
       "1                1009.0          Dry                        1468  \n",
       "2                1045.0          Dry                        1152  \n",
       "3                1022.0          Fog                        1003  \n",
       "4                1042.0          Fog                        1228  "
      ]
     },
     "execution_count": 5,
     "metadata": {},
     "output_type": "execute_result"
    }
   ],
   "source": [
    "# read the excel data file \n",
    "cloud_test = pd.read_csv('C:/Users/ppluc/Downloads/Dataset/test_CloudCondition.csv')\n",
    "\n",
    "# display the top 5 rows of the dataframe\n",
    "cloud_test.head()\n",
    "\n",
    "# Note: To display more rows, example 10, use head(10)"
   ]
  },
  {
   "cell_type": "markdown",
   "metadata": {},
   "source": [
    "# Data Understanding and EDA"
   ]
  },
  {
   "cell_type": "code",
   "execution_count": 6,
   "metadata": {},
   "outputs": [
    {
     "data": {
      "text/plain": [
       "(71428, 12)"
      ]
     },
     "execution_count": 6,
     "metadata": {},
     "output_type": "execute_result"
    }
   ],
   "source": [
    "# checking shape of training dataset\n",
    "cloud_train.shape"
   ]
  },
  {
   "cell_type": "code",
   "execution_count": 7,
   "metadata": {},
   "outputs": [
    {
     "data": {
      "text/plain": [
       "(16452, 11)"
      ]
     },
     "execution_count": 7,
     "metadata": {},
     "output_type": "execute_result"
    }
   ],
   "source": [
    "# checking shape of testing dataset\n",
    "cloud_test.shape"
   ]
  },
  {
   "cell_type": "code",
   "execution_count": 8,
   "metadata": {},
   "outputs": [
    {
     "data": {
      "text/html": [
       "<div>\n",
       "<style scoped>\n",
       "    .dataframe tbody tr th:only-of-type {\n",
       "        vertical-align: middle;\n",
       "    }\n",
       "\n",
       "    .dataframe tbody tr th {\n",
       "        vertical-align: top;\n",
       "    }\n",
       "\n",
       "    .dataframe thead th {\n",
       "        text-align: right;\n",
       "    }\n",
       "</style>\n",
       "<table border=\"1\" class=\"dataframe\">\n",
       "  <thead>\n",
       "    <tr style=\"text-align: right;\">\n",
       "      <th></th>\n",
       "      <th>Day</th>\n",
       "      <th>Apparent Temperature (C)</th>\n",
       "      <th>Humidity</th>\n",
       "      <th>Wind Speed (km/h)</th>\n",
       "      <th>Wind Bearing (degrees)</th>\n",
       "      <th>Visibility (km)</th>\n",
       "      <th>Pressure (millibars)</th>\n",
       "      <th>Solar irradiance intensity</th>\n",
       "    </tr>\n",
       "  </thead>\n",
       "  <tbody>\n",
       "    <tr>\n",
       "      <th>count</th>\n",
       "      <td>71428.000000</td>\n",
       "      <td>71425.000000</td>\n",
       "      <td>71427.000000</td>\n",
       "      <td>71426.000000</td>\n",
       "      <td>71391.000000</td>\n",
       "      <td>71408.000000</td>\n",
       "      <td>71363.000000</td>\n",
       "      <td>71428.000000</td>\n",
       "    </tr>\n",
       "    <tr>\n",
       "      <th>mean</th>\n",
       "      <td>37170.170451</td>\n",
       "      <td>5.550606</td>\n",
       "      <td>0.501020</td>\n",
       "      <td>31.525831</td>\n",
       "      <td>179.221793</td>\n",
       "      <td>8.014606</td>\n",
       "      <td>1022.980606</td>\n",
       "      <td>1249.736546</td>\n",
       "    </tr>\n",
       "    <tr>\n",
       "      <th>std</th>\n",
       "      <td>22250.741209</td>\n",
       "      <td>19.093822</td>\n",
       "      <td>0.289431</td>\n",
       "      <td>18.507098</td>\n",
       "      <td>103.729210</td>\n",
       "      <td>4.907893</td>\n",
       "      <td>13.559828</td>\n",
       "      <td>144.828721</td>\n",
       "    </tr>\n",
       "    <tr>\n",
       "      <th>min</th>\n",
       "      <td>1.000000</td>\n",
       "      <td>-27.000000</td>\n",
       "      <td>0.000019</td>\n",
       "      <td>0.000000</td>\n",
       "      <td>0.000000</td>\n",
       "      <td>0.000000</td>\n",
       "      <td>1000.000000</td>\n",
       "      <td>1000.000000</td>\n",
       "    </tr>\n",
       "    <tr>\n",
       "      <th>25%</th>\n",
       "      <td>18275.750000</td>\n",
       "      <td>-11.000000</td>\n",
       "      <td>0.249233</td>\n",
       "      <td>16.000000</td>\n",
       "      <td>89.000000</td>\n",
       "      <td>4.000000</td>\n",
       "      <td>1011.000000</td>\n",
       "      <td>1124.000000</td>\n",
       "    </tr>\n",
       "    <tr>\n",
       "      <th>50%</th>\n",
       "      <td>36132.500000</td>\n",
       "      <td>5.000000</td>\n",
       "      <td>0.501461</td>\n",
       "      <td>31.000000</td>\n",
       "      <td>180.000000</td>\n",
       "      <td>8.000000</td>\n",
       "      <td>1023.000000</td>\n",
       "      <td>1249.000000</td>\n",
       "    </tr>\n",
       "    <tr>\n",
       "      <th>75%</th>\n",
       "      <td>53989.250000</td>\n",
       "      <td>22.000000</td>\n",
       "      <td>0.751978</td>\n",
       "      <td>48.000000</td>\n",
       "      <td>269.000000</td>\n",
       "      <td>12.000000</td>\n",
       "      <td>1035.000000</td>\n",
       "      <td>1375.000000</td>\n",
       "    </tr>\n",
       "    <tr>\n",
       "      <th>max</th>\n",
       "      <td>80000.000000</td>\n",
       "      <td>38.000000</td>\n",
       "      <td>0.999990</td>\n",
       "      <td>63.000000</td>\n",
       "      <td>359.000000</td>\n",
       "      <td>16.000000</td>\n",
       "      <td>1046.000000</td>\n",
       "      <td>1500.000000</td>\n",
       "    </tr>\n",
       "  </tbody>\n",
       "</table>\n",
       "</div>"
      ],
      "text/plain": [
       "                Day  Apparent Temperature (C)      Humidity  \\\n",
       "count  71428.000000              71425.000000  71427.000000   \n",
       "mean   37170.170451                  5.550606      0.501020   \n",
       "std    22250.741209                 19.093822      0.289431   \n",
       "min        1.000000                -27.000000      0.000019   \n",
       "25%    18275.750000                -11.000000      0.249233   \n",
       "50%    36132.500000                  5.000000      0.501461   \n",
       "75%    53989.250000                 22.000000      0.751978   \n",
       "max    80000.000000                 38.000000      0.999990   \n",
       "\n",
       "       Wind Speed (km/h)  Wind Bearing (degrees)  Visibility (km)  \\\n",
       "count       71426.000000            71391.000000     71408.000000   \n",
       "mean           31.525831              179.221793         8.014606   \n",
       "std            18.507098              103.729210         4.907893   \n",
       "min             0.000000                0.000000         0.000000   \n",
       "25%            16.000000               89.000000         4.000000   \n",
       "50%            31.000000              180.000000         8.000000   \n",
       "75%            48.000000              269.000000        12.000000   \n",
       "max            63.000000              359.000000        16.000000   \n",
       "\n",
       "       Pressure (millibars)  Solar irradiance intensity  \n",
       "count          71363.000000                71428.000000  \n",
       "mean            1022.980606                 1249.736546  \n",
       "std               13.559828                  144.828721  \n",
       "min             1000.000000                 1000.000000  \n",
       "25%             1011.000000                 1124.000000  \n",
       "50%             1023.000000                 1249.000000  \n",
       "75%             1035.000000                 1375.000000  \n",
       "max             1046.000000                 1500.000000  "
      ]
     },
     "execution_count": 8,
     "metadata": {},
     "output_type": "execute_result"
    }
   ],
   "source": [
    "# describing data for numerical feature of training dataset\n",
    "cloud_train.describe()"
   ]
  },
  {
   "cell_type": "code",
   "execution_count": 9,
   "metadata": {},
   "outputs": [
    {
     "data": {
      "text/html": [
       "<div>\n",
       "<style scoped>\n",
       "    .dataframe tbody tr th:only-of-type {\n",
       "        vertical-align: middle;\n",
       "    }\n",
       "\n",
       "    .dataframe tbody tr th {\n",
       "        vertical-align: top;\n",
       "    }\n",
       "\n",
       "    .dataframe thead th {\n",
       "        text-align: right;\n",
       "    }\n",
       "</style>\n",
       "<table border=\"1\" class=\"dataframe\">\n",
       "  <thead>\n",
       "    <tr style=\"text-align: right;\">\n",
       "      <th></th>\n",
       "      <th>Cloud_Condition</th>\n",
       "      <th>Rain_OR_SNOW</th>\n",
       "      <th>Temperature (C)</th>\n",
       "      <th>Condensation</th>\n",
       "    </tr>\n",
       "  </thead>\n",
       "  <tbody>\n",
       "    <tr>\n",
       "      <th>count</th>\n",
       "      <td>71428</td>\n",
       "      <td>71313</td>\n",
       "      <td>71176</td>\n",
       "      <td>71428</td>\n",
       "    </tr>\n",
       "    <tr>\n",
       "      <th>unique</th>\n",
       "      <td>26</td>\n",
       "      <td>2</td>\n",
       "      <td>123</td>\n",
       "      <td>4</td>\n",
       "    </tr>\n",
       "    <tr>\n",
       "      <th>top</th>\n",
       "      <td>Mostly Cloudy</td>\n",
       "      <td>rain</td>\n",
       "      <td>6</td>\n",
       "      <td>Mist</td>\n",
       "    </tr>\n",
       "    <tr>\n",
       "      <th>freq</th>\n",
       "      <td>22017</td>\n",
       "      <td>62316</td>\n",
       "      <td>1141</td>\n",
       "      <td>21685</td>\n",
       "    </tr>\n",
       "  </tbody>\n",
       "</table>\n",
       "</div>"
      ],
      "text/plain": [
       "       Cloud_Condition Rain_OR_SNOW Temperature (C) Condensation\n",
       "count            71428        71313           71176        71428\n",
       "unique              26            2             123            4\n",
       "top      Mostly Cloudy         rain               6         Mist\n",
       "freq             22017        62316            1141        21685"
      ]
     },
     "execution_count": 9,
     "metadata": {},
     "output_type": "execute_result"
    }
   ],
   "source": [
    "# describing dataset for categorical variable\n",
    "cloud_train.describe(include = 'object')"
   ]
  },
  {
   "cell_type": "code",
   "execution_count": 10,
   "metadata": {},
   "outputs": [
    {
     "name": "stdout",
     "output_type": "stream",
     "text": [
      "<class 'pandas.core.frame.DataFrame'>\n",
      "RangeIndex: 71428 entries, 0 to 71427\n",
      "Data columns (total 12 columns):\n",
      " #   Column                      Non-Null Count  Dtype  \n",
      "---  ------                      --------------  -----  \n",
      " 0   Day                         71428 non-null  int64  \n",
      " 1   Cloud_Condition             71428 non-null  object \n",
      " 2   Rain_OR_SNOW                71313 non-null  object \n",
      " 3   Temperature (C)             71176 non-null  object \n",
      " 4   Apparent Temperature (C)    71425 non-null  float64\n",
      " 5   Humidity                    71427 non-null  float64\n",
      " 6   Wind Speed (km/h)           71426 non-null  float64\n",
      " 7   Wind Bearing (degrees)      71391 non-null  float64\n",
      " 8   Visibility (km)             71408 non-null  float64\n",
      " 9   Pressure (millibars)        71363 non-null  float64\n",
      " 10  Condensation                71428 non-null  object \n",
      " 11  Solar irradiance intensity  71428 non-null  int64  \n",
      "dtypes: float64(6), int64(2), object(4)\n",
      "memory usage: 6.5+ MB\n"
     ]
    }
   ],
   "source": [
    "# checking information of training dataset\n",
    "cloud_train.info()"
   ]
  },
  {
   "cell_type": "code",
   "execution_count": 11,
   "metadata": {},
   "outputs": [
    {
     "data": {
      "text/plain": [
       "Day                           71428\n",
       "Cloud_Condition                  26\n",
       "Rain_OR_SNOW                      2\n",
       "Temperature (C)                 123\n",
       "Apparent Temperature (C)         66\n",
       "Humidity                      71427\n",
       "Wind Speed (km/h)                64\n",
       "Wind Bearing (degrees)          360\n",
       "Visibility (km)                  17\n",
       "Pressure (millibars)             47\n",
       "Condensation                      4\n",
       "Solar irradiance intensity      501\n",
       "dtype: int64"
      ]
     },
     "execution_count": 11,
     "metadata": {},
     "output_type": "execute_result"
    }
   ],
   "source": [
    "# checking number of unique values in training dataset\n",
    "cloud_train.nunique()"
   ]
  },
  {
   "cell_type": "code",
   "execution_count": 12,
   "metadata": {},
   "outputs": [
    {
     "name": "stdout",
     "output_type": "stream",
     "text": [
      "<class 'pandas.core.frame.DataFrame'>\n",
      "RangeIndex: 16452 entries, 0 to 16451\n",
      "Data columns (total 11 columns):\n",
      " #   Column                      Non-Null Count  Dtype  \n",
      "---  ------                      --------------  -----  \n",
      " 0   Day                         16452 non-null  int64  \n",
      " 1   Rain_OR_SNOW                16452 non-null  object \n",
      " 2   Temperature (C)             16452 non-null  float64\n",
      " 3   Apparent Temperature (C)    16452 non-null  float64\n",
      " 4   Humidity                    16452 non-null  float64\n",
      " 5   Wind Speed (km/h)           16452 non-null  float64\n",
      " 6   Wind Bearing (degrees)      16452 non-null  int64  \n",
      " 7   Visibility (km)             16452 non-null  float64\n",
      " 8   Pressure (millibars)        16452 non-null  float64\n",
      " 9   Condensation                16452 non-null  object \n",
      " 10  Solar irradiance intensity  16452 non-null  int64  \n",
      "dtypes: float64(6), int64(3), object(2)\n",
      "memory usage: 1.4+ MB\n"
     ]
    }
   ],
   "source": [
    "#checking information of test dataset\n",
    "cloud_test.info()"
   ]
  },
  {
   "cell_type": "code",
   "execution_count": 13,
   "metadata": {},
   "outputs": [
    {
     "data": {
      "text/plain": [
       "Mostly Cloudy                          22017\n",
       "Partly Cloudy                          17613\n",
       "Overcast                               13612\n",
       "Clear                                   9719\n",
       "Foggy                                   5900\n",
       "Breezy and Dry                           656\n",
       "Breezy and Mostly Cloudy                 473\n",
       "Breezy and Overcast                      454\n",
       "Breezy and Partly Cloudy                 350\n",
       "Light Rain                               214\n",
       "Dry and Partly Cloudy                     86\n",
       "Windy and Partly Cloudy                   63\n",
       "Breezy                                    45\n",
       "Windy and Overcast                        43\n",
       "Dry                                       34\n",
       "Breezy and Foggy                          34\n",
       "Humid and Mostly Cloudy                   32\n",
       "Windy and Mostly Cloudy                   32\n",
       "Humid and Partly Cloudy                   17\n",
       "Dry and Mostly Cloudy                     14\n",
       "Humid and Overcast                         5\n",
       "Drizzle                                    5\n",
       "Windy                                      5\n",
       "Windy and Foggy                            3\n",
       "Windy and Dry                              1\n",
       "Dangerously Windy and Partly Cloudy        1\n",
       "Name: Cloud_Condition, dtype: int64"
      ]
     },
     "execution_count": 13,
     "metadata": {},
     "output_type": "execute_result"
    }
   ],
   "source": [
    "cloud_train['Cloud_Condition'].value_counts()"
   ]
  },
  {
   "cell_type": "code",
   "execution_count": 14,
   "metadata": {},
   "outputs": [
    {
     "data": {
      "text/plain": [
       "Day                           0\n",
       "Rain_OR_SNOW                  0\n",
       "Temperature (C)               0\n",
       "Apparent Temperature (C)      0\n",
       "Humidity                      0\n",
       "Wind Speed (km/h)             0\n",
       "Wind Bearing (degrees)        0\n",
       "Visibility (km)               0\n",
       "Pressure (millibars)          0\n",
       "Condensation                  0\n",
       "Solar irradiance intensity    0\n",
       "dtype: int64"
      ]
     },
     "execution_count": 14,
     "metadata": {},
     "output_type": "execute_result"
    }
   ],
   "source": [
    "# checking null values in testing dataset\n",
    "cloud_test.isnull().sum()"
   ]
  },
  {
   "cell_type": "code",
   "execution_count": 15,
   "metadata": {},
   "outputs": [
    {
     "data": {
      "text/plain": [
       "Day                           16452\n",
       "Rain_OR_SNOW                      2\n",
       "Temperature (C)                 164\n",
       "Apparent Temperature (C)        166\n",
       "Humidity                      16385\n",
       "Wind Speed (km/h)               165\n",
       "Wind Bearing (degrees)          360\n",
       "Visibility (km)                  53\n",
       "Pressure (millibars)            150\n",
       "Condensation                      4\n",
       "Solar irradiance intensity      501\n",
       "dtype: int64"
      ]
     },
     "execution_count": 15,
     "metadata": {},
     "output_type": "execute_result"
    }
   ],
   "source": [
    "# checking number of unique values in each feature\n",
    "cloud_test.nunique()"
   ]
  },
  {
   "cell_type": "code",
   "execution_count": 16,
   "metadata": {
    "scrolled": true
   },
   "outputs": [
    {
     "name": "stdout",
     "output_type": "stream",
     "text": [
      "Day\n",
      "[    1     2     3 ... 79998 79999 80000]\n",
      "Cloud_Condition\n",
      "['Partly Cloudy' 'Light Rain' 'Breezy and Dry' 'Overcast' 'Foggy'\n",
      " 'Breezy and Mostly Cloudy' 'Clear' 'Breezy and Partly Cloudy'\n",
      " 'Breezy and Overcast' 'Humid and Mostly Cloudy' 'Mostly Cloudy'\n",
      " 'Humid and Partly Cloudy' 'Windy and Foggy' 'Windy and Overcast'\n",
      " 'Breezy and Foggy' 'Windy and Partly Cloudy' 'Breezy'\n",
      " 'Dry and Partly Cloudy' 'Windy and Mostly Cloudy'\n",
      " 'Dangerously Windy and Partly Cloudy' 'Dry' 'Windy' 'Humid and Overcast'\n",
      " 'Drizzle' 'Windy and Dry' 'Dry and Mostly Cloudy']\n",
      "Rain_OR_SNOW\n",
      "['rain' 'snow' nan]\n",
      "Temperature (C)\n",
      "['-13' '15' '33' '30' '27' '-17' '-5' '-14' '10' '7' '9' '20' '3' '29'\n",
      " '-8' '-15' '-20' '36' '32' '6' '17' '28' '-21' '23' '-4' '25' '-7' '16'\n",
      " '39' '-1' '13' '35' '22' '12' '14' '1' '8' '-3' '38' '5' '37' '-10' '19'\n",
      " '34' '26' '0' '24' '11' '21' '-9' '-2' '4' '-19' '-6' '2' '-16' '-11'\n",
      " '18' '31' '-18' '-12' nan '-' 16 30 17 -13 36 4 9 10 13 27 -8 -16 34 2\n",
      " -11 -9 -10 -5 39 14 7 20 -3 15 24 35 25 -12 26 -14 19 5 38 -4 -17 0 8 21\n",
      " -20 -21 37 22 11 28 12 -18 29 1 -2 -7 -6 33 3 32 -1 6 -15 18 23 31 -19]\n",
      "Apparent Temperature (C)\n",
      "[-19.   5. -12.  36.  30.  33.  21.  -1. -15.  35. -24.  22.  28. -27.\n",
      "   7.   2. -14.  13. -25. -26.   0.  27.   1.  29.  17.  31.  10.  26.\n",
      "  -4.  15.  37.  -3.  11.   9.  23. -23.  34.   4.  24.  -5.  19.  20.\n",
      " -16.  38.  -7. -22.  12.  -6.  -2.  18. -11. -20.  25. -18. -17.   8.\n",
      " -13.  14.  16.   6.  -9. -21. -10.   3.  nan  -8.  32.]\n",
      "Humidity\n",
      "[0.13436424 0.84743374 0.76377462 ... 0.49607649 0.78316099 0.1915549 ]\n",
      "Wind Speed (km/h)\n",
      "[17.  8. 32. 15. 63. 57. 60. 48. 26. 12. 62.  3. 49. 55.  0. 34. 29. 13.\n",
      " 40.  2.  1. 27. 54. 28. 56. 44. 58. 37. 53. 23. 42. 24. 38. 36. 50.  4.\n",
      " 61. 31. 51. 22. 46. 47. 11. 20.  5. 39. 21. 25. 45. 16.  7. 52.  9. 10.\n",
      " 35. 14. 41. 43. 33. 18.  6. 30. 19. 59. nan]\n",
      "Wind Bearing (degrees)\n",
      "[ 68. 291.  32. 130.  60. 253. 230. 241. 333. 194. 107.  48. 249.  14.\n",
      " 199. 221. 311.   1. 356. 228. 136. 117. 302.  52. 162.  15.  11.  13.\n",
      " 332. 277.   4. 195. 351. 110. 216. 270. 113. 224. 283. 119. 176. 118.\n",
      " 346. 112. 235. 148. 213. 284. 328.  51.  95. 322. 151.  61. 170. 256.\n",
      " 259. 343.  97. 155. 145. 300. 255. 258. 201. 301.  17. 245. 124. 206.\n",
      " 212. 340.  88. 187. 280. 359. 345. 191.  44. 339. 260.  55.  83. 266.\n",
      " 189. 250. 240.  22. 157. 314. 303. 296. 331.  87.  86. 257. 116.   6.\n",
      " 102. 276. 207. 263. 295. 180. 137. 337.   2. 196. 262.  66. 265. 287.\n",
      " 105. 218.  28. 246. 186. 211. 248. 182. 177.   0. 275. 319. 313. 169.\n",
      " 234. 307. 325.  90. 281. 299.  92.  46. 282.  16. 344.  36.  42.   8.\n",
      " 231.   7. 143. 127.  56.  94.  35.  85.  81. 336. 139. 150. 232. 164.\n",
      " 254. 242.  58.  12. 159. 197. 175. 215.  96. 132. 129. 261. 310.  10.\n",
      " 115.   9. 203.  74.  18.  82. 347. 278. 355. 264. 114. 268. 202. 294.\n",
      " 323.  30. 152.  64. 108.  24. 156.  39. 158. 289.  19. 111. 318. 193.\n",
      "  50. 293.  99. 252.  53. 166. 205. 144.  80. 167. 288.  69. 173. 219.\n",
      " 109.  49. 273. 272. 120.  33.  20.  43. 188. 174. 149. 309. 208.  37.\n",
      "  75. 292.  41. 141.  23. 122.  59. 348. 123. 222. 244. 161. 106.   5.\n",
      " 305. 163. 200. 160. 204. 233.  57. 128. 316. 352. 338.  93. 101. 126.\n",
      " 184.  45. 229. 329.  21. 125. 171.  47.  38. 183.  78.  91.  76.  72.\n",
      "  54. 308. 279. 353. 153. 341. 349. 220. 330.  31. 354. 181.  70.   3.\n",
      " 327. 172. 286. 312. 334. 140. 104. 190.  84. 237. 304.  63.  79.  26.\n",
      " 326. 178. 321.  71. 315. 358. 227. 209. 142. 133. 251.  62. 223. 165.\n",
      " 226. 179. 285. 306. 236. 317. 342. 271. 269.  34. 324. 138. 135. 210.\n",
      " 350.  77. 239. 121. 357. 267.  25. 247. 168. 320. 297. 134. 225.  40.\n",
      " 147. 100. 198.  29. 274.  98.  89. 217.  27.  65. 154. 185. 131. 103.\n",
      "  67. 214. 290.  73. 243. 335. 192. 298. 238. 146.  nan]\n",
      "Visibility (km)\n",
      "[ 4.  2.  8.  3. 15. 14. 12.  6.  0. 13.  7. 10. 16. 11.  9.  5.  1. nan]\n",
      "Pressure (millibars)\n",
      "[1008. 1036. 1004. 1016. 1007. 1031. 1028. 1030. 1041. 1024. 1013. 1006.\n",
      "   nan 1027. 1038. 1000. 1044. 1017. 1046. 1014. 1037. 1020. 1001. 1034.\n",
      " 1043. 1033. 1035. 1022. 1029. 1018. 1026. 1011. 1040. 1021. 1045. 1032.\n",
      " 1042. 1012. 1019. 1025. 1002. 1015. 1023. 1005. 1010. 1039. 1003. 1009.]\n",
      "Condensation\n",
      "['Frost' 'Dry' 'Fog' 'Mist']\n",
      "Solar irradiance intensity\n",
      "[1068 1291 1433 1410 1391 1032 1130 1060 1253 1389 1230 1241 1333 1194\n",
      " 1403 1107 1048 1249 1014 1457 1427 1199 1221 1311 1390 1392 1001 1356\n",
      " 1228 1136 1369 1117 1302 1483 1052 1461 1162 1015 1011 1013 1332 1277\n",
      " 1004 1480 1451 1195 1351 1110 1496 1216 1371 1270 1113 1224 1283 1119\n",
      " 1176 1118 1346 1112 1235 1487 1148 1474 1213 1428 1469 1284 1472 1328\n",
      " 1051 1095 1322 1370 1440 1151 1061 1380 1170 1458 1498 1364 1256 1479\n",
      " 1495 1259 1424 1466 1343 1097 1155 1145 1300 1255 1481 1258 1201 1301\n",
      " 1436 1017 1245 1124 1408 1206 1212 1340 1088 1187 1280 1359 1397 1345\n",
      " 1377 1191 1044 1339 1260 1055 1398 1083 1266 1430 1189 1250 1375 1240\n",
      " 1022 1157 1360 1434 1314 1303 1296 1331 1087 1086 1257 1116 1006 1394\n",
      " 1102 1276 1471 1207 1263 1295 1180 1465 1137 1337 1490 1373 1002 1196\n",
      " 1401 1438 1420 1488 1453 1379 1262 1414 1066 1265 1287 1105 1218 1486\n",
      " 1028 1246 1445 1186 1211 1248 1416 1182 1177 1000 1275 1319 1402 1313\n",
      " 1169 1234 1307 1411 1325 1090 1281 1299 1092 1046 1282 1435 1418 1476\n",
      " 1016 1344 1036 1042 1444 1008 1231 1007 1386 1143 1127 1056 1094 1035\n",
      " 1085 1081 1336 1139 1150 1232 1164 1254 1242 1058 1012 1159 1197 1175\n",
      " 1215 1407 1096 1132 1129 1460 1261 1500 1494 1310 1499 1010 1115 1009\n",
      " 1203 1074 1018 1368 1491 1082 1347 1278 1426 1355 1264 1114 1268 1202\n",
      " 1294 1323 1030 1152 1064 1108 1448 1024 1156 1439 1039 1158 1289 1449\n",
      " 1019 1419 1111 1492 1423 1399 1318 1193 1050 1293 1459 1099 1252 1053\n",
      " 1166 1446 1205 1144 1080 1167 1415 1288 1400 1069 1173 1219 1109 1049\n",
      " 1477 1468 1273 1393 1272 1120 1033 1020 1043 1388 1188 1174 1149 1309\n",
      " 1366 1454 1208 1037 1443 1075 1292 1041 1456 1473 1141 1023 1422 1404\n",
      " 1122 1059 1348 1123 1432 1222 1493 1412 1244 1161 1106 1005 1305 1163\n",
      " 1200 1160 1204 1467 1233 1057 1128 1316 1352 1338 1093 1101 1126 1184\n",
      " 1045 1385 1229 1329 1021 1405 1125 1171 1413 1047 1038 1384 1183 1441\n",
      " 1078 1091 1076 1072 1054 1363 1470 1308 1279 1462 1464 1382 1353 1153\n",
      " 1365 1341 1349 1220 1406 1330 1031 1354 1181 1070 1003 1327 1374 1489\n",
      " 1172 1286 1312 1372 1334 1140 1497 1452 1104 1190 1084 1237 1304 1063\n",
      " 1079 1482 1387 1026 1367 1326 1178 1321 1071 1315 1431 1358 1227 1209\n",
      " 1142 1383 1133 1437 1251 1062 1450 1223 1165 1226 1179 1285 1306 1378\n",
      " 1236 1381 1317 1342 1271 1269 1034 1324 1138 1417 1135 1362 1210 1447\n",
      " 1350 1077 1239 1484 1121 1357 1425 1267 1025 1376 1247 1168 1361 1475\n",
      " 1320 1297 1134 1225 1455 1040 1147 1100 1198 1029 1463 1274 1098 1478\n",
      " 1089 1217 1027 1065 1409 1154 1185 1429 1131 1103 1067 1395 1396 1214\n",
      " 1290 1073 1485 1243 1335 1192 1298 1238 1146 1421 1442]\n"
     ]
    }
   ],
   "source": [
    "#checking unique value of each column in each features\n",
    "# applying unique on each features\n",
    "for i in cloud_train.columns:\n",
    "    print(i)\n",
    "    print(cloud_train[i].unique())"
   ]
  },
  {
   "cell_type": "markdown",
   "metadata": {},
   "source": [
    "### splitting data into numerical and categorical"
   ]
  },
  {
   "cell_type": "code",
   "execution_count": 17,
   "metadata": {},
   "outputs": [
    {
     "data": {
      "text/plain": [
       "Index(['Day', 'Apparent Temperature (C)', 'Humidity', 'Wind Speed (km/h)',\n",
       "       'Wind Bearing (degrees)', 'Visibility (km)', 'Pressure (millibars)',\n",
       "       'Solar irradiance intensity'],\n",
       "      dtype='object')"
      ]
     },
     "execution_count": 17,
     "metadata": {},
     "output_type": "execute_result"
    }
   ],
   "source": [
    "# selecting numerical variable\n",
    "# selecting data_types with select_dtypes\n",
    "# selecting numerical with np.number\n",
    "df_num = cloud_train.select_dtypes(np.number)\n",
    "df_num.columns"
   ]
  },
  {
   "cell_type": "code",
   "execution_count": 18,
   "metadata": {},
   "outputs": [
    {
     "data": {
      "text/plain": [
       "Index(['Cloud_Condition', 'Rain_OR_SNOW', 'Temperature (C)', 'Condensation'], dtype='object')"
      ]
     },
     "execution_count": 18,
     "metadata": {},
     "output_type": "execute_result"
    }
   ],
   "source": [
    "# selecting categorical variable\n",
    "# selecting data_types with select_dtypes\n",
    "# selecting categorical variable with 'object'\n",
    "df_cat = cloud_train.select_dtypes('object')\n",
    "df_cat.columns"
   ]
  },
  {
   "cell_type": "markdown",
   "metadata": {},
   "source": [
    "#### dropping unique features"
   ]
  },
  {
   "cell_type": "code",
   "execution_count": 19,
   "metadata": {},
   "outputs": [],
   "source": [
    "# dropping 'Day' feature \n",
    "# 'Day' is unique value\n",
    "cloud_train.drop('Day', axis=1, inplace = True)"
   ]
  },
  {
   "cell_type": "code",
   "execution_count": 20,
   "metadata": {},
   "outputs": [],
   "source": [
    "# storing Days in test_day\n",
    "test_day = cloud_test['Day']"
   ]
  },
  {
   "cell_type": "code",
   "execution_count": 21,
   "metadata": {},
   "outputs": [],
   "source": [
    "# dropping 'Day' feature \n",
    "# 'Day' is unique value\n",
    "cloud_test.drop('Day', axis=1, inplace = True)"
   ]
  },
  {
   "cell_type": "markdown",
   "metadata": {},
   "source": [
    "#### changing Temperature from object to float"
   ]
  },
  {
   "cell_type": "markdown",
   "metadata": {},
   "source": [
    "we can see that there is 1 values like '-' so we need to replace it by its mode value"
   ]
  },
  {
   "cell_type": "code",
   "execution_count": 22,
   "metadata": {},
   "outputs": [],
   "source": [
    "# replacing '-' value with mode value\n",
    "cloud_train['Temperature (C)'] = cloud_train['Temperature (C)'].replace('-', cloud_train['Temperature (C)'].mode()[0])"
   ]
  },
  {
   "cell_type": "code",
   "execution_count": 23,
   "metadata": {},
   "outputs": [],
   "source": [
    "# now changing cloud_train['Temperature (C)'] into float value\n",
    "\n",
    "cloud_train['Temperature (C)'] = cloud_train['Temperature (C)'].astype(float)"
   ]
  },
  {
   "cell_type": "code",
   "execution_count": 24,
   "metadata": {},
   "outputs": [
    {
     "name": "stdout",
     "output_type": "stream",
     "text": [
      "<class 'pandas.core.frame.DataFrame'>\n",
      "RangeIndex: 71428 entries, 0 to 71427\n",
      "Data columns (total 11 columns):\n",
      " #   Column                      Non-Null Count  Dtype  \n",
      "---  ------                      --------------  -----  \n",
      " 0   Cloud_Condition             71428 non-null  object \n",
      " 1   Rain_OR_SNOW                71313 non-null  object \n",
      " 2   Temperature (C)             71176 non-null  float64\n",
      " 3   Apparent Temperature (C)    71425 non-null  float64\n",
      " 4   Humidity                    71427 non-null  float64\n",
      " 5   Wind Speed (km/h)           71426 non-null  float64\n",
      " 6   Wind Bearing (degrees)      71391 non-null  float64\n",
      " 7   Visibility (km)             71408 non-null  float64\n",
      " 8   Pressure (millibars)        71363 non-null  float64\n",
      " 9   Condensation                71428 non-null  object \n",
      " 10  Solar irradiance intensity  71428 non-null  int64  \n",
      "dtypes: float64(7), int64(1), object(3)\n",
      "memory usage: 6.0+ MB\n"
     ]
    }
   ],
   "source": [
    "# checking information again for dataset\n",
    "cloud_train.info()"
   ]
  },
  {
   "cell_type": "code",
   "execution_count": null,
   "metadata": {},
   "outputs": [],
   "source": []
  },
  {
   "cell_type": "code",
   "execution_count": null,
   "metadata": {},
   "outputs": [],
   "source": []
  },
  {
   "cell_type": "code",
   "execution_count": null,
   "metadata": {},
   "outputs": [],
   "source": []
  },
  {
   "cell_type": "code",
   "execution_count": null,
   "metadata": {},
   "outputs": [],
   "source": []
  },
  {
   "cell_type": "code",
   "execution_count": null,
   "metadata": {},
   "outputs": [],
   "source": []
  },
  {
   "cell_type": "code",
   "execution_count": null,
   "metadata": {},
   "outputs": [],
   "source": []
  },
  {
   "cell_type": "markdown",
   "metadata": {},
   "source": [
    "# Missing Values"
   ]
  },
  {
   "cell_type": "code",
   "execution_count": 25,
   "metadata": {},
   "outputs": [
    {
     "data": {
      "text/plain": [
       "Cloud_Condition                 0\n",
       "Rain_OR_SNOW                  115\n",
       "Temperature (C)               252\n",
       "Apparent Temperature (C)        3\n",
       "Humidity                        1\n",
       "Wind Speed (km/h)               2\n",
       "Wind Bearing (degrees)         37\n",
       "Visibility (km)                20\n",
       "Pressure (millibars)           65\n",
       "Condensation                    0\n",
       "Solar irradiance intensity      0\n",
       "dtype: int64"
      ]
     },
     "execution_count": 25,
     "metadata": {},
     "output_type": "execute_result"
    }
   ],
   "source": [
    "# checking missing values in the dataset\n",
    "cloud_train.isnull().sum()"
   ]
  },
  {
   "cell_type": "code",
   "execution_count": 26,
   "metadata": {},
   "outputs": [
    {
     "data": {
      "text/html": [
       "<div>\n",
       "<style scoped>\n",
       "    .dataframe tbody tr th:only-of-type {\n",
       "        vertical-align: middle;\n",
       "    }\n",
       "\n",
       "    .dataframe tbody tr th {\n",
       "        vertical-align: top;\n",
       "    }\n",
       "\n",
       "    .dataframe thead th {\n",
       "        text-align: right;\n",
       "    }\n",
       "</style>\n",
       "<table border=\"1\" class=\"dataframe\">\n",
       "  <thead>\n",
       "    <tr style=\"text-align: right;\">\n",
       "      <th></th>\n",
       "      <th>Total</th>\n",
       "      <th>Percent of Missing Values</th>\n",
       "      <th>Type</th>\n",
       "    </tr>\n",
       "  </thead>\n",
       "  <tbody>\n",
       "    <tr>\n",
       "      <th>Temperature (C)</th>\n",
       "      <td>252</td>\n",
       "      <td>0.352803</td>\n",
       "      <td>float64</td>\n",
       "    </tr>\n",
       "    <tr>\n",
       "      <th>Rain_OR_SNOW</th>\n",
       "      <td>115</td>\n",
       "      <td>0.161001</td>\n",
       "      <td>object</td>\n",
       "    </tr>\n",
       "    <tr>\n",
       "      <th>Pressure (millibars)</th>\n",
       "      <td>65</td>\n",
       "      <td>0.091001</td>\n",
       "      <td>float64</td>\n",
       "    </tr>\n",
       "    <tr>\n",
       "      <th>Wind Bearing (degrees)</th>\n",
       "      <td>37</td>\n",
       "      <td>0.051800</td>\n",
       "      <td>float64</td>\n",
       "    </tr>\n",
       "    <tr>\n",
       "      <th>Visibility (km)</th>\n",
       "      <td>20</td>\n",
       "      <td>0.028000</td>\n",
       "      <td>float64</td>\n",
       "    </tr>\n",
       "    <tr>\n",
       "      <th>Apparent Temperature (C)</th>\n",
       "      <td>3</td>\n",
       "      <td>0.004200</td>\n",
       "      <td>float64</td>\n",
       "    </tr>\n",
       "    <tr>\n",
       "      <th>Wind Speed (km/h)</th>\n",
       "      <td>2</td>\n",
       "      <td>0.002800</td>\n",
       "      <td>float64</td>\n",
       "    </tr>\n",
       "    <tr>\n",
       "      <th>Humidity</th>\n",
       "      <td>1</td>\n",
       "      <td>0.001400</td>\n",
       "      <td>float64</td>\n",
       "    </tr>\n",
       "    <tr>\n",
       "      <th>Solar irradiance intensity</th>\n",
       "      <td>0</td>\n",
       "      <td>0.000000</td>\n",
       "      <td>int64</td>\n",
       "    </tr>\n",
       "    <tr>\n",
       "      <th>Condensation</th>\n",
       "      <td>0</td>\n",
       "      <td>0.000000</td>\n",
       "      <td>object</td>\n",
       "    </tr>\n",
       "    <tr>\n",
       "      <th>Cloud_Condition</th>\n",
       "      <td>0</td>\n",
       "      <td>0.000000</td>\n",
       "      <td>object</td>\n",
       "    </tr>\n",
       "  </tbody>\n",
       "</table>\n",
       "</div>"
      ],
      "text/plain": [
       "                            Total  Percent of Missing Values     Type\n",
       "Temperature (C)               252                   0.352803  float64\n",
       "Rain_OR_SNOW                  115                   0.161001   object\n",
       "Pressure (millibars)           65                   0.091001  float64\n",
       "Wind Bearing (degrees)         37                   0.051800  float64\n",
       "Visibility (km)                20                   0.028000  float64\n",
       "Apparent Temperature (C)        3                   0.004200  float64\n",
       "Wind Speed (km/h)               2                   0.002800  float64\n",
       "Humidity                        1                   0.001400  float64\n",
       "Solar irradiance intensity      0                   0.000000    int64\n",
       "Condensation                    0                   0.000000   object\n",
       "Cloud_Condition                 0                   0.000000   object"
      ]
     },
     "execution_count": 26,
     "metadata": {},
     "output_type": "execute_result"
    }
   ],
   "source": [
    "# sort the variables on the basis of total null values in the variable\n",
    "# 'isnull().sum()' returns the number of missing values in each variable\n",
    "# 'ascending = False' sorts values in the descending order\n",
    "# the variable with highest number of missing values will appear first\n",
    "Total = cloud_train.isnull().sum().sort_values(ascending = False)\n",
    "\n",
    "# calculate the percentage of missing values\n",
    "# 'ascending = False' sorts values in the descending order\n",
    "# the variable with highest percentage of missing values will appear first\n",
    "Percent = (cloud_train.isnull().sum() * 100 / cloud_train.isnull().count()).sort_values(ascending = False)\n",
    "\n",
    "# concat the 'Total' and 'Percent' columns using 'concat' function\n",
    "# 'keys' is the list of column names\n",
    "# 'axis = 1' concats along the columns\n",
    "missing_data = pd.concat([Total, Percent], axis=1, keys = ['Total','Percent of Missing Values'])\n",
    "\n",
    "# add the column containing data type of each variable\n",
    "missing_data['Type'] = cloud_train[missing_data.index].dtypes\n",
    "missing_data"
   ]
  },
  {
   "cell_type": "markdown",
   "metadata": {},
   "source": [
    "we can observe that all the missing values is less than 1% so we can drop missing values"
   ]
  },
  {
   "cell_type": "code",
   "execution_count": 27,
   "metadata": {},
   "outputs": [
    {
     "data": {
      "text/html": [
       "<div>\n",
       "<style scoped>\n",
       "    .dataframe tbody tr th:only-of-type {\n",
       "        vertical-align: middle;\n",
       "    }\n",
       "\n",
       "    .dataframe tbody tr th {\n",
       "        vertical-align: top;\n",
       "    }\n",
       "\n",
       "    .dataframe thead th {\n",
       "        text-align: right;\n",
       "    }\n",
       "</style>\n",
       "<table border=\"1\" class=\"dataframe\">\n",
       "  <thead>\n",
       "    <tr style=\"text-align: right;\">\n",
       "      <th></th>\n",
       "      <th>Total</th>\n",
       "      <th>Percent of Missing Values</th>\n",
       "      <th>Type</th>\n",
       "    </tr>\n",
       "  </thead>\n",
       "  <tbody>\n",
       "    <tr>\n",
       "      <th>Temperature (C)</th>\n",
       "      <td>252</td>\n",
       "      <td>0.352803</td>\n",
       "      <td>float64</td>\n",
       "    </tr>\n",
       "    <tr>\n",
       "      <th>Pressure (millibars)</th>\n",
       "      <td>65</td>\n",
       "      <td>0.091001</td>\n",
       "      <td>float64</td>\n",
       "    </tr>\n",
       "    <tr>\n",
       "      <th>Wind Bearing (degrees)</th>\n",
       "      <td>37</td>\n",
       "      <td>0.051800</td>\n",
       "      <td>float64</td>\n",
       "    </tr>\n",
       "    <tr>\n",
       "      <th>Visibility (km)</th>\n",
       "      <td>20</td>\n",
       "      <td>0.028000</td>\n",
       "      <td>float64</td>\n",
       "    </tr>\n",
       "    <tr>\n",
       "      <th>Apparent Temperature (C)</th>\n",
       "      <td>3</td>\n",
       "      <td>0.004200</td>\n",
       "      <td>float64</td>\n",
       "    </tr>\n",
       "    <tr>\n",
       "      <th>Wind Speed (km/h)</th>\n",
       "      <td>2</td>\n",
       "      <td>0.002800</td>\n",
       "      <td>float64</td>\n",
       "    </tr>\n",
       "    <tr>\n",
       "      <th>Humidity</th>\n",
       "      <td>1</td>\n",
       "      <td>0.001400</td>\n",
       "      <td>float64</td>\n",
       "    </tr>\n",
       "  </tbody>\n",
       "</table>\n",
       "</div>"
      ],
      "text/plain": [
       "                          Total  Percent of Missing Values     Type\n",
       "Temperature (C)             252                   0.352803  float64\n",
       "Pressure (millibars)         65                   0.091001  float64\n",
       "Wind Bearing (degrees)       37                   0.051800  float64\n",
       "Visibility (km)              20                   0.028000  float64\n",
       "Apparent Temperature (C)      3                   0.004200  float64\n",
       "Wind Speed (km/h)             2                   0.002800  float64\n",
       "Humidity                      1                   0.001400  float64"
      ]
     },
     "execution_count": 27,
     "metadata": {},
     "output_type": "execute_result"
    }
   ],
   "source": [
    "num_missing = missing_data[(missing_data['Total'] > 0) & (missing_data['Type'] != 'object')]\n",
    "num_missing"
   ]
  },
  {
   "cell_type": "code",
   "execution_count": 28,
   "metadata": {},
   "outputs": [],
   "source": [
    "# filling null value with median of temperature\n",
    "cloud_train['Temperature (C)'] = cloud_train['Temperature (C)'].fillna(cloud_train['Temperature (C)'].median())"
   ]
  },
  {
   "cell_type": "code",
   "execution_count": 29,
   "metadata": {},
   "outputs": [],
   "source": [
    "# filling null value with median of pressure (milibars)\n",
    "cloud_train['Pressure (millibars)'] = cloud_train['Pressure (millibars)'].fillna(cloud_train['Pressure (millibars)'].median())"
   ]
  },
  {
   "cell_type": "code",
   "execution_count": 30,
   "metadata": {},
   "outputs": [],
   "source": [
    "# filling null value with median of Wind Bearin (degree)\n",
    "cloud_train['Wind Bearing (degrees)'] = cloud_train['Wind Bearing (degrees)'].fillna(cloud_train['Wind Bearing (degrees)'].median())"
   ]
  },
  {
   "cell_type": "code",
   "execution_count": 31,
   "metadata": {},
   "outputs": [],
   "source": [
    "# filling null value with median of Visibility (km)\n",
    "cloud_train['Visibility (km)'] = cloud_train['Visibility (km)'].fillna(cloud_train['Visibility (km)'].median())"
   ]
  },
  {
   "cell_type": "code",
   "execution_count": 32,
   "metadata": {},
   "outputs": [],
   "source": [
    "# filling null value with median of Apparent Temperature (C)\n",
    "cloud_train['Apparent Temperature (C)'] = cloud_train['Apparent Temperature (C)'].fillna(cloud_train['Apparent Temperature (C)'].median())"
   ]
  },
  {
   "cell_type": "code",
   "execution_count": 33,
   "metadata": {},
   "outputs": [],
   "source": [
    "# filling null value with median of Wind Speed (km/h)\n",
    "cloud_train['Wind Speed (km/h)'] = cloud_train['Wind Speed (km/h)'].fillna(cloud_train['Wind Speed (km/h)'].median())"
   ]
  },
  {
   "cell_type": "code",
   "execution_count": 34,
   "metadata": {},
   "outputs": [],
   "source": [
    "# filling null value with median of Humidity\n",
    "cloud_train['Humidity'] = cloud_train['Humidity'].fillna(cloud_train['Humidity'].median())"
   ]
  },
  {
   "cell_type": "code",
   "execution_count": 35,
   "metadata": {},
   "outputs": [
    {
     "data": {
      "text/html": [
       "<div>\n",
       "<style scoped>\n",
       "    .dataframe tbody tr th:only-of-type {\n",
       "        vertical-align: middle;\n",
       "    }\n",
       "\n",
       "    .dataframe tbody tr th {\n",
       "        vertical-align: top;\n",
       "    }\n",
       "\n",
       "    .dataframe thead th {\n",
       "        text-align: right;\n",
       "    }\n",
       "</style>\n",
       "<table border=\"1\" class=\"dataframe\">\n",
       "  <thead>\n",
       "    <tr style=\"text-align: right;\">\n",
       "      <th></th>\n",
       "      <th>Total</th>\n",
       "      <th>Percent of Missing Values</th>\n",
       "      <th>Type</th>\n",
       "    </tr>\n",
       "  </thead>\n",
       "  <tbody>\n",
       "    <tr>\n",
       "      <th>Rain_OR_SNOW</th>\n",
       "      <td>115</td>\n",
       "      <td>0.161001</td>\n",
       "      <td>object</td>\n",
       "    </tr>\n",
       "  </tbody>\n",
       "</table>\n",
       "</div>"
      ],
      "text/plain": [
       "              Total  Percent of Missing Values    Type\n",
       "Rain_OR_SNOW    115                   0.161001  object"
      ]
     },
     "execution_count": 35,
     "metadata": {},
     "output_type": "execute_result"
    }
   ],
   "source": [
    "# again checking for missing values for categorical variable\n",
    "# after filling all the null values\n",
    "cat_missing = missing_data[(missing_data['Total'] > 0) & (missing_data['Type'] == 'object')]\n",
    "cat_missing"
   ]
  },
  {
   "cell_type": "code",
   "execution_count": 36,
   "metadata": {},
   "outputs": [],
   "source": [
    "# filling null value with mode of Rain_OR_SNOW\n",
    "cloud_train['Rain_OR_SNOW'] = cloud_train['Rain_OR_SNOW'].fillna(cloud_train['Rain_OR_SNOW'].mode()[0])"
   ]
  },
  {
   "cell_type": "code",
   "execution_count": null,
   "metadata": {},
   "outputs": [],
   "source": []
  },
  {
   "cell_type": "code",
   "execution_count": null,
   "metadata": {},
   "outputs": [],
   "source": []
  },
  {
   "cell_type": "code",
   "execution_count": null,
   "metadata": {},
   "outputs": [],
   "source": []
  },
  {
   "cell_type": "markdown",
   "metadata": {},
   "source": [
    "after dropping missing values just checking missing values again"
   ]
  },
  {
   "cell_type": "code",
   "execution_count": 37,
   "metadata": {},
   "outputs": [
    {
     "data": {
      "text/html": [
       "<div>\n",
       "<style scoped>\n",
       "    .dataframe tbody tr th:only-of-type {\n",
       "        vertical-align: middle;\n",
       "    }\n",
       "\n",
       "    .dataframe tbody tr th {\n",
       "        vertical-align: top;\n",
       "    }\n",
       "\n",
       "    .dataframe thead th {\n",
       "        text-align: right;\n",
       "    }\n",
       "</style>\n",
       "<table border=\"1\" class=\"dataframe\">\n",
       "  <thead>\n",
       "    <tr style=\"text-align: right;\">\n",
       "      <th></th>\n",
       "      <th>Total</th>\n",
       "      <th>Percent of Missing Values</th>\n",
       "    </tr>\n",
       "  </thead>\n",
       "  <tbody>\n",
       "    <tr>\n",
       "      <th>Solar irradiance intensity</th>\n",
       "      <td>0</td>\n",
       "      <td>0.0</td>\n",
       "    </tr>\n",
       "    <tr>\n",
       "      <th>Condensation</th>\n",
       "      <td>0</td>\n",
       "      <td>0.0</td>\n",
       "    </tr>\n",
       "    <tr>\n",
       "      <th>Pressure (millibars)</th>\n",
       "      <td>0</td>\n",
       "      <td>0.0</td>\n",
       "    </tr>\n",
       "    <tr>\n",
       "      <th>Visibility (km)</th>\n",
       "      <td>0</td>\n",
       "      <td>0.0</td>\n",
       "    </tr>\n",
       "    <tr>\n",
       "      <th>Wind Bearing (degrees)</th>\n",
       "      <td>0</td>\n",
       "      <td>0.0</td>\n",
       "    </tr>\n",
       "    <tr>\n",
       "      <th>Wind Speed (km/h)</th>\n",
       "      <td>0</td>\n",
       "      <td>0.0</td>\n",
       "    </tr>\n",
       "    <tr>\n",
       "      <th>Humidity</th>\n",
       "      <td>0</td>\n",
       "      <td>0.0</td>\n",
       "    </tr>\n",
       "    <tr>\n",
       "      <th>Apparent Temperature (C)</th>\n",
       "      <td>0</td>\n",
       "      <td>0.0</td>\n",
       "    </tr>\n",
       "    <tr>\n",
       "      <th>Temperature (C)</th>\n",
       "      <td>0</td>\n",
       "      <td>0.0</td>\n",
       "    </tr>\n",
       "    <tr>\n",
       "      <th>Rain_OR_SNOW</th>\n",
       "      <td>0</td>\n",
       "      <td>0.0</td>\n",
       "    </tr>\n",
       "    <tr>\n",
       "      <th>Cloud_Condition</th>\n",
       "      <td>0</td>\n",
       "      <td>0.0</td>\n",
       "    </tr>\n",
       "  </tbody>\n",
       "</table>\n",
       "</div>"
      ],
      "text/plain": [
       "                            Total  Percent of Missing Values\n",
       "Solar irradiance intensity      0                        0.0\n",
       "Condensation                    0                        0.0\n",
       "Pressure (millibars)            0                        0.0\n",
       "Visibility (km)                 0                        0.0\n",
       "Wind Bearing (degrees)          0                        0.0\n",
       "Wind Speed (km/h)               0                        0.0\n",
       "Humidity                        0                        0.0\n",
       "Apparent Temperature (C)        0                        0.0\n",
       "Temperature (C)                 0                        0.0\n",
       "Rain_OR_SNOW                    0                        0.0\n",
       "Cloud_Condition                 0                        0.0"
      ]
     },
     "execution_count": 37,
     "metadata": {},
     "output_type": "execute_result"
    }
   ],
   "source": [
    "# sort the variables on the basis of total null values in the variable\n",
    "# 'isnull().sum()' returns the number of missing values in each variable\n",
    "# 'ascending = False' sorts values in the descending order\n",
    "# the variable with highest number of missing values will appear first\n",
    "Total = cloud_train.isnull().sum().sort_values(ascending = False)\n",
    "\n",
    "# calculate the percentage of missing values\n",
    "# 'ascending = False' sorts values in the descending order\n",
    "# the variable with highest percentage of missing values will appear first\n",
    "Percent = (cloud_train.isnull().sum() * 100 / cloud_train.isnull().count()).sort_values(ascending = False)\n",
    "\n",
    "# concat the 'Total' and 'Percent' columns using 'concat' function\n",
    "# 'keys' is the list of column names\n",
    "# 'axis = 1' concats along the columns\n",
    "missing_data = pd.concat([Total, Percent], axis=1, keys = ['Total','Percent of Missing Values'])\n",
    "missing_data"
   ]
  },
  {
   "cell_type": "markdown",
   "metadata": {},
   "source": [
    "we can see that we dont have any missing values there "
   ]
  },
  {
   "cell_type": "markdown",
   "metadata": {},
   "source": []
  },
  {
   "cell_type": "code",
   "execution_count": 38,
   "metadata": {},
   "outputs": [
    {
     "data": {
      "text/plain": [
       "Mostly Cloudy                          22017\n",
       "Partly Cloudy                          17613\n",
       "Overcast                               13612\n",
       "Clear                                   9719\n",
       "Foggy                                   5900\n",
       "Breezy and Dry                           656\n",
       "Breezy and Mostly Cloudy                 473\n",
       "Breezy and Overcast                      454\n",
       "Breezy and Partly Cloudy                 350\n",
       "Light Rain                               214\n",
       "Dry and Partly Cloudy                     86\n",
       "Windy and Partly Cloudy                   63\n",
       "Breezy                                    45\n",
       "Windy and Overcast                        43\n",
       "Dry                                       34\n",
       "Breezy and Foggy                          34\n",
       "Humid and Mostly Cloudy                   32\n",
       "Windy and Mostly Cloudy                   32\n",
       "Humid and Partly Cloudy                   17\n",
       "Dry and Mostly Cloudy                     14\n",
       "Humid and Overcast                         5\n",
       "Drizzle                                    5\n",
       "Windy                                      5\n",
       "Windy and Foggy                            3\n",
       "Windy and Dry                              1\n",
       "Dangerously Windy and Partly Cloudy        1\n",
       "Name: Cloud_Condition, dtype: int64"
      ]
     },
     "execution_count": 38,
     "metadata": {},
     "output_type": "execute_result"
    }
   ],
   "source": [
    "# checking unique values count for target variale \n",
    "cloud_train['Cloud_Condition'].value_counts()"
   ]
  },
  {
   "cell_type": "markdown",
   "metadata": {},
   "source": [
    "# Visualization \n"
   ]
  },
  {
   "cell_type": "markdown",
   "metadata": {},
   "source": [
    "## Univariate"
   ]
  },
  {
   "cell_type": "code",
   "execution_count": 39,
   "metadata": {},
   "outputs": [
    {
     "data": {
      "image/png": "[encoded data removed]",
      "text/plain": [
       "<Figure size 864x432 with 9 Axes>"
      ]
     },
     "metadata": {
      "needs_background": "light"
     },
     "output_type": "display_data"
    }
   ],
   "source": [
    "# plotting a pairplot for numerical values\n",
    "df_num.hist(xrot=20, )\n",
    "\n",
    "plt.tight_layout()\n",
    "\n",
    "plt.show()"
   ]
  },
  {
   "cell_type": "code",
   "execution_count": 40,
   "metadata": {
    "scrolled": false
   },
   "outputs": [
    {
     "data": {
      "image/png": "[encoded data removed]",
      "text/plain": [
       "<Figure size 864x432 with 1 Axes>"
      ]
     },
     "metadata": {
      "needs_background": "light"
     },
     "output_type": "display_data"
    },
    {
     "data": {
      "image/png": "[encoded data removed]",
      "text/plain": [
       "<Figure size 864x432 with 1 Axes>"
      ]
     },
     "metadata": {
      "needs_background": "light"
     },
     "output_type": "display_data"
    },
    {
     "data": {
      "image/png": "[encoded data removed]",
      "text/plain": [
       "<Figure size 864x432 with 1 Axes>"
      ]
     },
     "metadata": {
      "needs_background": "light"
     },
     "output_type": "display_data"
    },
    {
     "data": {
      "image/png": "[encoded data removed]",
      "text/plain": [
       "<Figure size 864x432 with 1 Axes>"
      ]
     },
     "metadata": {
      "needs_background": "light"
     },
     "output_type": "display_data"
    },
    {
     "data": {
      "image/png": "[encoded data removed]",
      "text/plain": [
       "<Figure size 864x432 with 1 Axes>"
      ]
     },
     "metadata": {
      "needs_background": "light"
     },
     "output_type": "display_data"
    },
    {
     "data": {
      "image/png": "[encoded data removed]",
      "text/plain": [
       "<Figure size 864x432 with 1 Axes>"
      ]
     },
     "metadata": {
      "needs_background": "light"
     },
     "output_type": "display_data"
    },
    {
     "data": {
      "image/png": "[encoded data removed]",
      "text/plain": [
       "<Figure size 864x432 with 1 Axes>"
      ]
     },
     "metadata": {
      "needs_background": "light"
     },
     "output_type": "display_data"
    },
    {
     "data": {
      "image/png": "[encoded data removed]",
      "text/plain": [
       "<Figure size 864x432 with 1 Axes>"
      ]
     },
     "metadata": {
      "needs_background": "light"
     },
     "output_type": "display_data"
    }
   ],
   "source": [
    "for i in df_num.columns:\n",
    "    sns.distplot(df_num[i], hist= True)\n",
    "    plt.show()"
   ]
  },
  {
   "cell_type": "markdown",
   "metadata": {},
   "source": [
    "##### all the numeric features is normally distributed "
   ]
  },
  {
   "cell_type": "code",
   "execution_count": 41,
   "metadata": {},
   "outputs": [
    {
     "data": {
      "image/png": "[encoded data removed]",
      "text/plain": [
       "<Figure size 1440x432 with 3 Axes>"
      ]
     },
     "metadata": {
      "needs_background": "light"
     },
     "output_type": "display_data"
    }
   ],
   "source": [
    "# create a list of all categorical variables\n",
    "# initiate an empty list to store the categorical variables\n",
    "categorical=[]\n",
    "\n",
    "# use for loop to check the data type of each variable\n",
    "for column in cloud_train:\n",
    "\n",
    "    # use 'if' statement with condition to check the categorical type \n",
    "    if is_string_dtype(cloud_train[column]):\n",
    "        \n",
    "        # append the variables with 'categoric' data type in the list 'categorical'\n",
    "        categorical.append(column)\n",
    "\n",
    "# plot the count plot for each categorical variable \n",
    "# set the number of rows in the subplot using the parameter, 'nrows'\n",
    "# set the number of columns in the subplot using the parameter, 'ncols'\n",
    "# 'figsize' sets the figure size\n",
    "fig, ax = plt.subplots(1, 3, figsize = (20,6))\n",
    "\n",
    "# use for loop to plot the count plot for each variable\n",
    "for variable, subplot in zip(categorical, ax.flatten()):\n",
    "    \n",
    "    # use countplot() to plot the graph\n",
    "    # pass the axes for the plot to the parameter, 'ax'\n",
    "    sns.countplot(cloud_train[variable], ax = subplot)\n",
    "    \n",
    "# display the plot\n",
    "plt.show()"
   ]
  },
  {
   "cell_type": "code",
   "execution_count": 42,
   "metadata": {},
   "outputs": [
    {
     "data": {
      "text/plain": [
       "<AxesSubplot:xlabel='count', ylabel='Cloud_Condition'>"
      ]
     },
     "execution_count": 42,
     "metadata": {},
     "output_type": "execute_result"
    },
    {
     "data": {
      "image/png": "[encoded data removed]",
      "text/plain": [
       "<Figure size 864x432 with 1 Axes>"
      ]
     },
     "metadata": {
      "needs_background": "light"
     },
     "output_type": "display_data"
    }
   ],
   "source": [
    "sns.countplot(y= cloud_train['Cloud_Condition'])"
   ]
  },
  {
   "cell_type": "code",
   "execution_count": 43,
   "metadata": {},
   "outputs": [
    {
     "data": {
      "text/plain": [
       "<AxesSubplot:xlabel='Solar irradiance intensity', ylabel='Density'>"
      ]
     },
     "execution_count": 43,
     "metadata": {},
     "output_type": "execute_result"
    },
    {
     "data": {
      "image/png": "[encoded data removed]",
      "text/plain": [
       "<Figure size 1152x720 with 10 Axes>"
      ]
     },
     "metadata": {},
     "output_type": "display_data"
    }
   ],
   "source": [
    "#checking Normality\n",
    "sns.set_style('darkgrid')\n",
    "fig, axes = plt.subplots(2, 5, figsize=(16, 10))\n",
    "sns.countplot('Rain_OR_SNOW',data=cloud_train,ax=axes[0,0]) # plotting for Rain_OR_SNOW count\n",
    "sns.countplot('Condensation',data=cloud_train,ax=axes[0,1]) # plotting for Condensation count\n",
    "sns.distplot(cloud_train['Temperature (C)'], kde=True,color='green',ax=axes[0,2]) # checking for the distribution of Temperature (C)\n",
    "sns.distplot(cloud_train['Apparent Temperature (C)'].dropna(),kde=True,color='red',ax=axes[0,3]) # checking for the distribution of Apparent Temperature (C)\n",
    "sns.distplot(cloud_train['Humidity'].dropna(),kde=True,color='orange',ax=axes[0,4]) # checking for the distribution of Humidity\n",
    "sns.distplot(cloud_train['Wind Speed (km/h)'].dropna(),kde=True,color='blue',ax=axes[1,0]) # checking for the distribution of Wind Speed (km/h)\n",
    "sns.distplot(cloud_train['Wind Bearing (degrees)'].dropna(),kde=True,color='lime',ax=axes[1,1]) # checking for the distribution of Wind Bearing (degrees)\n",
    "sns.distplot(cloud_train['Visibility (km)'].dropna(),kde=True,color='yellow',ax=axes[1,2]) # checking for the distribution of Visibility (km)\n",
    "sns.distplot(cloud_train['Pressure (millibars)'].dropna(),kde=True,color='brown',ax=axes[1,3]) # checking for the distribution of Pressure (millibars)\n",
    "sns.distplot(cloud_train['Solar irradiance intensity'].dropna(),kde=True,color='black',ax=axes[1,4]) # checking for the distribution of Solar irradiance intensity"
   ]
  },
  {
   "cell_type": "code",
   "execution_count": 44,
   "metadata": {},
   "outputs": [
    {
     "data": {
      "text/plain": [
       "<AxesSubplot:xlabel='Rain_OR_SNOW', ylabel='count'>"
      ]
     },
     "execution_count": 44,
     "metadata": {},
     "output_type": "execute_result"
    },
    {
     "data": {
      "image/png": "[encoded data removed]",
      "text/plain": [
       "<Figure size 864x432 with 1 Axes>"
      ]
     },
     "metadata": {},
     "output_type": "display_data"
    }
   ],
   "source": [
    "sns.countplot(cloud_train['Rain_OR_SNOW'])"
   ]
  },
  {
   "cell_type": "markdown",
   "metadata": {},
   "source": [
    "# bivariate "
   ]
  },
  {
   "cell_type": "code",
   "execution_count": 45,
   "metadata": {},
   "outputs": [
    {
     "data": {
      "image/png": "[encoded data removed]",
      "text/plain": [
       "<Figure size 864x432 with 1 Axes>"
      ]
     },
     "metadata": {},
     "output_type": "display_data"
    }
   ],
   "source": [
    "sns.violinplot(x=\"Temperature (C)\", y=\"Cloud_Condition\", data=cloud_train, palette=\"YlGnBu\", figsize = (10,15))\n",
    "plt.show()"
   ]
  },
  {
   "cell_type": "code",
   "execution_count": 46,
   "metadata": {},
   "outputs": [
    {
     "data": {
      "image/png": "[encoded data removed]",
      "text/plain": [
       "<Figure size 864x432 with 1 Axes>"
      ]
     },
     "metadata": {},
     "output_type": "display_data"
    },
    {
     "data": {
      "image/png": "[encoded data removed]",
      "text/plain": [
       "<Figure size 864x432 with 1 Axes>"
      ]
     },
     "metadata": {},
     "output_type": "display_data"
    },
    {
     "data": {
      "image/png": "[encoded data removed]",
      "text/plain": [
       "<Figure size 864x432 with 1 Axes>"
      ]
     },
     "metadata": {},
     "output_type": "display_data"
    }
   ],
   "source": [
    "for i in ['Cloud_Condition','Rain_OR_SNOW','Condensation']:\n",
    "    sns.boxplot(x = df_cat[i], y = cloud_train['Temperature (C)'], color = 'coral')\n",
    "    plt.show()"
   ]
  },
  {
   "cell_type": "code",
   "execution_count": null,
   "metadata": {},
   "outputs": [],
   "source": []
  },
  {
   "cell_type": "code",
   "execution_count": null,
   "metadata": {},
   "outputs": [],
   "source": []
  },
  {
   "cell_type": "code",
   "execution_count": null,
   "metadata": {},
   "outputs": [],
   "source": []
  },
  {
   "cell_type": "code",
   "execution_count": null,
   "metadata": {},
   "outputs": [],
   "source": []
  },
  {
   "cell_type": "code",
   "execution_count": null,
   "metadata": {},
   "outputs": [],
   "source": []
  },
  {
   "cell_type": "markdown",
   "metadata": {},
   "source": [
    "### missing values visualization"
   ]
  },
  {
   "cell_type": "code",
   "execution_count": 47,
   "metadata": {},
   "outputs": [
    {
     "data": {
      "image/png": "[encoded data removed]",
      "text/plain": [
       "<Figure size 864x432 with 1 Axes>"
      ]
     },
     "metadata": {},
     "output_type": "display_data"
    }
   ],
   "source": [
    "# checking missing values by heatmap\n",
    "sns.heatmap(cloud_train.isnull(), cbar=False)\n",
    "plt.show()"
   ]
  },
  {
   "cell_type": "markdown",
   "metadata": {},
   "source": [
    "# Correlation"
   ]
  },
  {
   "cell_type": "code",
   "execution_count": 48,
   "metadata": {},
   "outputs": [
    {
     "data": {
      "text/html": [
       "<div>\n",
       "<style scoped>\n",
       "    .dataframe tbody tr th:only-of-type {\n",
       "        vertical-align: middle;\n",
       "    }\n",
       "\n",
       "    .dataframe tbody tr th {\n",
       "        vertical-align: top;\n",
       "    }\n",
       "\n",
       "    .dataframe thead th {\n",
       "        text-align: right;\n",
       "    }\n",
       "</style>\n",
       "<table border=\"1\" class=\"dataframe\">\n",
       "  <thead>\n",
       "    <tr style=\"text-align: right;\">\n",
       "      <th></th>\n",
       "      <th>Temperature (C)</th>\n",
       "      <th>Apparent Temperature (C)</th>\n",
       "      <th>Humidity</th>\n",
       "      <th>Wind Speed (km/h)</th>\n",
       "      <th>Wind Bearing (degrees)</th>\n",
       "      <th>Visibility (km)</th>\n",
       "      <th>Pressure (millibars)</th>\n",
       "      <th>Solar irradiance intensity</th>\n",
       "    </tr>\n",
       "  </thead>\n",
       "  <tbody>\n",
       "    <tr>\n",
       "      <th>Temperature (C)</th>\n",
       "      <td>1.000000</td>\n",
       "      <td>0.001110</td>\n",
       "      <td>0.004359</td>\n",
       "      <td>0.003482</td>\n",
       "      <td>0.000370</td>\n",
       "      <td>-0.003734</td>\n",
       "      <td>-0.004944</td>\n",
       "      <td>-0.001439</td>\n",
       "    </tr>\n",
       "    <tr>\n",
       "      <th>Apparent Temperature (C)</th>\n",
       "      <td>0.001110</td>\n",
       "      <td>1.000000</td>\n",
       "      <td>0.004179</td>\n",
       "      <td>-0.005651</td>\n",
       "      <td>-0.003501</td>\n",
       "      <td>-0.002458</td>\n",
       "      <td>0.001793</td>\n",
       "      <td>0.003820</td>\n",
       "    </tr>\n",
       "    <tr>\n",
       "      <th>Humidity</th>\n",
       "      <td>0.004359</td>\n",
       "      <td>0.004179</td>\n",
       "      <td>1.000000</td>\n",
       "      <td>-0.001844</td>\n",
       "      <td>-0.002763</td>\n",
       "      <td>0.003480</td>\n",
       "      <td>0.006410</td>\n",
       "      <td>0.002272</td>\n",
       "    </tr>\n",
       "    <tr>\n",
       "      <th>Wind Speed (km/h)</th>\n",
       "      <td>0.003482</td>\n",
       "      <td>-0.005651</td>\n",
       "      <td>-0.001844</td>\n",
       "      <td>1.000000</td>\n",
       "      <td>-0.002833</td>\n",
       "      <td>0.000325</td>\n",
       "      <td>0.002156</td>\n",
       "      <td>-0.005051</td>\n",
       "    </tr>\n",
       "    <tr>\n",
       "      <th>Wind Bearing (degrees)</th>\n",
       "      <td>0.000370</td>\n",
       "      <td>-0.003501</td>\n",
       "      <td>-0.002763</td>\n",
       "      <td>-0.002833</td>\n",
       "      <td>1.000000</td>\n",
       "      <td>-0.000384</td>\n",
       "      <td>0.001172</td>\n",
       "      <td>-0.008265</td>\n",
       "    </tr>\n",
       "    <tr>\n",
       "      <th>Visibility (km)</th>\n",
       "      <td>-0.003734</td>\n",
       "      <td>-0.002458</td>\n",
       "      <td>0.003480</td>\n",
       "      <td>0.000325</td>\n",
       "      <td>-0.000384</td>\n",
       "      <td>1.000000</td>\n",
       "      <td>-0.002862</td>\n",
       "      <td>0.002704</td>\n",
       "    </tr>\n",
       "    <tr>\n",
       "      <th>Pressure (millibars)</th>\n",
       "      <td>-0.004944</td>\n",
       "      <td>0.001793</td>\n",
       "      <td>0.006410</td>\n",
       "      <td>0.002156</td>\n",
       "      <td>0.001172</td>\n",
       "      <td>-0.002862</td>\n",
       "      <td>1.000000</td>\n",
       "      <td>-0.005583</td>\n",
       "    </tr>\n",
       "    <tr>\n",
       "      <th>Solar irradiance intensity</th>\n",
       "      <td>-0.001439</td>\n",
       "      <td>0.003820</td>\n",
       "      <td>0.002272</td>\n",
       "      <td>-0.005051</td>\n",
       "      <td>-0.008265</td>\n",
       "      <td>0.002704</td>\n",
       "      <td>-0.005583</td>\n",
       "      <td>1.000000</td>\n",
       "    </tr>\n",
       "  </tbody>\n",
       "</table>\n",
       "</div>"
      ],
      "text/plain": [
       "                            Temperature (C)  Apparent Temperature (C)  \\\n",
       "Temperature (C)                    1.000000                  0.001110   \n",
       "Apparent Temperature (C)           0.001110                  1.000000   \n",
       "Humidity                           0.004359                  0.004179   \n",
       "Wind Speed (km/h)                  0.003482                 -0.005651   \n",
       "Wind Bearing (degrees)             0.000370                 -0.003501   \n",
       "Visibility (km)                   -0.003734                 -0.002458   \n",
       "Pressure (millibars)              -0.004944                  0.001793   \n",
       "Solar irradiance intensity        -0.001439                  0.003820   \n",
       "\n",
       "                            Humidity  Wind Speed (km/h)  \\\n",
       "Temperature (C)             0.004359           0.003482   \n",
       "Apparent Temperature (C)    0.004179          -0.005651   \n",
       "Humidity                    1.000000          -0.001844   \n",
       "Wind Speed (km/h)          -0.001844           1.000000   \n",
       "Wind Bearing (degrees)     -0.002763          -0.002833   \n",
       "Visibility (km)             0.003480           0.000325   \n",
       "Pressure (millibars)        0.006410           0.002156   \n",
       "Solar irradiance intensity  0.002272          -0.005051   \n",
       "\n",
       "                            Wind Bearing (degrees)  Visibility (km)  \\\n",
       "Temperature (C)                           0.000370        -0.003734   \n",
       "Apparent Temperature (C)                 -0.003501        -0.002458   \n",
       "Humidity                                 -0.002763         0.003480   \n",
       "Wind Speed (km/h)                        -0.002833         0.000325   \n",
       "Wind Bearing (degrees)                    1.000000        -0.000384   \n",
       "Visibility (km)                          -0.000384         1.000000   \n",
       "Pressure (millibars)                      0.001172        -0.002862   \n",
       "Solar irradiance intensity               -0.008265         0.002704   \n",
       "\n",
       "                            Pressure (millibars)  Solar irradiance intensity  \n",
       "Temperature (C)                        -0.004944                   -0.001439  \n",
       "Apparent Temperature (C)                0.001793                    0.003820  \n",
       "Humidity                                0.006410                    0.002272  \n",
       "Wind Speed (km/h)                       0.002156                   -0.005051  \n",
       "Wind Bearing (degrees)                  0.001172                   -0.008265  \n",
       "Visibility (km)                        -0.002862                    0.002704  \n",
       "Pressure (millibars)                    1.000000                   -0.005583  \n",
       "Solar irradiance intensity             -0.005583                    1.000000  "
      ]
     },
     "execution_count": 48,
     "metadata": {},
     "output_type": "execute_result"
    }
   ],
   "source": [
    "corr = cloud_train.corr()\n",
    "corr"
   ]
  },
  {
   "cell_type": "code",
   "execution_count": 49,
   "metadata": {},
   "outputs": [
    {
     "data": {
      "image/png": "[encoded data removed]",
      "text/plain": [
       "<Figure size 864x432 with 2 Axes>"
      ]
     },
     "metadata": {},
     "output_type": "display_data"
    }
   ],
   "source": [
    "sns.heatmap(corr, annot = True, linewidths=.5, fmt= '.2f', cmap ='summer')\n",
    "plt.show()"
   ]
  },
  {
   "cell_type": "code",
   "execution_count": 50,
   "metadata": {},
   "outputs": [
    {
     "data": {
      "text/html": [
       "<style  type=\"text/css\" >\n",
       "#T_005cd163_7127_11eb_acc4_30f7724613eerow0_col0,#T_005cd163_7127_11eb_acc4_30f7724613eerow1_col1,#T_005cd163_7127_11eb_acc4_30f7724613eerow2_col2,#T_005cd163_7127_11eb_acc4_30f7724613eerow3_col3,#T_005cd163_7127_11eb_acc4_30f7724613eerow4_col4,#T_005cd163_7127_11eb_acc4_30f7724613eerow5_col5,#T_005cd163_7127_11eb_acc4_30f7724613eerow6_col6,#T_005cd163_7127_11eb_acc4_30f7724613eerow7_col7{\n",
       "            background-color:  #b40426;\n",
       "            color:  #f1f1f1;\n",
       "        }#T_005cd163_7127_11eb_acc4_30f7724613eerow0_col1,#T_005cd163_7127_11eb_acc4_30f7724613eerow0_col2,#T_005cd163_7127_11eb_acc4_30f7724613eerow0_col7,#T_005cd163_7127_11eb_acc4_30f7724613eerow1_col0,#T_005cd163_7127_11eb_acc4_30f7724613eerow1_col2,#T_005cd163_7127_11eb_acc4_30f7724613eerow1_col4,#T_005cd163_7127_11eb_acc4_30f7724613eerow1_col6,#T_005cd163_7127_11eb_acc4_30f7724613eerow2_col4,#T_005cd163_7127_11eb_acc4_30f7724613eerow2_col5,#T_005cd163_7127_11eb_acc4_30f7724613eerow3_col4,#T_005cd163_7127_11eb_acc4_30f7724613eerow3_col5,#T_005cd163_7127_11eb_acc4_30f7724613eerow3_col6,#T_005cd163_7127_11eb_acc4_30f7724613eerow4_col0,#T_005cd163_7127_11eb_acc4_30f7724613eerow4_col6,#T_005cd163_7127_11eb_acc4_30f7724613eerow5_col2,#T_005cd163_7127_11eb_acc4_30f7724613eerow5_col3,#T_005cd163_7127_11eb_acc4_30f7724613eerow6_col1,#T_005cd163_7127_11eb_acc4_30f7724613eerow6_col3,#T_005cd163_7127_11eb_acc4_30f7724613eerow7_col2,#T_005cd163_7127_11eb_acc4_30f7724613eerow7_col5{\n",
       "            background-color:  #3c4ec2;\n",
       "            color:  #f1f1f1;\n",
       "        }#T_005cd163_7127_11eb_acc4_30f7724613eerow0_col3,#T_005cd163_7127_11eb_acc4_30f7724613eerow0_col4,#T_005cd163_7127_11eb_acc4_30f7724613eerow2_col0,#T_005cd163_7127_11eb_acc4_30f7724613eerow2_col1,#T_005cd163_7127_11eb_acc4_30f7724613eerow2_col7,#T_005cd163_7127_11eb_acc4_30f7724613eerow3_col0,#T_005cd163_7127_11eb_acc4_30f7724613eerow5_col4,#T_005cd163_7127_11eb_acc4_30f7724613eerow5_col7,#T_005cd163_7127_11eb_acc4_30f7724613eerow6_col2,#T_005cd163_7127_11eb_acc4_30f7724613eerow6_col4,#T_005cd163_7127_11eb_acc4_30f7724613eerow7_col1{\n",
       "            background-color:  #3d50c3;\n",
       "            color:  #f1f1f1;\n",
       "        }#T_005cd163_7127_11eb_acc4_30f7724613eerow0_col5,#T_005cd163_7127_11eb_acc4_30f7724613eerow0_col6,#T_005cd163_7127_11eb_acc4_30f7724613eerow1_col3,#T_005cd163_7127_11eb_acc4_30f7724613eerow1_col5,#T_005cd163_7127_11eb_acc4_30f7724613eerow2_col3,#T_005cd163_7127_11eb_acc4_30f7724613eerow3_col1,#T_005cd163_7127_11eb_acc4_30f7724613eerow3_col2,#T_005cd163_7127_11eb_acc4_30f7724613eerow3_col7,#T_005cd163_7127_11eb_acc4_30f7724613eerow4_col1,#T_005cd163_7127_11eb_acc4_30f7724613eerow4_col2,#T_005cd163_7127_11eb_acc4_30f7724613eerow4_col3,#T_005cd163_7127_11eb_acc4_30f7724613eerow4_col5,#T_005cd163_7127_11eb_acc4_30f7724613eerow4_col7,#T_005cd163_7127_11eb_acc4_30f7724613eerow5_col0,#T_005cd163_7127_11eb_acc4_30f7724613eerow5_col1,#T_005cd163_7127_11eb_acc4_30f7724613eerow5_col6,#T_005cd163_7127_11eb_acc4_30f7724613eerow6_col0,#T_005cd163_7127_11eb_acc4_30f7724613eerow6_col5,#T_005cd163_7127_11eb_acc4_30f7724613eerow6_col7,#T_005cd163_7127_11eb_acc4_30f7724613eerow7_col0,#T_005cd163_7127_11eb_acc4_30f7724613eerow7_col3,#T_005cd163_7127_11eb_acc4_30f7724613eerow7_col4,#T_005cd163_7127_11eb_acc4_30f7724613eerow7_col6{\n",
       "            background-color:  #3b4cc0;\n",
       "            color:  #f1f1f1;\n",
       "        }#T_005cd163_7127_11eb_acc4_30f7724613eerow1_col7,#T_005cd163_7127_11eb_acc4_30f7724613eerow2_col6{\n",
       "            background-color:  #3e51c5;\n",
       "            color:  #f1f1f1;\n",
       "        }</style><table id=\"T_005cd163_7127_11eb_acc4_30f7724613ee\" ><thead>    <tr>        <th class=\"blank level0\" ></th>        <th class=\"col_heading level0 col0\" >Temperature (C)</th>        <th class=\"col_heading level0 col1\" >Apparent Temperature (C)</th>        <th class=\"col_heading level0 col2\" >Humidity</th>        <th class=\"col_heading level0 col3\" >Wind Speed (km/h)</th>        <th class=\"col_heading level0 col4\" >Wind Bearing (degrees)</th>        <th class=\"col_heading level0 col5\" >Visibility (km)</th>        <th class=\"col_heading level0 col6\" >Pressure (millibars)</th>        <th class=\"col_heading level0 col7\" >Solar irradiance intensity</th>    </tr></thead><tbody>\n",
       "                <tr>\n",
       "                        <th id=\"T_005cd163_7127_11eb_acc4_30f7724613eelevel0_row0\" class=\"row_heading level0 row0\" >Temperature (C)</th>\n",
       "                        <td id=\"T_005cd163_7127_11eb_acc4_30f7724613eerow0_col0\" class=\"data row0 col0\" >1.000000</td>\n",
       "                        <td id=\"T_005cd163_7127_11eb_acc4_30f7724613eerow0_col1\" class=\"data row0 col1\" >0.001110</td>\n",
       "                        <td id=\"T_005cd163_7127_11eb_acc4_30f7724613eerow0_col2\" class=\"data row0 col2\" >0.004359</td>\n",
       "                        <td id=\"T_005cd163_7127_11eb_acc4_30f7724613eerow0_col3\" class=\"data row0 col3\" >0.003482</td>\n",
       "                        <td id=\"T_005cd163_7127_11eb_acc4_30f7724613eerow0_col4\" class=\"data row0 col4\" >0.000370</td>\n",
       "                        <td id=\"T_005cd163_7127_11eb_acc4_30f7724613eerow0_col5\" class=\"data row0 col5\" >-0.003734</td>\n",
       "                        <td id=\"T_005cd163_7127_11eb_acc4_30f7724613eerow0_col6\" class=\"data row0 col6\" >-0.004944</td>\n",
       "                        <td id=\"T_005cd163_7127_11eb_acc4_30f7724613eerow0_col7\" class=\"data row0 col7\" >-0.001439</td>\n",
       "            </tr>\n",
       "            <tr>\n",
       "                        <th id=\"T_005cd163_7127_11eb_acc4_30f7724613eelevel0_row1\" class=\"row_heading level0 row1\" >Apparent Temperature (C)</th>\n",
       "                        <td id=\"T_005cd163_7127_11eb_acc4_30f7724613eerow1_col0\" class=\"data row1 col0\" >0.001110</td>\n",
       "                        <td id=\"T_005cd163_7127_11eb_acc4_30f7724613eerow1_col1\" class=\"data row1 col1\" >1.000000</td>\n",
       "                        <td id=\"T_005cd163_7127_11eb_acc4_30f7724613eerow1_col2\" class=\"data row1 col2\" >0.004179</td>\n",
       "                        <td id=\"T_005cd163_7127_11eb_acc4_30f7724613eerow1_col3\" class=\"data row1 col3\" >-0.005651</td>\n",
       "                        <td id=\"T_005cd163_7127_11eb_acc4_30f7724613eerow1_col4\" class=\"data row1 col4\" >-0.003501</td>\n",
       "                        <td id=\"T_005cd163_7127_11eb_acc4_30f7724613eerow1_col5\" class=\"data row1 col5\" >-0.002458</td>\n",
       "                        <td id=\"T_005cd163_7127_11eb_acc4_30f7724613eerow1_col6\" class=\"data row1 col6\" >0.001793</td>\n",
       "                        <td id=\"T_005cd163_7127_11eb_acc4_30f7724613eerow1_col7\" class=\"data row1 col7\" >0.003820</td>\n",
       "            </tr>\n",
       "            <tr>\n",
       "                        <th id=\"T_005cd163_7127_11eb_acc4_30f7724613eelevel0_row2\" class=\"row_heading level0 row2\" >Humidity</th>\n",
       "                        <td id=\"T_005cd163_7127_11eb_acc4_30f7724613eerow2_col0\" class=\"data row2 col0\" >0.004359</td>\n",
       "                        <td id=\"T_005cd163_7127_11eb_acc4_30f7724613eerow2_col1\" class=\"data row2 col1\" >0.004179</td>\n",
       "                        <td id=\"T_005cd163_7127_11eb_acc4_30f7724613eerow2_col2\" class=\"data row2 col2\" >1.000000</td>\n",
       "                        <td id=\"T_005cd163_7127_11eb_acc4_30f7724613eerow2_col3\" class=\"data row2 col3\" >-0.001844</td>\n",
       "                        <td id=\"T_005cd163_7127_11eb_acc4_30f7724613eerow2_col4\" class=\"data row2 col4\" >-0.002763</td>\n",
       "                        <td id=\"T_005cd163_7127_11eb_acc4_30f7724613eerow2_col5\" class=\"data row2 col5\" >0.003480</td>\n",
       "                        <td id=\"T_005cd163_7127_11eb_acc4_30f7724613eerow2_col6\" class=\"data row2 col6\" >0.006410</td>\n",
       "                        <td id=\"T_005cd163_7127_11eb_acc4_30f7724613eerow2_col7\" class=\"data row2 col7\" >0.002272</td>\n",
       "            </tr>\n",
       "            <tr>\n",
       "                        <th id=\"T_005cd163_7127_11eb_acc4_30f7724613eelevel0_row3\" class=\"row_heading level0 row3\" >Wind Speed (km/h)</th>\n",
       "                        <td id=\"T_005cd163_7127_11eb_acc4_30f7724613eerow3_col0\" class=\"data row3 col0\" >0.003482</td>\n",
       "                        <td id=\"T_005cd163_7127_11eb_acc4_30f7724613eerow3_col1\" class=\"data row3 col1\" >-0.005651</td>\n",
       "                        <td id=\"T_005cd163_7127_11eb_acc4_30f7724613eerow3_col2\" class=\"data row3 col2\" >-0.001844</td>\n",
       "                        <td id=\"T_005cd163_7127_11eb_acc4_30f7724613eerow3_col3\" class=\"data row3 col3\" >1.000000</td>\n",
       "                        <td id=\"T_005cd163_7127_11eb_acc4_30f7724613eerow3_col4\" class=\"data row3 col4\" >-0.002833</td>\n",
       "                        <td id=\"T_005cd163_7127_11eb_acc4_30f7724613eerow3_col5\" class=\"data row3 col5\" >0.000325</td>\n",
       "                        <td id=\"T_005cd163_7127_11eb_acc4_30f7724613eerow3_col6\" class=\"data row3 col6\" >0.002156</td>\n",
       "                        <td id=\"T_005cd163_7127_11eb_acc4_30f7724613eerow3_col7\" class=\"data row3 col7\" >-0.005051</td>\n",
       "            </tr>\n",
       "            <tr>\n",
       "                        <th id=\"T_005cd163_7127_11eb_acc4_30f7724613eelevel0_row4\" class=\"row_heading level0 row4\" >Wind Bearing (degrees)</th>\n",
       "                        <td id=\"T_005cd163_7127_11eb_acc4_30f7724613eerow4_col0\" class=\"data row4 col0\" >0.000370</td>\n",
       "                        <td id=\"T_005cd163_7127_11eb_acc4_30f7724613eerow4_col1\" class=\"data row4 col1\" >-0.003501</td>\n",
       "                        <td id=\"T_005cd163_7127_11eb_acc4_30f7724613eerow4_col2\" class=\"data row4 col2\" >-0.002763</td>\n",
       "                        <td id=\"T_005cd163_7127_11eb_acc4_30f7724613eerow4_col3\" class=\"data row4 col3\" >-0.002833</td>\n",
       "                        <td id=\"T_005cd163_7127_11eb_acc4_30f7724613eerow4_col4\" class=\"data row4 col4\" >1.000000</td>\n",
       "                        <td id=\"T_005cd163_7127_11eb_acc4_30f7724613eerow4_col5\" class=\"data row4 col5\" >-0.000384</td>\n",
       "                        <td id=\"T_005cd163_7127_11eb_acc4_30f7724613eerow4_col6\" class=\"data row4 col6\" >0.001172</td>\n",
       "                        <td id=\"T_005cd163_7127_11eb_acc4_30f7724613eerow4_col7\" class=\"data row4 col7\" >-0.008265</td>\n",
       "            </tr>\n",
       "            <tr>\n",
       "                        <th id=\"T_005cd163_7127_11eb_acc4_30f7724613eelevel0_row5\" class=\"row_heading level0 row5\" >Visibility (km)</th>\n",
       "                        <td id=\"T_005cd163_7127_11eb_acc4_30f7724613eerow5_col0\" class=\"data row5 col0\" >-0.003734</td>\n",
       "                        <td id=\"T_005cd163_7127_11eb_acc4_30f7724613eerow5_col1\" class=\"data row5 col1\" >-0.002458</td>\n",
       "                        <td id=\"T_005cd163_7127_11eb_acc4_30f7724613eerow5_col2\" class=\"data row5 col2\" >0.003480</td>\n",
       "                        <td id=\"T_005cd163_7127_11eb_acc4_30f7724613eerow5_col3\" class=\"data row5 col3\" >0.000325</td>\n",
       "                        <td id=\"T_005cd163_7127_11eb_acc4_30f7724613eerow5_col4\" class=\"data row5 col4\" >-0.000384</td>\n",
       "                        <td id=\"T_005cd163_7127_11eb_acc4_30f7724613eerow5_col5\" class=\"data row5 col5\" >1.000000</td>\n",
       "                        <td id=\"T_005cd163_7127_11eb_acc4_30f7724613eerow5_col6\" class=\"data row5 col6\" >-0.002862</td>\n",
       "                        <td id=\"T_005cd163_7127_11eb_acc4_30f7724613eerow5_col7\" class=\"data row5 col7\" >0.002704</td>\n",
       "            </tr>\n",
       "            <tr>\n",
       "                        <th id=\"T_005cd163_7127_11eb_acc4_30f7724613eelevel0_row6\" class=\"row_heading level0 row6\" >Pressure (millibars)</th>\n",
       "                        <td id=\"T_005cd163_7127_11eb_acc4_30f7724613eerow6_col0\" class=\"data row6 col0\" >-0.004944</td>\n",
       "                        <td id=\"T_005cd163_7127_11eb_acc4_30f7724613eerow6_col1\" class=\"data row6 col1\" >0.001793</td>\n",
       "                        <td id=\"T_005cd163_7127_11eb_acc4_30f7724613eerow6_col2\" class=\"data row6 col2\" >0.006410</td>\n",
       "                        <td id=\"T_005cd163_7127_11eb_acc4_30f7724613eerow6_col3\" class=\"data row6 col3\" >0.002156</td>\n",
       "                        <td id=\"T_005cd163_7127_11eb_acc4_30f7724613eerow6_col4\" class=\"data row6 col4\" >0.001172</td>\n",
       "                        <td id=\"T_005cd163_7127_11eb_acc4_30f7724613eerow6_col5\" class=\"data row6 col5\" >-0.002862</td>\n",
       "                        <td id=\"T_005cd163_7127_11eb_acc4_30f7724613eerow6_col6\" class=\"data row6 col6\" >1.000000</td>\n",
       "                        <td id=\"T_005cd163_7127_11eb_acc4_30f7724613eerow6_col7\" class=\"data row6 col7\" >-0.005583</td>\n",
       "            </tr>\n",
       "            <tr>\n",
       "                        <th id=\"T_005cd163_7127_11eb_acc4_30f7724613eelevel0_row7\" class=\"row_heading level0 row7\" >Solar irradiance intensity</th>\n",
       "                        <td id=\"T_005cd163_7127_11eb_acc4_30f7724613eerow7_col0\" class=\"data row7 col0\" >-0.001439</td>\n",
       "                        <td id=\"T_005cd163_7127_11eb_acc4_30f7724613eerow7_col1\" class=\"data row7 col1\" >0.003820</td>\n",
       "                        <td id=\"T_005cd163_7127_11eb_acc4_30f7724613eerow7_col2\" class=\"data row7 col2\" >0.002272</td>\n",
       "                        <td id=\"T_005cd163_7127_11eb_acc4_30f7724613eerow7_col3\" class=\"data row7 col3\" >-0.005051</td>\n",
       "                        <td id=\"T_005cd163_7127_11eb_acc4_30f7724613eerow7_col4\" class=\"data row7 col4\" >-0.008265</td>\n",
       "                        <td id=\"T_005cd163_7127_11eb_acc4_30f7724613eerow7_col5\" class=\"data row7 col5\" >0.002704</td>\n",
       "                        <td id=\"T_005cd163_7127_11eb_acc4_30f7724613eerow7_col6\" class=\"data row7 col6\" >-0.005583</td>\n",
       "                        <td id=\"T_005cd163_7127_11eb_acc4_30f7724613eerow7_col7\" class=\"data row7 col7\" >1.000000</td>\n",
       "            </tr>\n",
       "    </tbody></table>"
      ],
      "text/plain": [
       "<pandas.io.formats.style.Styler at 0x2b7ac091a30>"
      ]
     },
     "execution_count": 50,
     "metadata": {},
     "output_type": "execute_result"
    }
   ],
   "source": [
    "cloud_train.corr().style.background_gradient(cmap='coolwarm')"
   ]
  },
  {
   "cell_type": "code",
   "execution_count": null,
   "metadata": {},
   "outputs": [],
   "source": []
  },
  {
   "cell_type": "code",
   "execution_count": 51,
   "metadata": {},
   "outputs": [
    {
     "data": {
      "text/html": [
       "<div>\n",
       "<style scoped>\n",
       "    .dataframe tbody tr th:only-of-type {\n",
       "        vertical-align: middle;\n",
       "    }\n",
       "\n",
       "    .dataframe tbody tr th {\n",
       "        vertical-align: top;\n",
       "    }\n",
       "\n",
       "    .dataframe thead th {\n",
       "        text-align: right;\n",
       "    }\n",
       "</style>\n",
       "<table border=\"1\" class=\"dataframe\">\n",
       "  <thead>\n",
       "    <tr style=\"text-align: right;\">\n",
       "      <th></th>\n",
       "      <th>Cloud_Condition</th>\n",
       "      <th>Rain_OR_SNOW</th>\n",
       "      <th>Temperature (C)</th>\n",
       "      <th>Apparent Temperature (C)</th>\n",
       "      <th>Humidity</th>\n",
       "      <th>Wind Speed (km/h)</th>\n",
       "      <th>Wind Bearing (degrees)</th>\n",
       "      <th>Visibility (km)</th>\n",
       "      <th>Pressure (millibars)</th>\n",
       "      <th>Condensation</th>\n",
       "      <th>Solar irradiance intensity</th>\n",
       "    </tr>\n",
       "  </thead>\n",
       "  <tbody>\n",
       "    <tr>\n",
       "      <th>0</th>\n",
       "      <td>Partly Cloudy</td>\n",
       "      <td>rain</td>\n",
       "      <td>-13.0</td>\n",
       "      <td>-19.0</td>\n",
       "      <td>0.134364</td>\n",
       "      <td>17.0</td>\n",
       "      <td>68.0</td>\n",
       "      <td>4.0</td>\n",
       "      <td>1008.0</td>\n",
       "      <td>Frost</td>\n",
       "      <td>1068</td>\n",
       "    </tr>\n",
       "    <tr>\n",
       "      <th>1</th>\n",
       "      <td>Partly Cloudy</td>\n",
       "      <td>rain</td>\n",
       "      <td>15.0</td>\n",
       "      <td>5.0</td>\n",
       "      <td>0.847434</td>\n",
       "      <td>8.0</td>\n",
       "      <td>291.0</td>\n",
       "      <td>2.0</td>\n",
       "      <td>1036.0</td>\n",
       "      <td>Frost</td>\n",
       "      <td>1291</td>\n",
       "    </tr>\n",
       "    <tr>\n",
       "      <th>2</th>\n",
       "      <td>Partly Cloudy</td>\n",
       "      <td>rain</td>\n",
       "      <td>33.0</td>\n",
       "      <td>-12.0</td>\n",
       "      <td>0.763775</td>\n",
       "      <td>32.0</td>\n",
       "      <td>32.0</td>\n",
       "      <td>8.0</td>\n",
       "      <td>1004.0</td>\n",
       "      <td>Dry</td>\n",
       "      <td>1433</td>\n",
       "    </tr>\n",
       "    <tr>\n",
       "      <th>3</th>\n",
       "      <td>Partly Cloudy</td>\n",
       "      <td>snow</td>\n",
       "      <td>30.0</td>\n",
       "      <td>36.0</td>\n",
       "      <td>0.255069</td>\n",
       "      <td>15.0</td>\n",
       "      <td>130.0</td>\n",
       "      <td>3.0</td>\n",
       "      <td>1016.0</td>\n",
       "      <td>Dry</td>\n",
       "      <td>1410</td>\n",
       "    </tr>\n",
       "    <tr>\n",
       "      <th>4</th>\n",
       "      <td>Partly Cloudy</td>\n",
       "      <td>snow</td>\n",
       "      <td>27.0</td>\n",
       "      <td>30.0</td>\n",
       "      <td>0.495435</td>\n",
       "      <td>63.0</td>\n",
       "      <td>60.0</td>\n",
       "      <td>15.0</td>\n",
       "      <td>1007.0</td>\n",
       "      <td>Fog</td>\n",
       "      <td>1391</td>\n",
       "    </tr>\n",
       "  </tbody>\n",
       "</table>\n",
       "</div>"
      ],
      "text/plain": [
       "  Cloud_Condition Rain_OR_SNOW  Temperature (C)  Apparent Temperature (C)  \\\n",
       "0   Partly Cloudy         rain            -13.0                     -19.0   \n",
       "1   Partly Cloudy         rain             15.0                       5.0   \n",
       "2   Partly Cloudy         rain             33.0                     -12.0   \n",
       "3   Partly Cloudy         snow             30.0                      36.0   \n",
       "4   Partly Cloudy         snow             27.0                      30.0   \n",
       "\n",
       "   Humidity  Wind Speed (km/h)  Wind Bearing (degrees)  Visibility (km)  \\\n",
       "0  0.134364               17.0                    68.0              4.0   \n",
       "1  0.847434                8.0                   291.0              2.0   \n",
       "2  0.763775               32.0                    32.0              8.0   \n",
       "3  0.255069               15.0                   130.0              3.0   \n",
       "4  0.495435               63.0                    60.0             15.0   \n",
       "\n",
       "   Pressure (millibars) Condensation  Solar irradiance intensity  \n",
       "0                1008.0        Frost                        1068  \n",
       "1                1036.0        Frost                        1291  \n",
       "2                1004.0          Dry                        1433  \n",
       "3                1016.0          Dry                        1410  \n",
       "4                1007.0          Fog                        1391  "
      ]
     },
     "execution_count": 51,
     "metadata": {},
     "output_type": "execute_result"
    }
   ],
   "source": [
    "cloud_train.head()"
   ]
  },
  {
   "cell_type": "code",
   "execution_count": null,
   "metadata": {},
   "outputs": [],
   "source": []
  },
  {
   "cell_type": "code",
   "execution_count": null,
   "metadata": {},
   "outputs": [],
   "source": []
  },
  {
   "cell_type": "code",
   "execution_count": null,
   "metadata": {},
   "outputs": [],
   "source": []
  },
  {
   "cell_type": "code",
   "execution_count": null,
   "metadata": {},
   "outputs": [],
   "source": []
  },
  {
   "cell_type": "markdown",
   "metadata": {},
   "source": [
    "# applying label Encoder on Target Variable"
   ]
  },
  {
   "cell_type": "code",
   "execution_count": 52,
   "metadata": {},
   "outputs": [],
   "source": [
    "# importing LabelEncoder algorithm from sklearn.preprocessing\n",
    "from sklearn.preprocessing import LabelEncoder\n",
    "\n",
    "# calling the function\n",
    "le = LabelEncoder()\n",
    "\n",
    "# fitting and transforming classes of target variable\n",
    "cloud_train['Cloud_Condition'] = le.fit_transform(cloud_train['Cloud_Condition'])"
   ]
  },
  {
   "cell_type": "code",
   "execution_count": 53,
   "metadata": {},
   "outputs": [
    {
     "data": {
      "text/html": [
       "<div>\n",
       "<style scoped>\n",
       "    .dataframe tbody tr th:only-of-type {\n",
       "        vertical-align: middle;\n",
       "    }\n",
       "\n",
       "    .dataframe tbody tr th {\n",
       "        vertical-align: top;\n",
       "    }\n",
       "\n",
       "    .dataframe thead th {\n",
       "        text-align: right;\n",
       "    }\n",
       "</style>\n",
       "<table border=\"1\" class=\"dataframe\">\n",
       "  <thead>\n",
       "    <tr style=\"text-align: right;\">\n",
       "      <th></th>\n",
       "      <th>Cloud_Condition</th>\n",
       "      <th>Rain_OR_SNOW</th>\n",
       "      <th>Temperature (C)</th>\n",
       "      <th>Apparent Temperature (C)</th>\n",
       "      <th>Humidity</th>\n",
       "      <th>Wind Speed (km/h)</th>\n",
       "      <th>Wind Bearing (degrees)</th>\n",
       "      <th>Visibility (km)</th>\n",
       "      <th>Pressure (millibars)</th>\n",
       "      <th>Condensation</th>\n",
       "      <th>Solar irradiance intensity</th>\n",
       "    </tr>\n",
       "  </thead>\n",
       "  <tbody>\n",
       "    <tr>\n",
       "      <th>0</th>\n",
       "      <td>19</td>\n",
       "      <td>rain</td>\n",
       "      <td>-13.0</td>\n",
       "      <td>-19.0</td>\n",
       "      <td>0.134364</td>\n",
       "      <td>17.0</td>\n",
       "      <td>68.0</td>\n",
       "      <td>4.0</td>\n",
       "      <td>1008.0</td>\n",
       "      <td>Frost</td>\n",
       "      <td>1068</td>\n",
       "    </tr>\n",
       "    <tr>\n",
       "      <th>1</th>\n",
       "      <td>19</td>\n",
       "      <td>rain</td>\n",
       "      <td>15.0</td>\n",
       "      <td>5.0</td>\n",
       "      <td>0.847434</td>\n",
       "      <td>8.0</td>\n",
       "      <td>291.0</td>\n",
       "      <td>2.0</td>\n",
       "      <td>1036.0</td>\n",
       "      <td>Frost</td>\n",
       "      <td>1291</td>\n",
       "    </tr>\n",
       "    <tr>\n",
       "      <th>2</th>\n",
       "      <td>19</td>\n",
       "      <td>rain</td>\n",
       "      <td>33.0</td>\n",
       "      <td>-12.0</td>\n",
       "      <td>0.763775</td>\n",
       "      <td>32.0</td>\n",
       "      <td>32.0</td>\n",
       "      <td>8.0</td>\n",
       "      <td>1004.0</td>\n",
       "      <td>Dry</td>\n",
       "      <td>1433</td>\n",
       "    </tr>\n",
       "    <tr>\n",
       "      <th>3</th>\n",
       "      <td>19</td>\n",
       "      <td>snow</td>\n",
       "      <td>30.0</td>\n",
       "      <td>36.0</td>\n",
       "      <td>0.255069</td>\n",
       "      <td>15.0</td>\n",
       "      <td>130.0</td>\n",
       "      <td>3.0</td>\n",
       "      <td>1016.0</td>\n",
       "      <td>Dry</td>\n",
       "      <td>1410</td>\n",
       "    </tr>\n",
       "    <tr>\n",
       "      <th>4</th>\n",
       "      <td>19</td>\n",
       "      <td>snow</td>\n",
       "      <td>27.0</td>\n",
       "      <td>30.0</td>\n",
       "      <td>0.495435</td>\n",
       "      <td>63.0</td>\n",
       "      <td>60.0</td>\n",
       "      <td>15.0</td>\n",
       "      <td>1007.0</td>\n",
       "      <td>Fog</td>\n",
       "      <td>1391</td>\n",
       "    </tr>\n",
       "  </tbody>\n",
       "</table>\n",
       "</div>"
      ],
      "text/plain": [
       "   Cloud_Condition Rain_OR_SNOW  Temperature (C)  Apparent Temperature (C)  \\\n",
       "0               19         rain            -13.0                     -19.0   \n",
       "1               19         rain             15.0                       5.0   \n",
       "2               19         rain             33.0                     -12.0   \n",
       "3               19         snow             30.0                      36.0   \n",
       "4               19         snow             27.0                      30.0   \n",
       "\n",
       "   Humidity  Wind Speed (km/h)  Wind Bearing (degrees)  Visibility (km)  \\\n",
       "0  0.134364               17.0                    68.0              4.0   \n",
       "1  0.847434                8.0                   291.0              2.0   \n",
       "2  0.763775               32.0                    32.0              8.0   \n",
       "3  0.255069               15.0                   130.0              3.0   \n",
       "4  0.495435               63.0                    60.0             15.0   \n",
       "\n",
       "   Pressure (millibars) Condensation  Solar irradiance intensity  \n",
       "0                1008.0        Frost                        1068  \n",
       "1                1036.0        Frost                        1291  \n",
       "2                1004.0          Dry                        1433  \n",
       "3                1016.0          Dry                        1410  \n",
       "4                1007.0          Fog                        1391  "
      ]
     },
     "execution_count": 53,
     "metadata": {},
     "output_type": "execute_result"
    }
   ],
   "source": [
    "# print 5 values of cloud_train\n",
    "cloud_train.head()"
   ]
  },
  {
   "cell_type": "markdown",
   "metadata": {},
   "source": [
    "### separating into numeric and categoric features"
   ]
  },
  {
   "cell_type": "code",
   "execution_count": 54,
   "metadata": {},
   "outputs": [
    {
     "data": {
      "text/plain": [
       "Index(['Cloud_Condition', 'Temperature (C)', 'Apparent Temperature (C)',\n",
       "       'Humidity', 'Wind Speed (km/h)', 'Wind Bearing (degrees)',\n",
       "       'Visibility (km)', 'Pressure (millibars)',\n",
       "       'Solar irradiance intensity'],\n",
       "      dtype='object')"
      ]
     },
     "execution_count": 54,
     "metadata": {},
     "output_type": "execute_result"
    }
   ],
   "source": [
    "# selecting numerical variable\n",
    "# selecting data_types with select_dtypes\n",
    "# selecting numerical with np.number\n",
    "df_num = cloud_train.select_dtypes(np.number)\n",
    "df_num.columns"
   ]
  },
  {
   "cell_type": "code",
   "execution_count": 55,
   "metadata": {},
   "outputs": [
    {
     "data": {
      "text/plain": [
       "Index(['Rain_OR_SNOW', 'Condensation'], dtype='object')"
      ]
     },
     "execution_count": 55,
     "metadata": {},
     "output_type": "execute_result"
    }
   ],
   "source": [
    "# selecting categorical variable\n",
    "# selecting data_types with select_dtypes\n",
    "# selecting categorical variable with 'object'\n",
    "df_cat = cloud_train.select_dtypes('object')\n",
    "df_cat.columns"
   ]
  },
  {
   "cell_type": "code",
   "execution_count": 56,
   "metadata": {},
   "outputs": [
    {
     "data": {
      "text/plain": [
       "Index(['Temperature (C)', 'Apparent Temperature (C)', 'Humidity',\n",
       "       'Wind Speed (km/h)', 'Wind Bearing (degrees)', 'Visibility (km)',\n",
       "       'Pressure (millibars)', 'Solar irradiance intensity'],\n",
       "      dtype='object')"
      ]
     },
     "execution_count": 56,
     "metadata": {},
     "output_type": "execute_result"
    }
   ],
   "source": [
    "# selecting numerical variable\n",
    "# selecting data_types with select_dtypes\n",
    "# selecting numerical with np.number\n",
    "df_num_test = cloud_test.select_dtypes(np.number)\n",
    "df_num_test.columns"
   ]
  },
  {
   "cell_type": "code",
   "execution_count": 57,
   "metadata": {},
   "outputs": [
    {
     "data": {
      "text/plain": [
       "Index(['Rain_OR_SNOW', 'Condensation'], dtype='object')"
      ]
     },
     "execution_count": 57,
     "metadata": {},
     "output_type": "execute_result"
    }
   ],
   "source": [
    "# selecting categorical variable\n",
    "# selecting data_types with select_dtypes\n",
    "# selecting categorical variable with 'object'\n",
    "df_cat_test = cloud_test.select_dtypes('object')\n",
    "df_cat_test.columns"
   ]
  },
  {
   "cell_type": "markdown",
   "metadata": {},
   "source": [
    "### applying dummy variable  for categorical value"
   ]
  },
  {
   "cell_type": "code",
   "execution_count": 58,
   "metadata": {},
   "outputs": [],
   "source": [
    "# use 'get_dummies()' from pandas to create dummy variables\n",
    "# use 'drop_first = True' to create (n-1) dummy variables\n",
    "dummy_encoded_variable = pd.get_dummies(df_cat, drop_first=True)"
   ]
  },
  {
   "cell_type": "code",
   "execution_count": 59,
   "metadata": {},
   "outputs": [],
   "source": [
    "# use 'get_dummies()' from pandas to create dummy variables\n",
    "# use 'drop_first = True' to create (n-1) dummy variables\n",
    "dummy_encoded = pd.get_dummies(df_cat_test, drop_first=True)"
   ]
  },
  {
   "cell_type": "code",
   "execution_count": 60,
   "metadata": {},
   "outputs": [
    {
     "data": {
      "text/html": [
       "<div>\n",
       "<style scoped>\n",
       "    .dataframe tbody tr th:only-of-type {\n",
       "        vertical-align: middle;\n",
       "    }\n",
       "\n",
       "    .dataframe tbody tr th {\n",
       "        vertical-align: top;\n",
       "    }\n",
       "\n",
       "    .dataframe thead th {\n",
       "        text-align: right;\n",
       "    }\n",
       "</style>\n",
       "<table border=\"1\" class=\"dataframe\">\n",
       "  <thead>\n",
       "    <tr style=\"text-align: right;\">\n",
       "      <th></th>\n",
       "      <th>Cloud_Condition</th>\n",
       "      <th>Temperature (C)</th>\n",
       "      <th>Apparent Temperature (C)</th>\n",
       "      <th>Humidity</th>\n",
       "      <th>Wind Speed (km/h)</th>\n",
       "      <th>Wind Bearing (degrees)</th>\n",
       "      <th>Visibility (km)</th>\n",
       "      <th>Pressure (millibars)</th>\n",
       "      <th>Solar irradiance intensity</th>\n",
       "      <th>Rain_OR_SNOW_snow</th>\n",
       "      <th>Condensation_Fog</th>\n",
       "      <th>Condensation_Frost</th>\n",
       "      <th>Condensation_Mist</th>\n",
       "    </tr>\n",
       "  </thead>\n",
       "  <tbody>\n",
       "    <tr>\n",
       "      <th>0</th>\n",
       "      <td>19</td>\n",
       "      <td>-13.0</td>\n",
       "      <td>-19.0</td>\n",
       "      <td>0.134364</td>\n",
       "      <td>17.0</td>\n",
       "      <td>68.0</td>\n",
       "      <td>4.0</td>\n",
       "      <td>1008.0</td>\n",
       "      <td>1068</td>\n",
       "      <td>0</td>\n",
       "      <td>0</td>\n",
       "      <td>1</td>\n",
       "      <td>0</td>\n",
       "    </tr>\n",
       "    <tr>\n",
       "      <th>1</th>\n",
       "      <td>19</td>\n",
       "      <td>15.0</td>\n",
       "      <td>5.0</td>\n",
       "      <td>0.847434</td>\n",
       "      <td>8.0</td>\n",
       "      <td>291.0</td>\n",
       "      <td>2.0</td>\n",
       "      <td>1036.0</td>\n",
       "      <td>1291</td>\n",
       "      <td>0</td>\n",
       "      <td>0</td>\n",
       "      <td>1</td>\n",
       "      <td>0</td>\n",
       "    </tr>\n",
       "    <tr>\n",
       "      <th>2</th>\n",
       "      <td>19</td>\n",
       "      <td>33.0</td>\n",
       "      <td>-12.0</td>\n",
       "      <td>0.763775</td>\n",
       "      <td>32.0</td>\n",
       "      <td>32.0</td>\n",
       "      <td>8.0</td>\n",
       "      <td>1004.0</td>\n",
       "      <td>1433</td>\n",
       "      <td>0</td>\n",
       "      <td>0</td>\n",
       "      <td>0</td>\n",
       "      <td>0</td>\n",
       "    </tr>\n",
       "    <tr>\n",
       "      <th>3</th>\n",
       "      <td>19</td>\n",
       "      <td>30.0</td>\n",
       "      <td>36.0</td>\n",
       "      <td>0.255069</td>\n",
       "      <td>15.0</td>\n",
       "      <td>130.0</td>\n",
       "      <td>3.0</td>\n",
       "      <td>1016.0</td>\n",
       "      <td>1410</td>\n",
       "      <td>1</td>\n",
       "      <td>0</td>\n",
       "      <td>0</td>\n",
       "      <td>0</td>\n",
       "    </tr>\n",
       "    <tr>\n",
       "      <th>4</th>\n",
       "      <td>19</td>\n",
       "      <td>27.0</td>\n",
       "      <td>30.0</td>\n",
       "      <td>0.495435</td>\n",
       "      <td>63.0</td>\n",
       "      <td>60.0</td>\n",
       "      <td>15.0</td>\n",
       "      <td>1007.0</td>\n",
       "      <td>1391</td>\n",
       "      <td>1</td>\n",
       "      <td>1</td>\n",
       "      <td>0</td>\n",
       "      <td>0</td>\n",
       "    </tr>\n",
       "  </tbody>\n",
       "</table>\n",
       "</div>"
      ],
      "text/plain": [
       "   Cloud_Condition  Temperature (C)  Apparent Temperature (C)  Humidity  \\\n",
       "0               19            -13.0                     -19.0  0.134364   \n",
       "1               19             15.0                       5.0  0.847434   \n",
       "2               19             33.0                     -12.0  0.763775   \n",
       "3               19             30.0                      36.0  0.255069   \n",
       "4               19             27.0                      30.0  0.495435   \n",
       "\n",
       "   Wind Speed (km/h)  Wind Bearing (degrees)  Visibility (km)  \\\n",
       "0               17.0                    68.0              4.0   \n",
       "1                8.0                   291.0              2.0   \n",
       "2               32.0                    32.0              8.0   \n",
       "3               15.0                   130.0              3.0   \n",
       "4               63.0                    60.0             15.0   \n",
       "\n",
       "   Pressure (millibars)  Solar irradiance intensity  Rain_OR_SNOW_snow  \\\n",
       "0                1008.0                        1068                  0   \n",
       "1                1036.0                        1291                  0   \n",
       "2                1004.0                        1433                  0   \n",
       "3                1016.0                        1410                  1   \n",
       "4                1007.0                        1391                  1   \n",
       "\n",
       "   Condensation_Fog  Condensation_Frost  Condensation_Mist  \n",
       "0                 0                   1                  0  \n",
       "1                 0                   1                  0  \n",
       "2                 0                   0                  0  \n",
       "3                 0                   0                  0  \n",
       "4                 1                   0                  0  "
      ]
     },
     "execution_count": 60,
     "metadata": {},
     "output_type": "execute_result"
    }
   ],
   "source": [
    "# concatenate the numerical and dummy encoded categorical variables using concat()\n",
    "# axis=1: specifies that the concatenation is column wise\n",
    "df_dummy = pd.concat([df_num, dummy_encoded_variable], axis=1)\n",
    "\n",
    "# display data with dummy variables\n",
    "df_dummy.head()"
   ]
  },
  {
   "cell_type": "code",
   "execution_count": 61,
   "metadata": {},
   "outputs": [
    {
     "data": {
      "text/html": [
       "<div>\n",
       "<style scoped>\n",
       "    .dataframe tbody tr th:only-of-type {\n",
       "        vertical-align: middle;\n",
       "    }\n",
       "\n",
       "    .dataframe tbody tr th {\n",
       "        vertical-align: top;\n",
       "    }\n",
       "\n",
       "    .dataframe thead th {\n",
       "        text-align: right;\n",
       "    }\n",
       "</style>\n",
       "<table border=\"1\" class=\"dataframe\">\n",
       "  <thead>\n",
       "    <tr style=\"text-align: right;\">\n",
       "      <th></th>\n",
       "      <th>Temperature (C)</th>\n",
       "      <th>Apparent Temperature (C)</th>\n",
       "      <th>Humidity</th>\n",
       "      <th>Wind Speed (km/h)</th>\n",
       "      <th>Wind Bearing (degrees)</th>\n",
       "      <th>Visibility (km)</th>\n",
       "      <th>Pressure (millibars)</th>\n",
       "      <th>Solar irradiance intensity</th>\n",
       "      <th>Rain_OR_SNOW_snow</th>\n",
       "      <th>Condensation_Fog</th>\n",
       "      <th>Condensation_Frost</th>\n",
       "      <th>Condensation_Mist</th>\n",
       "    </tr>\n",
       "  </thead>\n",
       "  <tbody>\n",
       "    <tr>\n",
       "      <th>0</th>\n",
       "      <td>1.0</td>\n",
       "      <td>0.0</td>\n",
       "      <td>0.078150</td>\n",
       "      <td>17.0</td>\n",
       "      <td>300</td>\n",
       "      <td>10.0</td>\n",
       "      <td>1029.0</td>\n",
       "      <td>1399</td>\n",
       "      <td>0</td>\n",
       "      <td>1</td>\n",
       "      <td>0</td>\n",
       "      <td>0</td>\n",
       "    </tr>\n",
       "    <tr>\n",
       "      <th>1</th>\n",
       "      <td>-3.0</td>\n",
       "      <td>25.0</td>\n",
       "      <td>0.653251</td>\n",
       "      <td>25.0</td>\n",
       "      <td>322</td>\n",
       "      <td>0.0</td>\n",
       "      <td>1009.0</td>\n",
       "      <td>1468</td>\n",
       "      <td>0</td>\n",
       "      <td>0</td>\n",
       "      <td>0</td>\n",
       "      <td>0</td>\n",
       "    </tr>\n",
       "    <tr>\n",
       "      <th>2</th>\n",
       "      <td>18.0</td>\n",
       "      <td>17.0</td>\n",
       "      <td>0.930970</td>\n",
       "      <td>37.0</td>\n",
       "      <td>330</td>\n",
       "      <td>12.0</td>\n",
       "      <td>1045.0</td>\n",
       "      <td>1152</td>\n",
       "      <td>0</td>\n",
       "      <td>0</td>\n",
       "      <td>0</td>\n",
       "      <td>0</td>\n",
       "    </tr>\n",
       "    <tr>\n",
       "      <th>3</th>\n",
       "      <td>33.0</td>\n",
       "      <td>-12.0</td>\n",
       "      <td>0.778844</td>\n",
       "      <td>50.0</td>\n",
       "      <td>350</td>\n",
       "      <td>3.0</td>\n",
       "      <td>1022.0</td>\n",
       "      <td>1003</td>\n",
       "      <td>0</td>\n",
       "      <td>1</td>\n",
       "      <td>0</td>\n",
       "      <td>0</td>\n",
       "    </tr>\n",
       "    <tr>\n",
       "      <th>4</th>\n",
       "      <td>25.0</td>\n",
       "      <td>-19.0</td>\n",
       "      <td>0.491523</td>\n",
       "      <td>62.0</td>\n",
       "      <td>300</td>\n",
       "      <td>12.0</td>\n",
       "      <td>1042.0</td>\n",
       "      <td>1228</td>\n",
       "      <td>0</td>\n",
       "      <td>1</td>\n",
       "      <td>0</td>\n",
       "      <td>0</td>\n",
       "    </tr>\n",
       "  </tbody>\n",
       "</table>\n",
       "</div>"
      ],
      "text/plain": [
       "   Temperature (C)  Apparent Temperature (C)  Humidity  Wind Speed (km/h)  \\\n",
       "0              1.0                       0.0  0.078150               17.0   \n",
       "1             -3.0                      25.0  0.653251               25.0   \n",
       "2             18.0                      17.0  0.930970               37.0   \n",
       "3             33.0                     -12.0  0.778844               50.0   \n",
       "4             25.0                     -19.0  0.491523               62.0   \n",
       "\n",
       "   Wind Bearing (degrees)  Visibility (km)  Pressure (millibars)  \\\n",
       "0                     300             10.0                1029.0   \n",
       "1                     322              0.0                1009.0   \n",
       "2                     330             12.0                1045.0   \n",
       "3                     350              3.0                1022.0   \n",
       "4                     300             12.0                1042.0   \n",
       "\n",
       "   Solar irradiance intensity  Rain_OR_SNOW_snow  Condensation_Fog  \\\n",
       "0                        1399                  0                 1   \n",
       "1                        1468                  0                 0   \n",
       "2                        1152                  0                 0   \n",
       "3                        1003                  0                 1   \n",
       "4                        1228                  0                 1   \n",
       "\n",
       "   Condensation_Frost  Condensation_Mist  \n",
       "0                   0                  0  \n",
       "1                   0                  0  \n",
       "2                   0                  0  \n",
       "3                   0                  0  \n",
       "4                   0                  0  "
      ]
     },
     "execution_count": 61,
     "metadata": {},
     "output_type": "execute_result"
    }
   ],
   "source": [
    "# concatenate the numerical and dummy encoded categorical variables using concat()\n",
    "# axis=1: specifies that the concatenation is column wise\n",
    "df_dummy_test = pd.concat([df_num_test, dummy_encoded], axis=1)\n",
    "\n",
    "# display data with dummy variables\n",
    "df_dummy_test.head()"
   ]
  },
  {
   "cell_type": "code",
   "execution_count": 62,
   "metadata": {},
   "outputs": [
    {
     "data": {
      "text/plain": [
       "(16452, 12)"
      ]
     },
     "execution_count": 62,
     "metadata": {},
     "output_type": "execute_result"
    }
   ],
   "source": [
    "df_dummy_test.shape"
   ]
  },
  {
   "cell_type": "code",
   "execution_count": 63,
   "metadata": {},
   "outputs": [
    {
     "data": {
      "text/plain": [
       "(71428, 13)"
      ]
     },
     "execution_count": 63,
     "metadata": {},
     "output_type": "execute_result"
    }
   ],
   "source": [
    "# checking shape of dummy dataframe\n",
    "df_dummy.shape"
   ]
  },
  {
   "cell_type": "code",
   "execution_count": 64,
   "metadata": {},
   "outputs": [
    {
     "name": "stdout",
     "output_type": "stream",
     "text": [
      "The shape of X_train is: (49999, 13)\n",
      "The shape of X_test is: (21429, 13)\n",
      "The shape of y_train is: (49999,)\n",
      "The shape of y_test is: (21429,)\n"
     ]
    }
   ],
   "source": [
    "# add the intercept column using 'add_constant()'\n",
    "df_dummy = sm.add_constant(df_dummy)\n",
    "\n",
    "# separate the independent and dependent variables\n",
    "# drop(): drops the specified columns\n",
    "# axis=1: specifies that the column is to be dropped\n",
    "X = df_dummy.drop('Cloud_Condition', axis = 1)\n",
    "\n",
    "# storing columns of X in X_col\n",
    "X_col = X.columns\n",
    "\n",
    "# extract the target variable from the data set\n",
    "y = df_dummy['Cloud_Condition']\n",
    "\n",
    "# split data into train subset and test subset for predictor and target variables\n",
    "# 'test_size' returns the proportion of data to be included in the test set\n",
    "# set 'random_state' to generate the same dataset each time you run the code \n",
    "X_train, X_test, y_train, y_test = train_test_split(X, y, test_size = 0.3, random_state = 1)\n",
    "\n",
    "# check the dimensions of the train & test subset for \n",
    "# print dimension of predictors train set\n",
    "print(\"The shape of X_train is:\",X_train.shape)\n",
    "\n",
    "# print dimension of predictors test set\n",
    "print(\"The shape of X_test is:\",X_test.shape)\n",
    "\n",
    "# print dimension of target train set\n",
    "print(\"The shape of y_train is:\",y_train.shape)\n",
    "\n",
    "# print dimension of target test set\n",
    "print(\"The shape of y_test is:\",y_test.shape)"
   ]
  },
  {
   "cell_type": "code",
   "execution_count": 65,
   "metadata": {},
   "outputs": [
    {
     "name": "stdout",
     "output_type": "stream",
     "text": [
      "The shape of X_test is: (16452, 13)\n"
     ]
    }
   ],
   "source": [
    "# add the intercept column using 'add_constant()'\n",
    "df_dummy_test = sm.add_constant(df_dummy_test)\n",
    "\n",
    "# separate the independent and dependent variables\n",
    "# drop(): drops the specified columns\n",
    "# axis=1: specifies that the column is to be dropped\n",
    "X_test1 = df_dummy_test\n",
    "\n",
    "# storing columns of X in X_col\n",
    "X_col1 = X_test1.columns\n",
    "\n",
    "\n",
    "\n",
    "# print dimension of predictors test set\n",
    "print(\"The shape of X_test is:\",X_test1.shape)"
   ]
  },
  {
   "cell_type": "code",
   "execution_count": 66,
   "metadata": {},
   "outputs": [],
   "source": [
    "# importing RepeatedEditedNearestNeighbours algorithm from imblearn.under_sampling\n",
    "from imblearn.under_sampling import RepeatedEditedNearestNeighbours\n",
    "\n",
    "# calling RepeatedEditedNearestNeighbours\n",
    "# giving sampling_strategy = 'not majority'\n",
    "ros = RepeatedEditedNearestNeighbours(sampling_strategy= 'not majority')\n",
    "\n",
    "# fitting data for undersampling\n",
    "X_resampled, y_resampled = ros.fit_resample(X, y)"
   ]
  },
  {
   "cell_type": "code",
   "execution_count": 67,
   "metadata": {},
   "outputs": [
    {
     "name": "stdout",
     "output_type": "stream",
     "text": [
      "[(6, 23), (12, 3), (17, 22017), (18, 107), (19, 240)]\n"
     ]
    }
   ],
   "source": [
    "# of examples for each class\n",
    "print(sorted(Counter(y_resampled).items()))"
   ]
  },
  {
   "cell_type": "code",
   "execution_count": 68,
   "metadata": {},
   "outputs": [
    {
     "data": {
      "text/plain": [
       "22390"
      ]
     },
     "execution_count": 68,
     "metadata": {},
     "output_type": "execute_result"
    }
   ],
   "source": [
    "# count function will give total number of observation\n",
    "y_resampled.count()"
   ]
  },
  {
   "cell_type": "code",
   "execution_count": 69,
   "metadata": {},
   "outputs": [],
   "source": [
    "# splitting the data into X_train, X_test, y_train, y_test\n",
    "X_train, X_test, y_train, y_test = train_test_split(X_resampled, y_resampled, test_size = 0.2, random_state = 1)"
   ]
  },
  {
   "cell_type": "code",
   "execution_count": null,
   "metadata": {},
   "outputs": [],
   "source": []
  },
  {
   "cell_type": "markdown",
   "metadata": {},
   "source": [
    "# Normalizing the dataset  (to give equal importance to each attribute(Independent Variable))"
   ]
  },
  {
   "cell_type": "code",
   "execution_count": 70,
   "metadata": {},
   "outputs": [],
   "source": [
    "# importing a algorithm from sklearn.preprocessing library\n",
    "from sklearn.preprocessing import StandardScaler\n",
    "\n",
    "# calling StandardScaler() algorithm\n",
    "sc = StandardScaler()\n",
    "\n",
    "# fit_transform will transform X_train into standardise values\n",
    "X_train = sc.fit_transform(X_train)\n",
    "\n",
    "# fit_transform will transform X_test into standardise values\n",
    "X_test =sc.transform(X_test) "
   ]
  },
  {
   "cell_type": "code",
   "execution_count": 71,
   "metadata": {},
   "outputs": [
    {
     "data": {
      "text/html": [
       "<div>\n",
       "<style scoped>\n",
       "    .dataframe tbody tr th:only-of-type {\n",
       "        vertical-align: middle;\n",
       "    }\n",
       "\n",
       "    .dataframe tbody tr th {\n",
       "        vertical-align: top;\n",
       "    }\n",
       "\n",
       "    .dataframe thead th {\n",
       "        text-align: right;\n",
       "    }\n",
       "</style>\n",
       "<table border=\"1\" class=\"dataframe\">\n",
       "  <thead>\n",
       "    <tr style=\"text-align: right;\">\n",
       "      <th></th>\n",
       "      <th>const</th>\n",
       "      <th>Temperature (C)</th>\n",
       "      <th>Apparent Temperature (C)</th>\n",
       "      <th>Humidity</th>\n",
       "      <th>Wind Speed (km/h)</th>\n",
       "      <th>Wind Bearing (degrees)</th>\n",
       "      <th>Visibility (km)</th>\n",
       "      <th>Pressure (millibars)</th>\n",
       "      <th>Solar irradiance intensity</th>\n",
       "      <th>Rain_OR_SNOW_snow</th>\n",
       "      <th>Condensation_Fog</th>\n",
       "      <th>Condensation_Frost</th>\n",
       "      <th>Condensation_Mist</th>\n",
       "    </tr>\n",
       "  </thead>\n",
       "  <tbody>\n",
       "    <tr>\n",
       "      <th>0</th>\n",
       "      <td>0.0</td>\n",
       "      <td>0.797215</td>\n",
       "      <td>-1.005141</td>\n",
       "      <td>-1.216412</td>\n",
       "      <td>0.021400</td>\n",
       "      <td>0.739723</td>\n",
       "      <td>-1.634415</td>\n",
       "      <td>0.072212</td>\n",
       "      <td>-1.242493</td>\n",
       "      <td>-0.266285</td>\n",
       "      <td>-0.651296</td>\n",
       "      <td>2.005389</td>\n",
       "      <td>-0.668381</td>\n",
       "    </tr>\n",
       "    <tr>\n",
       "      <th>1</th>\n",
       "      <td>0.0</td>\n",
       "      <td>-0.111037</td>\n",
       "      <td>0.141812</td>\n",
       "      <td>0.718071</td>\n",
       "      <td>-0.304323</td>\n",
       "      <td>-0.309844</td>\n",
       "      <td>1.427848</td>\n",
       "      <td>-1.258050</td>\n",
       "      <td>0.227806</td>\n",
       "      <td>-0.266285</td>\n",
       "      <td>-0.651296</td>\n",
       "      <td>2.005389</td>\n",
       "      <td>-0.668381</td>\n",
       "    </tr>\n",
       "    <tr>\n",
       "      <th>2</th>\n",
       "      <td>0.0</td>\n",
       "      <td>0.456621</td>\n",
       "      <td>0.611020</td>\n",
       "      <td>-0.918253</td>\n",
       "      <td>-0.032887</td>\n",
       "      <td>1.394498</td>\n",
       "      <td>0.611245</td>\n",
       "      <td>1.254667</td>\n",
       "      <td>0.545336</td>\n",
       "      <td>-0.266285</td>\n",
       "      <td>1.535399</td>\n",
       "      <td>-0.498656</td>\n",
       "      <td>-0.668381</td>\n",
       "    </tr>\n",
       "    <tr>\n",
       "      <th>3</th>\n",
       "      <td>0.0</td>\n",
       "      <td>-1.189588</td>\n",
       "      <td>-1.422215</td>\n",
       "      <td>0.246721</td>\n",
       "      <td>-0.467185</td>\n",
       "      <td>-1.417185</td>\n",
       "      <td>1.427848</td>\n",
       "      <td>1.624184</td>\n",
       "      <td>-1.615245</td>\n",
       "      <td>-0.266285</td>\n",
       "      <td>-0.651296</td>\n",
       "      <td>-0.498656</td>\n",
       "      <td>1.496153</td>\n",
       "    </tr>\n",
       "    <tr>\n",
       "      <th>4</th>\n",
       "      <td>0.0</td>\n",
       "      <td>-1.416651</td>\n",
       "      <td>-0.431665</td>\n",
       "      <td>1.009476</td>\n",
       "      <td>1.432868</td>\n",
       "      <td>-0.964620</td>\n",
       "      <td>-0.613661</td>\n",
       "      <td>1.032957</td>\n",
       "      <td>-0.055209</td>\n",
       "      <td>-0.266285</td>\n",
       "      <td>-0.651296</td>\n",
       "      <td>-0.498656</td>\n",
       "      <td>1.496153</td>\n",
       "    </tr>\n",
       "  </tbody>\n",
       "</table>\n",
       "</div>"
      ],
      "text/plain": [
       "   const  Temperature (C)  Apparent Temperature (C)  Humidity  \\\n",
       "0    0.0         0.797215                 -1.005141 -1.216412   \n",
       "1    0.0        -0.111037                  0.141812  0.718071   \n",
       "2    0.0         0.456621                  0.611020 -0.918253   \n",
       "3    0.0        -1.189588                 -1.422215  0.246721   \n",
       "4    0.0        -1.416651                 -0.431665  1.009476   \n",
       "\n",
       "   Wind Speed (km/h)  Wind Bearing (degrees)  Visibility (km)  \\\n",
       "0           0.021400                0.739723        -1.634415   \n",
       "1          -0.304323               -0.309844         1.427848   \n",
       "2          -0.032887                1.394498         0.611245   \n",
       "3          -0.467185               -1.417185         1.427848   \n",
       "4           1.432868               -0.964620        -0.613661   \n",
       "\n",
       "   Pressure (millibars)  Solar irradiance intensity  Rain_OR_SNOW_snow  \\\n",
       "0              0.072212                   -1.242493          -0.266285   \n",
       "1             -1.258050                    0.227806          -0.266285   \n",
       "2              1.254667                    0.545336          -0.266285   \n",
       "3              1.624184                   -1.615245          -0.266285   \n",
       "4              1.032957                   -0.055209          -0.266285   \n",
       "\n",
       "   Condensation_Fog  Condensation_Frost  Condensation_Mist  \n",
       "0         -0.651296            2.005389          -0.668381  \n",
       "1         -0.651296            2.005389          -0.668381  \n",
       "2          1.535399           -0.498656          -0.668381  \n",
       "3         -0.651296           -0.498656           1.496153  \n",
       "4         -0.651296           -0.498656           1.496153  "
      ]
     },
     "execution_count": 71,
     "metadata": {},
     "output_type": "execute_result"
    }
   ],
   "source": [
    "# creating dataframe with X_train giving columns = X_col\n",
    "X_train = pd.DataFrame(X_train, columns = X_col)\n",
    "\n",
    "# creating dataframe with X_test giving columns = X_col\n",
    "X_test = pd.DataFrame(X_test, columns = X_col)\n",
    "\n",
    "# printing top 5 rows of dataframe\n",
    "X_train.head()"
   ]
  },
  {
   "cell_type": "code",
   "execution_count": 72,
   "metadata": {},
   "outputs": [],
   "source": [
    "# importing a algorithm from sklearn.preprocessing library\n",
    "from sklearn.preprocessing import StandardScaler\n",
    "\n",
    "# calling StandardScaler algorithm\n",
    "sc = StandardScaler()\n",
    "\n",
    "# again fitting and transforming of testing dataset values\n",
    "X_test1 =sc.fit_transform(X_test1)\n",
    " "
   ]
  },
  {
   "cell_type": "code",
   "execution_count": 73,
   "metadata": {},
   "outputs": [
    {
     "data": {
      "text/html": [
       "<div>\n",
       "<style scoped>\n",
       "    .dataframe tbody tr th:only-of-type {\n",
       "        vertical-align: middle;\n",
       "    }\n",
       "\n",
       "    .dataframe tbody tr th {\n",
       "        vertical-align: top;\n",
       "    }\n",
       "\n",
       "    .dataframe thead th {\n",
       "        text-align: right;\n",
       "    }\n",
       "</style>\n",
       "<table border=\"1\" class=\"dataframe\">\n",
       "  <thead>\n",
       "    <tr style=\"text-align: right;\">\n",
       "      <th></th>\n",
       "      <th>const</th>\n",
       "      <th>Temperature (C)</th>\n",
       "      <th>Apparent Temperature (C)</th>\n",
       "      <th>Humidity</th>\n",
       "      <th>Wind Speed (km/h)</th>\n",
       "      <th>Wind Bearing (degrees)</th>\n",
       "      <th>Visibility (km)</th>\n",
       "      <th>Pressure (millibars)</th>\n",
       "      <th>Solar irradiance intensity</th>\n",
       "      <th>Rain_OR_SNOW_snow</th>\n",
       "      <th>Condensation_Fog</th>\n",
       "      <th>Condensation_Frost</th>\n",
       "      <th>Condensation_Mist</th>\n",
       "    </tr>\n",
       "  </thead>\n",
       "  <tbody>\n",
       "    <tr>\n",
       "      <th>0</th>\n",
       "      <td>0.0</td>\n",
       "      <td>-0.453351</td>\n",
       "      <td>-0.299780</td>\n",
       "      <td>-1.467177</td>\n",
       "      <td>-0.781400</td>\n",
       "      <td>1.152358</td>\n",
       "      <td>0.394708</td>\n",
       "      <td>0.439667</td>\n",
       "      <td>1.025201</td>\n",
       "      <td>-0.348967</td>\n",
       "      <td>1.531203</td>\n",
       "      <td>-0.508496</td>\n",
       "      <td>-0.654502</td>\n",
       "    </tr>\n",
       "    <tr>\n",
       "      <th>1</th>\n",
       "      <td>0.0</td>\n",
       "      <td>-0.681447</td>\n",
       "      <td>1.009660</td>\n",
       "      <td>0.535791</td>\n",
       "      <td>-0.350214</td>\n",
       "      <td>1.363083</td>\n",
       "      <td>-1.639449</td>\n",
       "      <td>-1.047373</td>\n",
       "      <td>1.501644</td>\n",
       "      <td>-0.348967</td>\n",
       "      <td>-0.653081</td>\n",
       "      <td>-0.508496</td>\n",
       "      <td>-0.654502</td>\n",
       "    </tr>\n",
       "    <tr>\n",
       "      <th>2</th>\n",
       "      <td>0.0</td>\n",
       "      <td>0.516054</td>\n",
       "      <td>0.590639</td>\n",
       "      <td>1.503033</td>\n",
       "      <td>0.296563</td>\n",
       "      <td>1.439710</td>\n",
       "      <td>0.801540</td>\n",
       "      <td>1.629299</td>\n",
       "      <td>-0.680328</td>\n",
       "      <td>-0.348967</td>\n",
       "      <td>-0.653081</td>\n",
       "      <td>-0.508496</td>\n",
       "      <td>-0.654502</td>\n",
       "    </tr>\n",
       "    <tr>\n",
       "      <th>3</th>\n",
       "      <td>0.0</td>\n",
       "      <td>1.371412</td>\n",
       "      <td>-0.928312</td>\n",
       "      <td>0.973209</td>\n",
       "      <td>0.997239</td>\n",
       "      <td>1.631278</td>\n",
       "      <td>-1.029202</td>\n",
       "      <td>-0.080797</td>\n",
       "      <td>-1.709170</td>\n",
       "      <td>-0.348967</td>\n",
       "      <td>1.531203</td>\n",
       "      <td>-0.508496</td>\n",
       "      <td>-0.654502</td>\n",
       "    </tr>\n",
       "    <tr>\n",
       "      <th>4</th>\n",
       "      <td>0.0</td>\n",
       "      <td>0.915221</td>\n",
       "      <td>-1.294955</td>\n",
       "      <td>-0.027478</td>\n",
       "      <td>1.644017</td>\n",
       "      <td>1.152358</td>\n",
       "      <td>0.801540</td>\n",
       "      <td>1.406243</td>\n",
       "      <td>-0.155550</td>\n",
       "      <td>-0.348967</td>\n",
       "      <td>1.531203</td>\n",
       "      <td>-0.508496</td>\n",
       "      <td>-0.654502</td>\n",
       "    </tr>\n",
       "  </tbody>\n",
       "</table>\n",
       "</div>"
      ],
      "text/plain": [
       "   const  Temperature (C)  Apparent Temperature (C)  Humidity  \\\n",
       "0    0.0        -0.453351                 -0.299780 -1.467177   \n",
       "1    0.0        -0.681447                  1.009660  0.535791   \n",
       "2    0.0         0.516054                  0.590639  1.503033   \n",
       "3    0.0         1.371412                 -0.928312  0.973209   \n",
       "4    0.0         0.915221                 -1.294955 -0.027478   \n",
       "\n",
       "   Wind Speed (km/h)  Wind Bearing (degrees)  Visibility (km)  \\\n",
       "0          -0.781400                1.152358         0.394708   \n",
       "1          -0.350214                1.363083        -1.639449   \n",
       "2           0.296563                1.439710         0.801540   \n",
       "3           0.997239                1.631278        -1.029202   \n",
       "4           1.644017                1.152358         0.801540   \n",
       "\n",
       "   Pressure (millibars)  Solar irradiance intensity  Rain_OR_SNOW_snow  \\\n",
       "0              0.439667                    1.025201          -0.348967   \n",
       "1             -1.047373                    1.501644          -0.348967   \n",
       "2              1.629299                   -0.680328          -0.348967   \n",
       "3             -0.080797                   -1.709170          -0.348967   \n",
       "4              1.406243                   -0.155550          -0.348967   \n",
       "\n",
       "   Condensation_Fog  Condensation_Frost  Condensation_Mist  \n",
       "0          1.531203           -0.508496          -0.654502  \n",
       "1         -0.653081           -0.508496          -0.654502  \n",
       "2         -0.653081           -0.508496          -0.654502  \n",
       "3          1.531203           -0.508496          -0.654502  \n",
       "4          1.531203           -0.508496          -0.654502  "
      ]
     },
     "execution_count": 73,
     "metadata": {},
     "output_type": "execute_result"
    }
   ],
   "source": [
    "# creating dataframe for testing dataset\n",
    "X_test1 = pd.DataFrame(X_test1, columns = X_col1)\n",
    "\n",
    "# printing top 5 values of dataframe\n",
    "X_test1.head()"
   ]
  },
  {
   "cell_type": "markdown",
   "metadata": {},
   "source": [
    "# Creating models "
   ]
  },
  {
   "cell_type": "markdown",
   "metadata": {},
   "source": [
    "### creating function for appending all the model accuracy in 1 frame"
   ]
  },
  {
   "cell_type": "code",
   "execution_count": 74,
   "metadata": {},
   "outputs": [],
   "source": [
    "cols = ['Model Name', 'Accuracy Score']\n",
    "\n",
    "result_tabulation = pd.DataFrame(columns = cols)\n",
    "\n",
    "def accuracy(model_name):\n",
    "    \n",
    "    global result_tabulation\n",
    "    \n",
    "    matrix = pd.Series({'Model Name': str(model_name), \n",
    "                       'Accuracy Score': metrics.accuracy_score(y_test, y_pred) * 100})\n",
    "    \n",
    "    result_tabulation = result_tabulation.append(matrix, ignore_index = True)\n",
    "    return result_tabulation"
   ]
  },
  {
   "cell_type": "markdown",
   "metadata": {},
   "source": [
    "## Random Forest Classifier"
   ]
  },
  {
   "cell_type": "code",
   "execution_count": 75,
   "metadata": {},
   "outputs": [],
   "source": [
    "from sklearn.naive_bayes import GaussianNB\n",
    "\n",
    "nb = GaussianNB()\n",
    "\n",
    "nb.fit(X_train, y_train)\n",
    "\n",
    "y_pred = nb.predict(X_test)"
   ]
  },
  {
   "cell_type": "code",
   "execution_count": 76,
   "metadata": {},
   "outputs": [
    {
     "data": {
      "text/plain": [
       "0.08396605627512282"
      ]
     },
     "execution_count": 76,
     "metadata": {},
     "output_type": "execute_result"
    }
   ],
   "source": [
    "metrics.accuracy_score(y_test, y_pred)"
   ]
  },
  {
   "cell_type": "code",
   "execution_count": 77,
   "metadata": {},
   "outputs": [
    {
     "data": {
      "text/html": [
       "<div>\n",
       "<style scoped>\n",
       "    .dataframe tbody tr th:only-of-type {\n",
       "        vertical-align: middle;\n",
       "    }\n",
       "\n",
       "    .dataframe tbody tr th {\n",
       "        vertical-align: top;\n",
       "    }\n",
       "\n",
       "    .dataframe thead th {\n",
       "        text-align: right;\n",
       "    }\n",
       "</style>\n",
       "<table border=\"1\" class=\"dataframe\">\n",
       "  <thead>\n",
       "    <tr style=\"text-align: right;\">\n",
       "      <th></th>\n",
       "      <th>Model Name</th>\n",
       "      <th>Accuracy Score</th>\n",
       "    </tr>\n",
       "  </thead>\n",
       "  <tbody>\n",
       "    <tr>\n",
       "      <th>0</th>\n",
       "      <td>Naive_Bayes</td>\n",
       "      <td>8.396606</td>\n",
       "    </tr>\n",
       "  </tbody>\n",
       "</table>\n",
       "</div>"
      ],
      "text/plain": [
       "    Model Name  Accuracy Score\n",
       "0  Naive_Bayes        8.396606"
      ]
     },
     "execution_count": 77,
     "metadata": {},
     "output_type": "execute_result"
    }
   ],
   "source": [
    "accuracy('Naive_Bayes')"
   ]
  },
  {
   "cell_type": "markdown",
   "metadata": {},
   "source": [
    "## Random Forest Classifier"
   ]
  },
  {
   "cell_type": "code",
   "execution_count": 78,
   "metadata": {},
   "outputs": [],
   "source": [
    "from sklearn.ensemble import RandomForestClassifier\n",
    "\n",
    "rf = RandomForestClassifier()\n",
    "\n",
    "rf.fit(X_train,y_train)\n",
    "\n",
    "y_pred = rf.predict(X_test)"
   ]
  },
  {
   "cell_type": "code",
   "execution_count": 79,
   "metadata": {},
   "outputs": [
    {
     "data": {
      "text/plain": [
       "0.9843680214381421"
      ]
     },
     "execution_count": 79,
     "metadata": {},
     "output_type": "execute_result"
    }
   ],
   "source": [
    "metrics.accuracy_score(y_test, y_pred)"
   ]
  },
  {
   "cell_type": "code",
   "execution_count": 80,
   "metadata": {},
   "outputs": [
    {
     "data": {
      "text/html": [
       "<div>\n",
       "<style scoped>\n",
       "    .dataframe tbody tr th:only-of-type {\n",
       "        vertical-align: middle;\n",
       "    }\n",
       "\n",
       "    .dataframe tbody tr th {\n",
       "        vertical-align: top;\n",
       "    }\n",
       "\n",
       "    .dataframe thead th {\n",
       "        text-align: right;\n",
       "    }\n",
       "</style>\n",
       "<table border=\"1\" class=\"dataframe\">\n",
       "  <thead>\n",
       "    <tr style=\"text-align: right;\">\n",
       "      <th></th>\n",
       "      <th>Model Name</th>\n",
       "      <th>Accuracy Score</th>\n",
       "    </tr>\n",
       "  </thead>\n",
       "  <tbody>\n",
       "    <tr>\n",
       "      <th>0</th>\n",
       "      <td>Naive_Bayes</td>\n",
       "      <td>8.396606</td>\n",
       "    </tr>\n",
       "    <tr>\n",
       "      <th>1</th>\n",
       "      <td>Random_Forest</td>\n",
       "      <td>98.436802</td>\n",
       "    </tr>\n",
       "  </tbody>\n",
       "</table>\n",
       "</div>"
      ],
      "text/plain": [
       "      Model Name  Accuracy Score\n",
       "0    Naive_Bayes        8.396606\n",
       "1  Random_Forest       98.436802"
      ]
     },
     "execution_count": 80,
     "metadata": {},
     "output_type": "execute_result"
    }
   ],
   "source": [
    "accuracy('Random_Forest')"
   ]
  },
  {
   "cell_type": "markdown",
   "metadata": {},
   "source": [
    "## AdaBoost Classifier"
   ]
  },
  {
   "cell_type": "code",
   "execution_count": 81,
   "metadata": {},
   "outputs": [],
   "source": [
    "from sklearn.ensemble import AdaBoostClassifier\n",
    "\n",
    "abc = AdaBoostClassifier()\n",
    "\n",
    "abc.fit(X_train, y_train)\n",
    "\n",
    "y_pred = abc.predict(X_test)"
   ]
  },
  {
   "cell_type": "code",
   "execution_count": 82,
   "metadata": {},
   "outputs": [
    {
     "data": {
      "text/plain": [
       "0.9843680214381421"
      ]
     },
     "execution_count": 82,
     "metadata": {},
     "output_type": "execute_result"
    }
   ],
   "source": [
    "metrics.accuracy_score(y_test, y_pred)"
   ]
  },
  {
   "cell_type": "code",
   "execution_count": 83,
   "metadata": {},
   "outputs": [
    {
     "data": {
      "text/html": [
       "<div>\n",
       "<style scoped>\n",
       "    .dataframe tbody tr th:only-of-type {\n",
       "        vertical-align: middle;\n",
       "    }\n",
       "\n",
       "    .dataframe tbody tr th {\n",
       "        vertical-align: top;\n",
       "    }\n",
       "\n",
       "    .dataframe thead th {\n",
       "        text-align: right;\n",
       "    }\n",
       "</style>\n",
       "<table border=\"1\" class=\"dataframe\">\n",
       "  <thead>\n",
       "    <tr style=\"text-align: right;\">\n",
       "      <th></th>\n",
       "      <th>Model Name</th>\n",
       "      <th>Accuracy Score</th>\n",
       "    </tr>\n",
       "  </thead>\n",
       "  <tbody>\n",
       "    <tr>\n",
       "      <th>0</th>\n",
       "      <td>Naive_Bayes</td>\n",
       "      <td>8.396606</td>\n",
       "    </tr>\n",
       "    <tr>\n",
       "      <th>1</th>\n",
       "      <td>Random_Forest</td>\n",
       "      <td>98.436802</td>\n",
       "    </tr>\n",
       "    <tr>\n",
       "      <th>2</th>\n",
       "      <td>AdaBoost_Classifier</td>\n",
       "      <td>98.436802</td>\n",
       "    </tr>\n",
       "  </tbody>\n",
       "</table>\n",
       "</div>"
      ],
      "text/plain": [
       "            Model Name  Accuracy Score\n",
       "0          Naive_Bayes        8.396606\n",
       "1        Random_Forest       98.436802\n",
       "2  AdaBoost_Classifier       98.436802"
      ]
     },
     "execution_count": 83,
     "metadata": {},
     "output_type": "execute_result"
    }
   ],
   "source": [
    "accuracy('AdaBoost_Classifier')"
   ]
  },
  {
   "cell_type": "markdown",
   "metadata": {},
   "source": [
    "## Logistic Regression"
   ]
  },
  {
   "cell_type": "code",
   "execution_count": 84,
   "metadata": {},
   "outputs": [],
   "source": [
    "LR = LogisticRegression()\n",
    "\n",
    "LR.fit(X_train, y_train)\n",
    "\n",
    "y_pred = LR.predict(X_test)"
   ]
  },
  {
   "cell_type": "code",
   "execution_count": 85,
   "metadata": {},
   "outputs": [
    {
     "data": {
      "text/plain": [
       "0.9843680214381421"
      ]
     },
     "execution_count": 85,
     "metadata": {},
     "output_type": "execute_result"
    }
   ],
   "source": [
    "metrics.accuracy_score(y_test, y_pred)"
   ]
  },
  {
   "cell_type": "code",
   "execution_count": 86,
   "metadata": {},
   "outputs": [
    {
     "data": {
      "text/html": [
       "<div>\n",
       "<style scoped>\n",
       "    .dataframe tbody tr th:only-of-type {\n",
       "        vertical-align: middle;\n",
       "    }\n",
       "\n",
       "    .dataframe tbody tr th {\n",
       "        vertical-align: top;\n",
       "    }\n",
       "\n",
       "    .dataframe thead th {\n",
       "        text-align: right;\n",
       "    }\n",
       "</style>\n",
       "<table border=\"1\" class=\"dataframe\">\n",
       "  <thead>\n",
       "    <tr style=\"text-align: right;\">\n",
       "      <th></th>\n",
       "      <th>Model Name</th>\n",
       "      <th>Accuracy Score</th>\n",
       "    </tr>\n",
       "  </thead>\n",
       "  <tbody>\n",
       "    <tr>\n",
       "      <th>0</th>\n",
       "      <td>Naive_Bayes</td>\n",
       "      <td>8.396606</td>\n",
       "    </tr>\n",
       "    <tr>\n",
       "      <th>1</th>\n",
       "      <td>Random_Forest</td>\n",
       "      <td>98.436802</td>\n",
       "    </tr>\n",
       "    <tr>\n",
       "      <th>2</th>\n",
       "      <td>AdaBoost_Classifier</td>\n",
       "      <td>98.436802</td>\n",
       "    </tr>\n",
       "    <tr>\n",
       "      <th>3</th>\n",
       "      <td>Logistic_Regression</td>\n",
       "      <td>98.436802</td>\n",
       "    </tr>\n",
       "  </tbody>\n",
       "</table>\n",
       "</div>"
      ],
      "text/plain": [
       "            Model Name  Accuracy Score\n",
       "0          Naive_Bayes        8.396606\n",
       "1        Random_Forest       98.436802\n",
       "2  AdaBoost_Classifier       98.436802\n",
       "3  Logistic_Regression       98.436802"
      ]
     },
     "execution_count": 86,
     "metadata": {},
     "output_type": "execute_result"
    }
   ],
   "source": [
    "accuracy('Logistic_Regression')"
   ]
  },
  {
   "cell_type": "markdown",
   "metadata": {},
   "source": [
    "## ExtraTrees Classifier"
   ]
  },
  {
   "cell_type": "code",
   "execution_count": 87,
   "metadata": {},
   "outputs": [],
   "source": [
    "from sklearn.ensemble import ExtraTreesClassifier\n",
    "\n",
    "etc = ExtraTreesClassifier()\n",
    "\n",
    "etc.fit(X_train, y_train)\n",
    "\n",
    "y_pred = etc.predict(X_test)"
   ]
  },
  {
   "cell_type": "code",
   "execution_count": 88,
   "metadata": {},
   "outputs": [
    {
     "data": {
      "text/plain": [
       "0.9843680214381421"
      ]
     },
     "execution_count": 88,
     "metadata": {},
     "output_type": "execute_result"
    }
   ],
   "source": [
    "metrics.accuracy_score(y_test, y_pred)"
   ]
  },
  {
   "cell_type": "code",
   "execution_count": 89,
   "metadata": {},
   "outputs": [
    {
     "data": {
      "text/html": [
       "<div>\n",
       "<style scoped>\n",
       "    .dataframe tbody tr th:only-of-type {\n",
       "        vertical-align: middle;\n",
       "    }\n",
       "\n",
       "    .dataframe tbody tr th {\n",
       "        vertical-align: top;\n",
       "    }\n",
       "\n",
       "    .dataframe thead th {\n",
       "        text-align: right;\n",
       "    }\n",
       "</style>\n",
       "<table border=\"1\" class=\"dataframe\">\n",
       "  <thead>\n",
       "    <tr style=\"text-align: right;\">\n",
       "      <th></th>\n",
       "      <th>Model Name</th>\n",
       "      <th>Accuracy Score</th>\n",
       "    </tr>\n",
       "  </thead>\n",
       "  <tbody>\n",
       "    <tr>\n",
       "      <th>0</th>\n",
       "      <td>Naive_Bayes</td>\n",
       "      <td>8.396606</td>\n",
       "    </tr>\n",
       "    <tr>\n",
       "      <th>1</th>\n",
       "      <td>Random_Forest</td>\n",
       "      <td>98.436802</td>\n",
       "    </tr>\n",
       "    <tr>\n",
       "      <th>2</th>\n",
       "      <td>AdaBoost_Classifier</td>\n",
       "      <td>98.436802</td>\n",
       "    </tr>\n",
       "    <tr>\n",
       "      <th>3</th>\n",
       "      <td>Logistic_Regression</td>\n",
       "      <td>98.436802</td>\n",
       "    </tr>\n",
       "    <tr>\n",
       "      <th>4</th>\n",
       "      <td>ExtraTrees_Classifier</td>\n",
       "      <td>98.436802</td>\n",
       "    </tr>\n",
       "  </tbody>\n",
       "</table>\n",
       "</div>"
      ],
      "text/plain": [
       "              Model Name  Accuracy Score\n",
       "0            Naive_Bayes        8.396606\n",
       "1          Random_Forest       98.436802\n",
       "2    AdaBoost_Classifier       98.436802\n",
       "3    Logistic_Regression       98.436802\n",
       "4  ExtraTrees_Classifier       98.436802"
      ]
     },
     "execution_count": 89,
     "metadata": {},
     "output_type": "execute_result"
    }
   ],
   "source": [
    "accuracy('ExtraTrees_Classifier')"
   ]
  },
  {
   "cell_type": "markdown",
   "metadata": {},
   "source": [
    "## One Vs Rest Classifier with Random Forest"
   ]
  },
  {
   "cell_type": "code",
   "execution_count": 90,
   "metadata": {},
   "outputs": [],
   "source": [
    "from sklearn.multiclass import OneVsRestClassifier\n",
    "\n",
    "ovr = OneVsRestClassifier(estimator=rf)\n",
    "\n",
    "ovr.fit(X_train, y_train)\n",
    "\n",
    "y_pred = ovr.predict(X_test)"
   ]
  },
  {
   "cell_type": "code",
   "execution_count": 91,
   "metadata": {},
   "outputs": [
    {
     "data": {
      "text/plain": [
       "0.9843680214381421"
      ]
     },
     "execution_count": 91,
     "metadata": {},
     "output_type": "execute_result"
    }
   ],
   "source": [
    "metrics.accuracy_score(y_test, y_pred)"
   ]
  },
  {
   "cell_type": "code",
   "execution_count": 92,
   "metadata": {},
   "outputs": [
    {
     "data": {
      "text/html": [
       "<div>\n",
       "<style scoped>\n",
       "    .dataframe tbody tr th:only-of-type {\n",
       "        vertical-align: middle;\n",
       "    }\n",
       "\n",
       "    .dataframe tbody tr th {\n",
       "        vertical-align: top;\n",
       "    }\n",
       "\n",
       "    .dataframe thead th {\n",
       "        text-align: right;\n",
       "    }\n",
       "</style>\n",
       "<table border=\"1\" class=\"dataframe\">\n",
       "  <thead>\n",
       "    <tr style=\"text-align: right;\">\n",
       "      <th></th>\n",
       "      <th>Model Name</th>\n",
       "      <th>Accuracy Score</th>\n",
       "    </tr>\n",
       "  </thead>\n",
       "  <tbody>\n",
       "    <tr>\n",
       "      <th>0</th>\n",
       "      <td>Naive_Bayes</td>\n",
       "      <td>8.396606</td>\n",
       "    </tr>\n",
       "    <tr>\n",
       "      <th>1</th>\n",
       "      <td>Random_Forest</td>\n",
       "      <td>98.436802</td>\n",
       "    </tr>\n",
       "    <tr>\n",
       "      <th>2</th>\n",
       "      <td>AdaBoost_Classifier</td>\n",
       "      <td>98.436802</td>\n",
       "    </tr>\n",
       "    <tr>\n",
       "      <th>3</th>\n",
       "      <td>Logistic_Regression</td>\n",
       "      <td>98.436802</td>\n",
       "    </tr>\n",
       "    <tr>\n",
       "      <th>4</th>\n",
       "      <td>ExtraTrees_Classifier</td>\n",
       "      <td>98.436802</td>\n",
       "    </tr>\n",
       "    <tr>\n",
       "      <th>5</th>\n",
       "      <td>RandomForest_with_OVR</td>\n",
       "      <td>98.436802</td>\n",
       "    </tr>\n",
       "  </tbody>\n",
       "</table>\n",
       "</div>"
      ],
      "text/plain": [
       "              Model Name  Accuracy Score\n",
       "0            Naive_Bayes        8.396606\n",
       "1          Random_Forest       98.436802\n",
       "2    AdaBoost_Classifier       98.436802\n",
       "3    Logistic_Regression       98.436802\n",
       "4  ExtraTrees_Classifier       98.436802\n",
       "5  RandomForest_with_OVR       98.436802"
      ]
     },
     "execution_count": 92,
     "metadata": {},
     "output_type": "execute_result"
    }
   ],
   "source": [
    "accuracy('RandomForest_with_OVR')"
   ]
  },
  {
   "cell_type": "markdown",
   "metadata": {},
   "source": [
    "## One Vs Rest Classifier with Extra Trees"
   ]
  },
  {
   "cell_type": "code",
   "execution_count": 93,
   "metadata": {},
   "outputs": [],
   "source": [
    "#from sklearn.multiclass import OneVsRestClassifier\n",
    "\n",
    "#ovr = OneVsRestClassifier(estimator=etc)\n",
    "\n",
    "#ovr.fit(X_train, y_train)\n",
    "\n",
    "y_pred = ovr.predict(X_test)"
   ]
  },
  {
   "cell_type": "code",
   "execution_count": 94,
   "metadata": {},
   "outputs": [
    {
     "data": {
      "text/plain": [
       "0.9843680214381421"
      ]
     },
     "execution_count": 94,
     "metadata": {},
     "output_type": "execute_result"
    }
   ],
   "source": [
    "metrics.accuracy_score(y_test, y_pred)"
   ]
  },
  {
   "cell_type": "code",
   "execution_count": 95,
   "metadata": {},
   "outputs": [
    {
     "data": {
      "text/html": [
       "<div>\n",
       "<style scoped>\n",
       "    .dataframe tbody tr th:only-of-type {\n",
       "        vertical-align: middle;\n",
       "    }\n",
       "\n",
       "    .dataframe tbody tr th {\n",
       "        vertical-align: top;\n",
       "    }\n",
       "\n",
       "    .dataframe thead th {\n",
       "        text-align: right;\n",
       "    }\n",
       "</style>\n",
       "<table border=\"1\" class=\"dataframe\">\n",
       "  <thead>\n",
       "    <tr style=\"text-align: right;\">\n",
       "      <th></th>\n",
       "      <th>Model Name</th>\n",
       "      <th>Accuracy Score</th>\n",
       "    </tr>\n",
       "  </thead>\n",
       "  <tbody>\n",
       "    <tr>\n",
       "      <th>0</th>\n",
       "      <td>Naive_Bayes</td>\n",
       "      <td>8.396606</td>\n",
       "    </tr>\n",
       "    <tr>\n",
       "      <th>1</th>\n",
       "      <td>Random_Forest</td>\n",
       "      <td>98.436802</td>\n",
       "    </tr>\n",
       "    <tr>\n",
       "      <th>2</th>\n",
       "      <td>AdaBoost_Classifier</td>\n",
       "      <td>98.436802</td>\n",
       "    </tr>\n",
       "    <tr>\n",
       "      <th>3</th>\n",
       "      <td>Logistic_Regression</td>\n",
       "      <td>98.436802</td>\n",
       "    </tr>\n",
       "    <tr>\n",
       "      <th>4</th>\n",
       "      <td>ExtraTrees_Classifier</td>\n",
       "      <td>98.436802</td>\n",
       "    </tr>\n",
       "    <tr>\n",
       "      <th>5</th>\n",
       "      <td>RandomForest_with_OVR</td>\n",
       "      <td>98.436802</td>\n",
       "    </tr>\n",
       "    <tr>\n",
       "      <th>6</th>\n",
       "      <td>Extratrees_with_OVR</td>\n",
       "      <td>98.436802</td>\n",
       "    </tr>\n",
       "  </tbody>\n",
       "</table>\n",
       "</div>"
      ],
      "text/plain": [
       "              Model Name  Accuracy Score\n",
       "0            Naive_Bayes        8.396606\n",
       "1          Random_Forest       98.436802\n",
       "2    AdaBoost_Classifier       98.436802\n",
       "3    Logistic_Regression       98.436802\n",
       "4  ExtraTrees_Classifier       98.436802\n",
       "5  RandomForest_with_OVR       98.436802\n",
       "6    Extratrees_with_OVR       98.436802"
      ]
     },
     "execution_count": 95,
     "metadata": {},
     "output_type": "execute_result"
    }
   ],
   "source": [
    "accuracy('Extratrees_with_OVR')"
   ]
  },
  {
   "cell_type": "markdown",
   "metadata": {},
   "source": [
    "## Bagging Classifier"
   ]
  },
  {
   "cell_type": "code",
   "execution_count": 96,
   "metadata": {},
   "outputs": [],
   "source": [
    "from sklearn.ensemble import BaggingClassifier\n",
    "\n",
    "bc = BaggingClassifier()\n",
    "bc.fit(X_train, y_train)\n",
    "y_pred = bc.predict(X_test)"
   ]
  },
  {
   "cell_type": "code",
   "execution_count": 97,
   "metadata": {},
   "outputs": [
    {
     "data": {
      "text/plain": [
       "0.9843680214381421"
      ]
     },
     "execution_count": 97,
     "metadata": {},
     "output_type": "execute_result"
    }
   ],
   "source": [
    "metrics.accuracy_score(y_test, y_pred)"
   ]
  },
  {
   "cell_type": "code",
   "execution_count": 98,
   "metadata": {},
   "outputs": [
    {
     "data": {
      "text/html": [
       "<div>\n",
       "<style scoped>\n",
       "    .dataframe tbody tr th:only-of-type {\n",
       "        vertical-align: middle;\n",
       "    }\n",
       "\n",
       "    .dataframe tbody tr th {\n",
       "        vertical-align: top;\n",
       "    }\n",
       "\n",
       "    .dataframe thead th {\n",
       "        text-align: right;\n",
       "    }\n",
       "</style>\n",
       "<table border=\"1\" class=\"dataframe\">\n",
       "  <thead>\n",
       "    <tr style=\"text-align: right;\">\n",
       "      <th></th>\n",
       "      <th>Model Name</th>\n",
       "      <th>Accuracy Score</th>\n",
       "    </tr>\n",
       "  </thead>\n",
       "  <tbody>\n",
       "    <tr>\n",
       "      <th>0</th>\n",
       "      <td>Naive_Bayes</td>\n",
       "      <td>8.396606</td>\n",
       "    </tr>\n",
       "    <tr>\n",
       "      <th>1</th>\n",
       "      <td>Random_Forest</td>\n",
       "      <td>98.436802</td>\n",
       "    </tr>\n",
       "    <tr>\n",
       "      <th>2</th>\n",
       "      <td>AdaBoost_Classifier</td>\n",
       "      <td>98.436802</td>\n",
       "    </tr>\n",
       "    <tr>\n",
       "      <th>3</th>\n",
       "      <td>Logistic_Regression</td>\n",
       "      <td>98.436802</td>\n",
       "    </tr>\n",
       "    <tr>\n",
       "      <th>4</th>\n",
       "      <td>ExtraTrees_Classifier</td>\n",
       "      <td>98.436802</td>\n",
       "    </tr>\n",
       "    <tr>\n",
       "      <th>5</th>\n",
       "      <td>RandomForest_with_OVR</td>\n",
       "      <td>98.436802</td>\n",
       "    </tr>\n",
       "    <tr>\n",
       "      <th>6</th>\n",
       "      <td>Extratrees_with_OVR</td>\n",
       "      <td>98.436802</td>\n",
       "    </tr>\n",
       "    <tr>\n",
       "      <th>7</th>\n",
       "      <td>Bagging_Classifier</td>\n",
       "      <td>98.436802</td>\n",
       "    </tr>\n",
       "  </tbody>\n",
       "</table>\n",
       "</div>"
      ],
      "text/plain": [
       "              Model Name  Accuracy Score\n",
       "0            Naive_Bayes        8.396606\n",
       "1          Random_Forest       98.436802\n",
       "2    AdaBoost_Classifier       98.436802\n",
       "3    Logistic_Regression       98.436802\n",
       "4  ExtraTrees_Classifier       98.436802\n",
       "5  RandomForest_with_OVR       98.436802\n",
       "6    Extratrees_with_OVR       98.436802\n",
       "7     Bagging_Classifier       98.436802"
      ]
     },
     "execution_count": 98,
     "metadata": {},
     "output_type": "execute_result"
    }
   ],
   "source": [
    "accuracy('Bagging_Classifier')"
   ]
  },
  {
   "cell_type": "markdown",
   "metadata": {},
   "source": [
    "## Gradient Boosting Classifier"
   ]
  },
  {
   "cell_type": "code",
   "execution_count": 99,
   "metadata": {},
   "outputs": [],
   "source": [
    "from sklearn.ensemble import GradientBoostingClassifier\n",
    "\n",
    "gbc = GradientBoostingClassifier()\n",
    "gbc.fit(X_train, y_train)\n",
    "y_pred = gbc.predict(X_test)"
   ]
  },
  {
   "cell_type": "code",
   "execution_count": 100,
   "metadata": {},
   "outputs": [
    {
     "data": {
      "text/plain": [
       "0.9816882536846807"
      ]
     },
     "execution_count": 100,
     "metadata": {},
     "output_type": "execute_result"
    }
   ],
   "source": [
    "metrics.accuracy_score(y_test, y_pred)"
   ]
  },
  {
   "cell_type": "code",
   "execution_count": 101,
   "metadata": {},
   "outputs": [
    {
     "data": {
      "text/html": [
       "<div>\n",
       "<style scoped>\n",
       "    .dataframe tbody tr th:only-of-type {\n",
       "        vertical-align: middle;\n",
       "    }\n",
       "\n",
       "    .dataframe tbody tr th {\n",
       "        vertical-align: top;\n",
       "    }\n",
       "\n",
       "    .dataframe thead th {\n",
       "        text-align: right;\n",
       "    }\n",
       "</style>\n",
       "<table border=\"1\" class=\"dataframe\">\n",
       "  <thead>\n",
       "    <tr style=\"text-align: right;\">\n",
       "      <th></th>\n",
       "      <th>Model Name</th>\n",
       "      <th>Accuracy Score</th>\n",
       "    </tr>\n",
       "  </thead>\n",
       "  <tbody>\n",
       "    <tr>\n",
       "      <th>0</th>\n",
       "      <td>Naive_Bayes</td>\n",
       "      <td>8.396606</td>\n",
       "    </tr>\n",
       "    <tr>\n",
       "      <th>1</th>\n",
       "      <td>Random_Forest</td>\n",
       "      <td>98.436802</td>\n",
       "    </tr>\n",
       "    <tr>\n",
       "      <th>2</th>\n",
       "      <td>AdaBoost_Classifier</td>\n",
       "      <td>98.436802</td>\n",
       "    </tr>\n",
       "    <tr>\n",
       "      <th>3</th>\n",
       "      <td>Logistic_Regression</td>\n",
       "      <td>98.436802</td>\n",
       "    </tr>\n",
       "    <tr>\n",
       "      <th>4</th>\n",
       "      <td>ExtraTrees_Classifier</td>\n",
       "      <td>98.436802</td>\n",
       "    </tr>\n",
       "    <tr>\n",
       "      <th>5</th>\n",
       "      <td>RandomForest_with_OVR</td>\n",
       "      <td>98.436802</td>\n",
       "    </tr>\n",
       "    <tr>\n",
       "      <th>6</th>\n",
       "      <td>Extratrees_with_OVR</td>\n",
       "      <td>98.436802</td>\n",
       "    </tr>\n",
       "    <tr>\n",
       "      <th>7</th>\n",
       "      <td>Bagging_Classifier</td>\n",
       "      <td>98.436802</td>\n",
       "    </tr>\n",
       "    <tr>\n",
       "      <th>8</th>\n",
       "      <td>Gradient_Boosting_Classifire</td>\n",
       "      <td>98.168825</td>\n",
       "    </tr>\n",
       "  </tbody>\n",
       "</table>\n",
       "</div>"
      ],
      "text/plain": [
       "                     Model Name  Accuracy Score\n",
       "0                   Naive_Bayes        8.396606\n",
       "1                 Random_Forest       98.436802\n",
       "2           AdaBoost_Classifier       98.436802\n",
       "3           Logistic_Regression       98.436802\n",
       "4         ExtraTrees_Classifier       98.436802\n",
       "5         RandomForest_with_OVR       98.436802\n",
       "6           Extratrees_with_OVR       98.436802\n",
       "7            Bagging_Classifier       98.436802\n",
       "8  Gradient_Boosting_Classifire       98.168825"
      ]
     },
     "execution_count": 101,
     "metadata": {},
     "output_type": "execute_result"
    }
   ],
   "source": [
    "accuracy('Gradient_Boosting_Classifire')"
   ]
  },
  {
   "cell_type": "markdown",
   "metadata": {},
   "source": [
    "## KNN Classifier"
   ]
  },
  {
   "cell_type": "code",
   "execution_count": 102,
   "metadata": {},
   "outputs": [],
   "source": [
    "from sklearn.neighbors import KNeighborsClassifier\n",
    "\n",
    "hgb = KNeighborsClassifier()\n",
    "hgb.fit(X_train, y_train)\n",
    "y_pred = hgb.predict(X_test)"
   ]
  },
  {
   "cell_type": "code",
   "execution_count": 103,
   "metadata": {},
   "outputs": [
    {
     "data": {
      "text/plain": [
       "0.9841447074586869"
      ]
     },
     "execution_count": 103,
     "metadata": {},
     "output_type": "execute_result"
    }
   ],
   "source": [
    "metrics.accuracy_score(y_test, y_pred)"
   ]
  },
  {
   "cell_type": "code",
   "execution_count": 104,
   "metadata": {},
   "outputs": [
    {
     "data": {
      "text/html": [
       "<div>\n",
       "<style scoped>\n",
       "    .dataframe tbody tr th:only-of-type {\n",
       "        vertical-align: middle;\n",
       "    }\n",
       "\n",
       "    .dataframe tbody tr th {\n",
       "        vertical-align: top;\n",
       "    }\n",
       "\n",
       "    .dataframe thead th {\n",
       "        text-align: right;\n",
       "    }\n",
       "</style>\n",
       "<table border=\"1\" class=\"dataframe\">\n",
       "  <thead>\n",
       "    <tr style=\"text-align: right;\">\n",
       "      <th></th>\n",
       "      <th>Model Name</th>\n",
       "      <th>Accuracy Score</th>\n",
       "    </tr>\n",
       "  </thead>\n",
       "  <tbody>\n",
       "    <tr>\n",
       "      <th>0</th>\n",
       "      <td>Naive_Bayes</td>\n",
       "      <td>8.396606</td>\n",
       "    </tr>\n",
       "    <tr>\n",
       "      <th>1</th>\n",
       "      <td>Random_Forest</td>\n",
       "      <td>98.436802</td>\n",
       "    </tr>\n",
       "    <tr>\n",
       "      <th>2</th>\n",
       "      <td>AdaBoost_Classifier</td>\n",
       "      <td>98.436802</td>\n",
       "    </tr>\n",
       "    <tr>\n",
       "      <th>3</th>\n",
       "      <td>Logistic_Regression</td>\n",
       "      <td>98.436802</td>\n",
       "    </tr>\n",
       "    <tr>\n",
       "      <th>4</th>\n",
       "      <td>ExtraTrees_Classifier</td>\n",
       "      <td>98.436802</td>\n",
       "    </tr>\n",
       "    <tr>\n",
       "      <th>5</th>\n",
       "      <td>RandomForest_with_OVR</td>\n",
       "      <td>98.436802</td>\n",
       "    </tr>\n",
       "    <tr>\n",
       "      <th>6</th>\n",
       "      <td>Extratrees_with_OVR</td>\n",
       "      <td>98.436802</td>\n",
       "    </tr>\n",
       "    <tr>\n",
       "      <th>7</th>\n",
       "      <td>Bagging_Classifier</td>\n",
       "      <td>98.436802</td>\n",
       "    </tr>\n",
       "    <tr>\n",
       "      <th>8</th>\n",
       "      <td>Gradient_Boosting_Classifire</td>\n",
       "      <td>98.168825</td>\n",
       "    </tr>\n",
       "    <tr>\n",
       "      <th>9</th>\n",
       "      <td>KNN_Classifier</td>\n",
       "      <td>98.414471</td>\n",
       "    </tr>\n",
       "  </tbody>\n",
       "</table>\n",
       "</div>"
      ],
      "text/plain": [
       "                     Model Name  Accuracy Score\n",
       "0                   Naive_Bayes        8.396606\n",
       "1                 Random_Forest       98.436802\n",
       "2           AdaBoost_Classifier       98.436802\n",
       "3           Logistic_Regression       98.436802\n",
       "4         ExtraTrees_Classifier       98.436802\n",
       "5         RandomForest_with_OVR       98.436802\n",
       "6           Extratrees_with_OVR       98.436802\n",
       "7            Bagging_Classifier       98.436802\n",
       "8  Gradient_Boosting_Classifire       98.168825\n",
       "9                KNN_Classifier       98.414471"
      ]
     },
     "execution_count": 104,
     "metadata": {},
     "output_type": "execute_result"
    }
   ],
   "source": [
    "accuracy('KNN_Classifier')"
   ]
  },
  {
   "cell_type": "markdown",
   "metadata": {},
   "source": [
    "## SVC Classifier"
   ]
  },
  {
   "cell_type": "code",
   "execution_count": 105,
   "metadata": {},
   "outputs": [],
   "source": [
    "from sklearn.svm import SVC\n",
    "sv = SVC()\n",
    "sv.fit(X_train, y_train)\n",
    "y_pred = sv.predict(X_test)"
   ]
  },
  {
   "cell_type": "code",
   "execution_count": 106,
   "metadata": {},
   "outputs": [
    {
     "data": {
      "text/plain": [
       "0.9843680214381421"
      ]
     },
     "execution_count": 106,
     "metadata": {},
     "output_type": "execute_result"
    }
   ],
   "source": [
    "metrics.accuracy_score(y_test, y_pred)"
   ]
  },
  {
   "cell_type": "code",
   "execution_count": 107,
   "metadata": {},
   "outputs": [
    {
     "data": {
      "text/html": [
       "<div>\n",
       "<style scoped>\n",
       "    .dataframe tbody tr th:only-of-type {\n",
       "        vertical-align: middle;\n",
       "    }\n",
       "\n",
       "    .dataframe tbody tr th {\n",
       "        vertical-align: top;\n",
       "    }\n",
       "\n",
       "    .dataframe thead th {\n",
       "        text-align: right;\n",
       "    }\n",
       "</style>\n",
       "<table border=\"1\" class=\"dataframe\">\n",
       "  <thead>\n",
       "    <tr style=\"text-align: right;\">\n",
       "      <th></th>\n",
       "      <th>Model Name</th>\n",
       "      <th>Accuracy Score</th>\n",
       "    </tr>\n",
       "  </thead>\n",
       "  <tbody>\n",
       "    <tr>\n",
       "      <th>0</th>\n",
       "      <td>Naive_Bayes</td>\n",
       "      <td>8.396606</td>\n",
       "    </tr>\n",
       "    <tr>\n",
       "      <th>1</th>\n",
       "      <td>Random_Forest</td>\n",
       "      <td>98.436802</td>\n",
       "    </tr>\n",
       "    <tr>\n",
       "      <th>2</th>\n",
       "      <td>AdaBoost_Classifier</td>\n",
       "      <td>98.436802</td>\n",
       "    </tr>\n",
       "    <tr>\n",
       "      <th>3</th>\n",
       "      <td>Logistic_Regression</td>\n",
       "      <td>98.436802</td>\n",
       "    </tr>\n",
       "    <tr>\n",
       "      <th>4</th>\n",
       "      <td>ExtraTrees_Classifier</td>\n",
       "      <td>98.436802</td>\n",
       "    </tr>\n",
       "    <tr>\n",
       "      <th>5</th>\n",
       "      <td>RandomForest_with_OVR</td>\n",
       "      <td>98.436802</td>\n",
       "    </tr>\n",
       "    <tr>\n",
       "      <th>6</th>\n",
       "      <td>Extratrees_with_OVR</td>\n",
       "      <td>98.436802</td>\n",
       "    </tr>\n",
       "    <tr>\n",
       "      <th>7</th>\n",
       "      <td>Bagging_Classifier</td>\n",
       "      <td>98.436802</td>\n",
       "    </tr>\n",
       "    <tr>\n",
       "      <th>8</th>\n",
       "      <td>Gradient_Boosting_Classifire</td>\n",
       "      <td>98.168825</td>\n",
       "    </tr>\n",
       "    <tr>\n",
       "      <th>9</th>\n",
       "      <td>KNN_Classifier</td>\n",
       "      <td>98.414471</td>\n",
       "    </tr>\n",
       "    <tr>\n",
       "      <th>10</th>\n",
       "      <td>SVC_Classifier</td>\n",
       "      <td>98.436802</td>\n",
       "    </tr>\n",
       "  </tbody>\n",
       "</table>\n",
       "</div>"
      ],
      "text/plain": [
       "                      Model Name  Accuracy Score\n",
       "0                    Naive_Bayes        8.396606\n",
       "1                  Random_Forest       98.436802\n",
       "2            AdaBoost_Classifier       98.436802\n",
       "3            Logistic_Regression       98.436802\n",
       "4          ExtraTrees_Classifier       98.436802\n",
       "5          RandomForest_with_OVR       98.436802\n",
       "6            Extratrees_with_OVR       98.436802\n",
       "7             Bagging_Classifier       98.436802\n",
       "8   Gradient_Boosting_Classifire       98.168825\n",
       "9                 KNN_Classifier       98.414471\n",
       "10                SVC_Classifier       98.436802"
      ]
     },
     "execution_count": 107,
     "metadata": {},
     "output_type": "execute_result"
    }
   ],
   "source": [
    "accuracy('SVC_Classifier')"
   ]
  },
  {
   "cell_type": "markdown",
   "metadata": {},
   "source": [
    "## One Vs Rest with AdaBoost Classifier"
   ]
  },
  {
   "cell_type": "code",
   "execution_count": 108,
   "metadata": {},
   "outputs": [],
   "source": [
    "from sklearn.multiclass import OneVsRestClassifier\n",
    "\n",
    "ovr = OneVsRestClassifier(estimator=abc)\n",
    "\n",
    "ovr.fit(X_train, y_train)\n",
    "\n",
    "y_pred = ovr.predict(X_test)"
   ]
  },
  {
   "cell_type": "code",
   "execution_count": 109,
   "metadata": {},
   "outputs": [
    {
     "data": {
      "text/plain": [
       "0.9839213934792318"
      ]
     },
     "execution_count": 109,
     "metadata": {},
     "output_type": "execute_result"
    }
   ],
   "source": [
    "metrics.accuracy_score(y_test, y_pred)"
   ]
  },
  {
   "cell_type": "code",
   "execution_count": 110,
   "metadata": {},
   "outputs": [
    {
     "data": {
      "text/html": [
       "<div>\n",
       "<style scoped>\n",
       "    .dataframe tbody tr th:only-of-type {\n",
       "        vertical-align: middle;\n",
       "    }\n",
       "\n",
       "    .dataframe tbody tr th {\n",
       "        vertical-align: top;\n",
       "    }\n",
       "\n",
       "    .dataframe thead th {\n",
       "        text-align: right;\n",
       "    }\n",
       "</style>\n",
       "<table border=\"1\" class=\"dataframe\">\n",
       "  <thead>\n",
       "    <tr style=\"text-align: right;\">\n",
       "      <th></th>\n",
       "      <th>Model Name</th>\n",
       "      <th>Accuracy Score</th>\n",
       "    </tr>\n",
       "  </thead>\n",
       "  <tbody>\n",
       "    <tr>\n",
       "      <th>0</th>\n",
       "      <td>Naive_Bayes</td>\n",
       "      <td>8.396606</td>\n",
       "    </tr>\n",
       "    <tr>\n",
       "      <th>1</th>\n",
       "      <td>Random_Forest</td>\n",
       "      <td>98.436802</td>\n",
       "    </tr>\n",
       "    <tr>\n",
       "      <th>2</th>\n",
       "      <td>AdaBoost_Classifier</td>\n",
       "      <td>98.436802</td>\n",
       "    </tr>\n",
       "    <tr>\n",
       "      <th>3</th>\n",
       "      <td>Logistic_Regression</td>\n",
       "      <td>98.436802</td>\n",
       "    </tr>\n",
       "    <tr>\n",
       "      <th>4</th>\n",
       "      <td>ExtraTrees_Classifier</td>\n",
       "      <td>98.436802</td>\n",
       "    </tr>\n",
       "    <tr>\n",
       "      <th>5</th>\n",
       "      <td>RandomForest_with_OVR</td>\n",
       "      <td>98.436802</td>\n",
       "    </tr>\n",
       "    <tr>\n",
       "      <th>6</th>\n",
       "      <td>Extratrees_with_OVR</td>\n",
       "      <td>98.436802</td>\n",
       "    </tr>\n",
       "    <tr>\n",
       "      <th>7</th>\n",
       "      <td>Bagging_Classifier</td>\n",
       "      <td>98.436802</td>\n",
       "    </tr>\n",
       "    <tr>\n",
       "      <th>8</th>\n",
       "      <td>Gradient_Boosting_Classifire</td>\n",
       "      <td>98.168825</td>\n",
       "    </tr>\n",
       "    <tr>\n",
       "      <th>9</th>\n",
       "      <td>KNN_Classifier</td>\n",
       "      <td>98.414471</td>\n",
       "    </tr>\n",
       "    <tr>\n",
       "      <th>10</th>\n",
       "      <td>SVC_Classifier</td>\n",
       "      <td>98.436802</td>\n",
       "    </tr>\n",
       "    <tr>\n",
       "      <th>11</th>\n",
       "      <td>AdaBoost_with_OVR</td>\n",
       "      <td>98.392139</td>\n",
       "    </tr>\n",
       "  </tbody>\n",
       "</table>\n",
       "</div>"
      ],
      "text/plain": [
       "                      Model Name  Accuracy Score\n",
       "0                    Naive_Bayes        8.396606\n",
       "1                  Random_Forest       98.436802\n",
       "2            AdaBoost_Classifier       98.436802\n",
       "3            Logistic_Regression       98.436802\n",
       "4          ExtraTrees_Classifier       98.436802\n",
       "5          RandomForest_with_OVR       98.436802\n",
       "6            Extratrees_with_OVR       98.436802\n",
       "7             Bagging_Classifier       98.436802\n",
       "8   Gradient_Boosting_Classifire       98.168825\n",
       "9                 KNN_Classifier       98.414471\n",
       "10                SVC_Classifier       98.436802\n",
       "11             AdaBoost_with_OVR       98.392139"
      ]
     },
     "execution_count": 110,
     "metadata": {},
     "output_type": "execute_result"
    }
   ],
   "source": [
    "accuracy('AdaBoost_with_OVR')"
   ]
  },
  {
   "cell_type": "markdown",
   "metadata": {},
   "source": [
    "# Again Performing on test Data"
   ]
  },
  {
   "cell_type": "code",
   "execution_count": 78,
   "metadata": {},
   "outputs": [],
   "source": [
    "from sklearn.ensemble import RandomForestClassifier\n",
    "\n",
    "rf = RandomForestClassifier()\n",
    "\n",
    "rf.fit(X_train,y_train)\n",
    "\n",
    "y_pred = rf.predict(X_test1)"
   ]
  },
  {
   "cell_type": "code",
   "execution_count": 111,
   "metadata": {},
   "outputs": [],
   "source": [
    "# printing y_pred\n",
    "y_pred"
   ]
  },
  {
   "cell_type": "markdown",
   "metadata": {},
   "source": [
    "# Performing inverse transform of Label Encoder"
   ]
  },
  {
   "cell_type": "code",
   "execution_count": 112,
   "metadata": {},
   "outputs": [],
   "source": [
    "# list of label encoder classes\n",
    "list(le.classes_)"
   ]
  },
  {
   "cell_type": "code",
   "execution_count": 113,
   "metadata": {},
   "outputs": [
    {
     "data": {
      "text/plain": [
       "array([ 0,  1,  2,  3,  4,  5,  6,  7,  8,  9, 10, 11, 12, 13, 14, 15, 16,\n",
       "       17, 18, 19, 20, 21, 22, 23, 24, 25], dtype=int64)"
      ]
     },
     "execution_count": 113,
     "metadata": {},
     "output_type": "execute_result"
    }
   ],
   "source": [
    "# transforming all the classes here\n",
    "le.transform(['Breezy',\n",
    " 'Breezy and Dry',\n",
    " 'Breezy and Foggy',\n",
    " 'Breezy and Mostly Cloudy',\n",
    " 'Breezy and Overcast',\n",
    " 'Breezy and Partly Cloudy',\n",
    " 'Clear',\n",
    " 'Dangerously Windy and Partly Cloudy',\n",
    " 'Drizzle',\n",
    " 'Dry',\n",
    " 'Dry and Mostly Cloudy',\n",
    " 'Dry and Partly Cloudy',\n",
    " 'Foggy',\n",
    " 'Humid and Mostly Cloudy',\n",
    " 'Humid and Overcast',\n",
    " 'Humid and Partly Cloudy',\n",
    " 'Light Rain',\n",
    " 'Mostly Cloudy',\n",
    " 'Overcast',\n",
    " 'Partly Cloudy',\n",
    " 'Windy',\n",
    " 'Windy and Dry',\n",
    " 'Windy and Foggy',\n",
    " 'Windy and Mostly Cloudy',\n",
    " 'Windy and Overcast',\n",
    " 'Windy and Partly Cloudy'])"
   ]
  },
  {
   "cell_type": "code",
   "execution_count": 114,
   "metadata": {},
   "outputs": [],
   "source": [
    "# creating 1 variable named var\n",
    "# concating the day of test dataset and predicted values \n",
    "var = pd.concat([test_day, pd.DataFrame(list(le.inverse_transform(y_pred)))],axis=1)\n",
    "\n",
    "# giving columns = Day and Cloud_Condition\n",
    "var.columns=['Day','Cloud_Condition']"
   ]
  },
  {
   "cell_type": "code",
   "execution_count": 115,
   "metadata": {},
   "outputs": [],
   "source": [
    "# checking top 5 rows of var\n",
    "var.head()"
   ]
  },
  {
   "cell_type": "code",
   "execution_count": 116,
   "metadata": {},
   "outputs": [],
   "source": [
    "# exporting dataset to computer memory\n",
    "hack_result1 = var.to_csv('C:\\\\Users\\\\ppluc\\\\Downloads\\\\Dataset\\\\Pratik_Parate.csv')"
   ]
  },
  {
   "cell_type": "code",
   "execution_count": null,
   "metadata": {},
   "outputs": [],
   "source": []
  }
 ],
 "metadata": {
  "kernelspec": {
   "display_name": "Python 3",
   "language": "python",
   "name": "python3"
  },
  "language_info": {
   "codemirror_mode": {
    "name": "ipython",
    "version": 3
   },
   "file_extension": ".py",
   "mimetype": "text/x-python",
   "name": "python",
   "nbconvert_exporter": "python",
   "pygments_lexer": "ipython3",
   "version": "3.8.5"
  }
 },
 "nbformat": 4,
 "nbformat_minor": 4
}
